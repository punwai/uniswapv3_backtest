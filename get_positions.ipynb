{
 "cells": [
  {
   "cell_type": "markdown",
   "id": "e507957e",
   "metadata": {},
   "source": [
    "### This notebook is to generate df of Positions, that is resulted in our strategy"
   ]
  },
  {
   "cell_type": "code",
   "execution_count": 1,
   "id": "3de8caf7",
   "metadata": {},
   "outputs": [],
   "source": [
    "import pandas as pd\n",
    "from math import sqrt\n",
    "import math\n",
    "\n",
    "import requests\n",
    "import json\n",
    "import numpy as np\n",
    "\n",
    "import UNI_v3_funcs as liq_amounts\n",
    "import load_data"
   ]
  },
  {
   "cell_type": "markdown",
   "id": "15229f7f",
   "metadata": {},
   "source": [
    "### Query Functions"
   ]
  },
  {
   "cell_type": "code",
   "execution_count": 2,
   "id": "14f72013",
   "metadata": {},
   "outputs": [],
   "source": [
    "def get_cprice_tick_at_mint(token0, token1, feeTier, mint_time, decimal0, decimal1):\n",
    "    \n",
    "    # get token_ids\n",
    "    token0_id = load_data.get_token_id(token0)\n",
    "    token1_id = load_data.get_token_id(token1)\n",
    "    pool_id = load_data.get_pool_id(token0_id, token1_id, feeTier)\n",
    "        \n",
    "    # query price at that specific time\n",
    "    query_ = \"\"\"\n",
    "    {{\n",
    "      poolHourDatas(first:1,\n",
    "      where:{{ pool: \"{}\",\n",
    "      periodStartUnix: {} }}\n",
    "      ){{\n",
    "        tick\n",
    "      }}\n",
    "    }}\"\"\".format(pool_id, mint_time)\n",
    "    \n",
    "    query_result_ = load_data.run_query(query_)\n",
    "    json_data_ = json.loads(query_result_.text)\n",
    "    \n",
    "    ctick = int(json_data_['data']['poolHourDatas'][0]['tick'])\n",
    "    cprice = tick_to_price(ctick,decimal0, decimal1)\n",
    "    \n",
    "    return cprice, ctick\n",
    "\n",
    "def get_decimals(token_symbol):\n",
    "    query_ = \"\"\"\n",
    "    {{\n",
    "      tokens(first:10,\n",
    "      where:{{ symbol: \"{}\"}}\n",
    "      ){{\n",
    "        decimals\n",
    "      }}\n",
    "    }}\"\"\".format(token_symbol)\n",
    "    \n",
    "    query_result_ = load_data.run_query(query_)\n",
    "    json_data_ = json.loads(query_result_.text)\n",
    "    decimal_ = float(json_data_['data']['tokens'][0]['decimals'])\n",
    "    \n",
    "    return decimal_"
   ]
  },
  {
   "cell_type": "markdown",
   "id": "f6af5536",
   "metadata": {},
   "source": [
    "### Positions Genrations"
   ]
  },
  {
   "cell_type": "code",
   "execution_count": 9,
   "id": "63f3cddf",
   "metadata": {},
   "outputs": [],
   "source": [
    "def get_positions_fixed_strategy(mint_time, burn_time, upper_, lower_, decimal0_, decimal1_):\n",
    "    \n",
    "    df_positions = pd.DataFrame()\n",
    "    df_positions['periodStartUnix'] = list(range(mint_time, burn_time+1, 3600))\n",
    "    df_positions['upper'] = upper_\n",
    "    df_positions['lower'] = lower_\n",
    "    df_positions['upper_tick'] = price_to_tick(upper_, decimal0_, decimal1_)\n",
    "    df_positions['lower_tick'] = price_to_tick(lower_, decimal0_, decimal1_)\n",
    "    \n",
    "    return df_positions"
   ]
  },
  {
   "cell_type": "markdown",
   "id": "4e80a38c",
   "metadata": {},
   "source": [
    "### Calculations Functions"
   ]
  },
  {
   "cell_type": "code",
   "execution_count": 3,
   "id": "f5874413",
   "metadata": {},
   "outputs": [],
   "source": [
    "def price_to_tick(price_, decimal0_, decimal1_):\n",
    "    # convert price (token1 by token0) to tick\n",
    "    tick_ = math.floor( math.log(price_*10**(decimal1_-decimal0_), 1.0001) )\n",
    "    return tick_\n",
    "\n",
    "def tick_to_price(tick_,decimal0_, decimal1_):\n",
    "    price_ = (1.0001**tick_/10**(decimal1_-decimal0_))\n",
    "    return price_"
   ]
  },
  {
   "cell_type": "code",
   "execution_count": 19,
   "id": "00b01c63",
   "metadata": {},
   "outputs": [],
   "source": [
    "def check_inRange(ctick, lower_tick, upper_tick):\n",
    "\n",
    "    if int(ctick) > int(upper_tick):\n",
    "        inRange = False\n",
    "    elif int(ctick) < int(lower_tick):\n",
    "        inRange = False\n",
    "    else: \n",
    "        inRange = True\n",
    "    \n",
    "    return inRange"
   ]
  },
  {
   "cell_type": "code",
   "execution_count": 35,
   "id": "e44a945c",
   "metadata": {},
   "outputs": [],
   "source": [
    "# Calculate Fees\n",
    "# TODO: Clean this up, take out features that we dont need to calculate fees\n",
    "def get_fees(lower_tick_, upper_tick_, ctick_,  L_Pool_, swap_Volume_, amount0_p, amount1_p, amt0_, amt1_, decimal0_, decimal1_, feeTier, mint_tick):\n",
    "    # (lower_tick_, upper_tick_) from df_positions\n",
    "    # (ctick, L_Pool, swap_volume, amount0_p, amount1_p) from df_merged\n",
    "    # (amt0, amt1) - this changes based on swaps, but doesnt matter, bacause liquidity always constant\n",
    "    # (decimal0, decimal1, feetier, mint_tick) - fixeds\n",
    "    \n",
    "    mint_liquidity = liq_amounts.get_liquidity(mint_tick, lower_tick_,upper_tick_, amt0_, amt1_, decimal0_, decimal1_)\n",
    "    L_you_ = mint_liquidity # always constant, according to JNP\n",
    "    \n",
    "    inRange_ = check_inRange(ctick_, lower_tick_,upper_tick_)\n",
    "    \n",
    "    if inRange_:\n",
    "        pool_share_ = (L_you_/L_Pool_)\n",
    "        pool_fee_rate_ = float(feeTier) / 10000\n",
    "        fees_0 = pool_share_ * amount0_p * pool_fee_rate_ / 100\n",
    "        fees_1 = pool_share_ * amount1_p * pool_fee_rate_ / 100\n",
    "    else:\n",
    "        fees_0 = 0\n",
    "        fees_1 = 0\n",
    "        pool_share_ = 0\n",
    "    \n",
    "    return fees_0, fees_1, pool_share_, L_you_"
   ]
  },
  {
   "cell_type": "code",
   "execution_count": 34,
   "id": "3a1995fc",
   "metadata": {},
   "outputs": [],
   "source": [
    "def calculate_pnl_from_positions(df_merged, df_positions):\n",
    "    # TODO: re-calculate amount0 and amount1 to account for every swaps, not just deltas of that hour\n",
    "    # use amount0_new and amount1_new instead of amountUSD, and get total accured fees in tokens\n",
    "    # Swap_amountIn > so the fees is get from the (+) positive tokens\n",
    "    # Therefore, fees you get is in \n",
    "    # Convert those tokens into value (convert using TODAY's value or mints's value?)\n",
    "    \n",
    "    merge_feat = ['periodStartUnix', 'tick','liquidity', 'amountUSD', 'amount0_p', 'amount1_p']\n",
    "\n",
    "    df_positions_fees = df_positions.merge(df_merged[merge_feat], how='left', on='periodStartUnix')\n",
    "    df_positions_fees['liquidity'] = df_positions_fees['liquidity'].astype(float)\n",
    "\n",
    "    df_positions_fees = df_positions_fees.reset_index() # cleaning it just in case\n",
    "    for index, row in df_positions_fees.iterrows():\n",
    "        row = row.copy()\n",
    "        fees_0, fees_1, pool_share, L_you = get_fees(row['lower_tick'],row['upper_tick'],row['tick'],\n",
    "                        float(row['liquidity']),row['amountUSD'],\n",
    "                        row['amount0_p'], row['amount1_p'],\n",
    "                        MINT_AMT0, MINT_AMT1, DECIMAL0, DECIMAL1, FEETIER, MINT_TICK)\n",
    "       \n",
    "        df_positions_fees.loc[index, 'fees_0'] = fees_0\n",
    "        df_positions_fees.loc[index, 'fees_1'] = fees_1\n",
    "        df_positions_fees.loc[index, 'pool_share'] = pool_share\n",
    "        df_positions_fees.loc[index, 'L_you'] = L_you\n",
    "        \n",
    "    return df_positions_fees"
   ]
  },
  {
   "cell_type": "markdown",
   "id": "21ee74d7",
   "metadata": {},
   "source": [
    "### Main"
   ]
  },
  {
   "cell_type": "code",
   "execution_count": 130,
   "id": "3ca48e39",
   "metadata": {},
   "outputs": [
    {
     "name": "stdout",
     "output_type": "stream",
     "text": [
      "6.0 18.0\n",
      " \n",
      "get_token_id: USDC\n",
      "{'data': {'tokens': [{'id': '0xa0b86991c6218b36c1d19d4a2e9eb0ce3606eb48', 'name': 'USD Coin', 'symbol': 'USDC'}]}}\n",
      " \n",
      "get_token_id: WETH\n",
      "{'data': {'tokens': [{'id': '0xc02aaa39b223fe8d0a0e5c4f27ead9083c756cc2', 'name': 'Wrapped Ether', 'symbol': 'WETH'}]}}\n",
      "\n",
      " get_pool_id for feeTier: 3000\n",
      "{'data': {'pools': [{'feeTier': '3000', 'id': '0x8ad599c3a0ff1de082011efddc58f1908eb6e6d8', 'token0': {'symbol': 'USDC'}, 'token1': {'symbol': 'WETH'}}]}}\n",
      "\n",
      "    {\n",
      "      poolHourDatas(first:1,\n",
      "      where:{ pool: \"0x8ad599c3a0ff1de082011efddc58f1908eb6e6d8\",\n",
      "      periodStartUnix: 1622304000 }\n",
      "      ){\n",
      "        tick\n",
      "      }\n",
      "    }\n",
      "0.00042136376404820986 2373.2463142834135\n",
      "198600\n"
     ]
    }
   ],
   "source": [
    "# STEP 0:  PROVIDE BY USERS\n",
    "UPPER = 1/1844.6164 # 1/1844.6164  # token1 per token0 (in terms of price)\n",
    "LOWER = 1/2858.3641 # 1/2858.3641  # 1/2376.6075 \n",
    "FEETIER = '3000' # 0.3 = 3000/10000\n",
    "TOKEN0 = 'USDC'\n",
    "TOKEN1 = 'WETH'\n",
    "# needs to start with the hour (unixTime % 3600 = 0)\n",
    "MINT_TIME = 1622304000 # 4PM May 29 (UTC/GMT)\n",
    "BURN_TIME = 1627866000 # 1AM Aug 02 (UTC/GMT)\n",
    "\n",
    "\n",
    "# Get required constants\n",
    "DECIMAL0 = get_decimals(TOKEN0)\n",
    "DECIMAL1 = get_decimals(TOKEN1)\n",
    "print(DECIMAL0, DECIMAL1)\n",
    "\n",
    "MINT_PRICE, MINT_TICK = get_cprice_tick_at_mint(TOKEN0, TOKEN1, FEETIER, MINT_TIME, DECIMAL0, DECIMAL1)\n",
    "print(MINT_PRICE, 1/MINT_PRICE)\n",
    "print(MINT_TICK)\n",
    "\n",
    "\n",
    "# STEP 1 (TODO): CALCULATED BY ALGORITHM, JNP's amounts_relation ?\n",
    "# THIS CHANGES over time when swaps happens, and we need this to calculate IL\n",
    "MINT_AMT0 = 252208.7053\n",
    "MINT_AMT1 = 99.0604"
   ]
  },
  {
   "cell_type": "code",
   "execution_count": 131,
   "id": "e1d89aae",
   "metadata": {},
   "outputs": [],
   "source": [
    "# STEP 3 (TODO): Generate df_positions\n",
    "df_positions = get_positions_fixed_strategy(MINT_TIME, BURN_TIME, UPPER, LOWER, DECIMAL0, DECIMAL1)"
   ]
  },
  {
   "cell_type": "code",
   "execution_count": 132,
   "id": "91d6a948",
   "metadata": {
    "scrolled": true
   },
   "outputs": [],
   "source": [
    "# Get DF_Merged (accumulated swaps data)\n",
    "df_merged = pd.read_csv('../data/df_merged_tmp_USDC-WETH-3000-timestamp-1627873200-1620169200.csv')\n",
    "# df_merged = load_data.get_data(TOKEN0, TOKEN1, FEETIER)"
   ]
  },
  {
   "cell_type": "code",
   "execution_count": 133,
   "id": "5a91faf8",
   "metadata": {},
   "outputs": [],
   "source": [
    "# STEP 4 (TODO): Calculate Fees, IL and PNL at each hour, and append to df_positions\n",
    "df_positions_fees = calculate_pnl_from_positions(df_merged, df_positions)"
   ]
  },
  {
   "cell_type": "code",
   "execution_count": 134,
   "id": "1d3e53c3",
   "metadata": {},
   "outputs": [],
   "source": [
    "# STEP 5 (TODO): also accoutning for minting/burning/swaping costs into PNL"
   ]
  },
  {
   "cell_type": "code",
   "execution_count": 146,
   "id": "cd2b4ccd",
   "metadata": {},
   "outputs": [
    {
     "name": "stdout",
     "output_type": "stream",
     "text": [
      "35629.55542019289 16.005475229177847 76634.62262883279\n",
      "error margin token0 = 5.730975069579025 %, token1 = 4.9868450064287195 %\n"
     ]
    }
   ],
   "source": [
    "TOKEN0_TO_USD = 1\n",
    "TOKEN1_TO_USD = 2561.94\n",
    "\n",
    "totalfees_token0 = df_positions_fees['fees_0'].sum()\n",
    "totalfees_token1 = df_positions_fees['fees_1'].sum()\n",
    "\n",
    "fees_token0 = df_positions_fees['fees_0'].sum()\n",
    "fees_token1 = df_positions_fees['fees_1'].sum()\n",
    "\n",
    "totalfees_USD = ( fees_token0*TOKEN0_TO_USD )+ (fees_token1 *TOKEN1_TO_USD)\n",
    "\n",
    "print(fees_token0, fees_token1, totalfees_USD)\n",
    "revert_fees0 = 37795.612553\n",
    "revert_fees1 = 16.845536\n",
    "error_margin_fees0 = (1 - fees_token0/revert_fees0)*100\n",
    "error_margin_fees1 = (1 - fees_token1/revert_fees1)*100\n",
    "print('error margin token0 = {} %, token1 = {} %'.format(error_margin_fees0, error_margin_fees1))"
   ]
  },
  {
   "cell_type": "code",
   "execution_count": null,
   "id": "96a699b9",
   "metadata": {},
   "outputs": [],
   "source": []
  },
  {
   "cell_type": "code",
   "execution_count": null,
   "id": "4682dc61",
   "metadata": {},
   "outputs": [],
   "source": []
  },
  {
   "cell_type": "code",
   "execution_count": null,
   "id": "3e480423",
   "metadata": {},
   "outputs": [],
   "source": []
  },
  {
   "cell_type": "code",
   "execution_count": null,
   "id": "44626a07",
   "metadata": {},
   "outputs": [],
   "source": []
  },
  {
   "cell_type": "code",
   "execution_count": null,
   "id": "531ecf72",
   "metadata": {},
   "outputs": [],
   "source": []
  },
  {
   "cell_type": "code",
   "execution_count": null,
   "id": "643ddc94",
   "metadata": {},
   "outputs": [],
   "source": []
  },
  {
   "cell_type": "code",
   "execution_count": null,
   "id": "0c47c539",
   "metadata": {},
   "outputs": [],
   "source": [
    "# # L_you calculation / inRange\n",
    "# # 4B. JNP: Use 'get_liquidity' function to calculate liquidity as a function of amounts and price range\n",
    "\n",
    "# # TODO: Dont need this, use JNP code, only need the inRange thing \n",
    "\n",
    "# def get_liquidity0(sqrtA,sqrtB,amount0,decimals):\n",
    "    \n",
    "#     if (sqrtA > sqrtB):\n",
    "#           (sqrtA,sqrtB)=(sqrtB,sqrtA)\n",
    "    \n",
    "#     liquidity=amount0/((2**96*(sqrtB-sqrtA)/sqrtB/sqrtA)/10**decimals)\n",
    "#     return liquidity\n",
    "\n",
    "# def get_liquidity1(sqrtA,sqrtB,amount1,decimals):\n",
    "    \n",
    "#     if (sqrtA > sqrtB):\n",
    "#         (sqrtA,sqrtB)=(sqrtB,sqrtA)\n",
    "    \n",
    "#     liquidity=amount1/((sqrtB-sqrtA)/2**96/10**decimals)\n",
    "#     return liquidity\n",
    "\n",
    "# def get_liquidity(tick,tickA,tickB,amount0,amount1,decimal0,decimal1):\n",
    "    \n",
    "#         sqrt=(1.0001**(tick/2)*(2**96))\n",
    "#         sqrtA=(1.0001**(tickA/2)*(2**96))\n",
    "#         sqrtB=(1.0001**(tickB/2)*(2**96))\n",
    "#         if (sqrtA > sqrtB):\n",
    "#             (sqrtA,sqrtB)=(sqrtB,sqrtA)\n",
    "    \n",
    "#         if sqrt<=sqrtA:\n",
    "            \n",
    "#             liquidity0=get_liquidity0(sqrtA,sqrtB,amount0,decimal0)\n",
    "#             inRange = False\n",
    "#             return liquidity0, inRange\n",
    "#         elif sqrt<sqrtB and sqrt>sqrtA:\n",
    "\n",
    "#             liquidity0=get_liquidity0(sqrt,sqrtB,amount0,decimal0)\n",
    "#             liquidity1=get_liquidity1(sqrtA,sqrt,amount1,decimal1)\n",
    "            \n",
    "#             liquidity=liquidity0 if liquidity0<liquidity1 else liquidity1\n",
    "#             inRange = True\n",
    "#             return liquidity, inRange\n",
    "        \n",
    "#         else:\n",
    "#             liquidity1=get_liquidity1(sqrtA,sqrtB,amount1,decimal1)\n",
    "#             inRange = False\n",
    "#             return liquidity1, inRange"
   ]
  }
 ],
 "metadata": {
  "kernelspec": {
   "display_name": "Python 3",
   "language": "python",
   "name": "python3"
  },
  "language_info": {
   "codemirror_mode": {
    "name": "ipython",
    "version": 3
   },
   "file_extension": ".py",
   "mimetype": "text/x-python",
   "name": "python",
   "nbconvert_exporter": "python",
   "pygments_lexer": "ipython3",
   "version": "3.8.10"
  }
 },
 "nbformat": 4,
 "nbformat_minor": 5
}
