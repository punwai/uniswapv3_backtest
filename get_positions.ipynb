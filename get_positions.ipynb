{
 "cells": [
  {
   "cell_type": "markdown",
   "id": "e507957e",
   "metadata": {},
   "source": [
    "### This notebook is to generate df of Positions, that is resulted in our strategy"
   ]
  },
  {
   "cell_type": "code",
   "execution_count": 1,
   "id": "4601e5ef",
   "metadata": {},
   "outputs": [],
   "source": [
    "import pandas as pd\n",
    "from math import sqrt\n",
    "import math\n",
    "\n",
    "import requests\n",
    "import json\n",
    "import numpy as np\n",
    "\n",
    "import UNI_v3_funcs as liq_amounts\n",
    "import load_data"
   ]
  },
  {
   "cell_type": "markdown",
   "id": "4e59c671",
   "metadata": {},
   "source": [
    "### Query Functions"
   ]
  },
  {
   "cell_type": "code",
   "execution_count": 2,
   "id": "e4850aaa",
   "metadata": {},
   "outputs": [],
   "source": [
    "def get_cprice_tick_at_mint(token0, token1, feeTier, mint_time, decimal0, decimal1):\n",
    "    \n",
    "    # get token_ids\n",
    "    token0_id = load_data.get_token_id(token0)\n",
    "    token1_id = load_data.get_token_id(token1)\n",
    "    pool_id = load_data.get_pool_id(token0_id, token1_id, feeTier)\n",
    "        \n",
    "    # query price at that specific time\n",
    "    query_ = \"\"\"\n",
    "    {{\n",
    "      poolHourDatas(first:1,\n",
    "      where:{{ pool: \"{}\",\n",
    "      periodStartUnix: {} }}\n",
    "      ){{\n",
    "        tick\n",
    "      }}\n",
    "    }}\"\"\".format(pool_id, mint_time)\n",
    "    \n",
    "    query_result_ = load_data.run_query(query_)\n",
    "    json_data_ = json.loads(query_result_.text)\n",
    "    \n",
    "    ctick = int(json_data_['data']['poolHourDatas'][0]['tick'])\n",
    "    cprice = tick_to_price(ctick,decimal0, decimal1)\n",
    "    \n",
    "    return cprice, ctick\n",
    "\n",
    "def get_decimals(token_symbol):\n",
    "    query_ = \"\"\"\n",
    "    {{\n",
    "      tokens(first:10,\n",
    "      where:{{ symbol: \"{}\"}}\n",
    "      ){{\n",
    "        decimals\n",
    "      }}\n",
    "    }}\"\"\".format(token_symbol)\n",
    "    \n",
    "    query_result_ = load_data.run_query(query_)\n",
    "    json_data_ = json.loads(query_result_.text)\n",
    "    decimal_ = float(json_data_['data']['tokens'][0]['decimals'])\n",
    "    \n",
    "    return decimal_"
   ]
  },
  {
   "cell_type": "markdown",
   "id": "93739208",
   "metadata": {},
   "source": [
    "### Positions Genrations"
   ]
  },
  {
   "cell_type": "code",
   "execution_count": 3,
   "id": "6a5c1c8f",
   "metadata": {},
   "outputs": [],
   "source": [
    "def get_positions_fixed_strategy(mint_time, burn_time, upper_, lower_, \n",
    "                                 decimal0_, decimal1_, feetier_, \n",
    "                                 mint_amount0, mint_amount1, mint_tick):\n",
    "    \n",
    "    df_positions = pd.DataFrame()\n",
    "    df_positions['periodStartUnix'] = list(range(mint_time, burn_time+1, 3600))\n",
    "    df_positions['upper'] = upper_\n",
    "    df_positions['lower'] = lower_\n",
    "    df_positions['upper_tick'] = price_to_tick(upper_, decimal0_, decimal1_)\n",
    "    df_positions['lower_tick'] = price_to_tick(lower_, decimal0_, decimal1_)\n",
    "    \n",
    "    df_positions['mint_amount0'] = mint_amount0\n",
    "    df_positions['mint_amount1'] = mint_amount1\n",
    "    df_positions['decimal0'] = decimal0_\n",
    "    df_positions['decimal1'] = decimal1_\n",
    "    df_positions['feeTier'] = int(feetier_)    \n",
    "    df_positions['mint_tick'] = int(mint_tick)\n",
    "    \n",
    "    return df_positions"
   ]
  },
  {
   "cell_type": "markdown",
   "id": "7c24219b",
   "metadata": {},
   "source": [
    "### Calculations Functions"
   ]
  },
  {
   "cell_type": "code",
   "execution_count": 4,
   "id": "56846003",
   "metadata": {},
   "outputs": [],
   "source": [
    "def price_to_tick(price_, decimal0_, decimal1_):\n",
    "    # convert price (token1 by token0) to tick\n",
    "    tick_ = math.floor( math.log(price_*10**(decimal1_-decimal0_), 1.0001) )\n",
    "    return tick_\n",
    "\n",
    "def tick_to_price(tick_,decimal0_, decimal1_):\n",
    "    price_ = (1.0001**tick_/10**(decimal1_-decimal0_))\n",
    "    return price_"
   ]
  },
  {
   "cell_type": "code",
   "execution_count": 5,
   "id": "90cd0574",
   "metadata": {},
   "outputs": [],
   "source": [
    "def check_inRange(ctick, lower_tick, upper_tick):\n",
    "\n",
    "    if int(ctick) >= int(upper_tick): # change from > to >=\n",
    "        inRange = 0\n",
    "    elif int(ctick) < int(lower_tick):\n",
    "        inRange = 0\n",
    "    else: \n",
    "        inRange = 1\n",
    "    \n",
    "    return inRange"
   ]
  },
  {
   "cell_type": "code",
   "execution_count": null,
   "id": "7fa22994",
   "metadata": {},
   "outputs": [],
   "source": [
    "# # Calculate Fees\n",
    "# # TODO: Clean this up (make it DF operations, make it just 1 function)\n",
    "\n",
    "\n",
    "# def get_fees(lower_tick_, upper_tick_, ctick_,  L_Pool_, swap_Volume_, amount0_p, amount1_p, amt0_, amt1_, decimal0_, decimal1_, feeTier, mint_tick):\n",
    "#     # (lower_tick_, upper_tick_) from df_positions\n",
    "#     # (ctick, L_Pool, swap_volume, amount0_p, amount1_p) from df_merged\n",
    "#     # (amt0, amt1) - this changes based on swaps, but doesnt matter, bacause liquidity always constant\n",
    "#     # (decimal0, decimal1, feetier, mint_tick) - fixeds\n",
    "    \n",
    "#     mint_liquidity = liq_amounts.get_liquidity(mint_tick, lower_tick_,upper_tick_, amt0_, amt1_, decimal0_, decimal1_)\n",
    "#     L_you_ = mint_liquidity # always constant, according to JNP\n",
    "    \n",
    "#     inRange_ = check_inRange(ctick_, lower_tick_,upper_tick_)\n",
    "    \n",
    "#     if inRange_:\n",
    "#         pool_share_ = (L_you_/L_Pool_)\n",
    "#         pool_fee_rate_ = float(feeTier) / 10000\n",
    "#         fees_0 = pool_share_ * amount0_p * pool_fee_rate_ / 100\n",
    "#         fees_1 = pool_share_ * amount1_p * pool_fee_rate_ / 100\n",
    "#     else:\n",
    "#         fees_0 = 0\n",
    "#         fees_1 = 0\n",
    "#         pool_share_ = 0\n",
    "    \n",
    "#     return fees_0, fees_1, pool_share_, L_you_\n",
    "\n",
    "# def calculate_pnl_from_positions(df_merged, df_positions):\n",
    "#     # TODO: re-calculate amount0 and amount1 to account for every swaps, not just deltas of that hour\n",
    "#     # use amount0_new and amount1_new instead of amountUSD, and get total accured fees in tokens\n",
    "#     # Swap_amountIn > so the fees is get from the (+) positive tokens\n",
    "#     # Therefore, fees you get is in \n",
    "#     # Convert those tokens into value (convert using TODAY's value or mints's value?)\n",
    "    \n",
    "#     merge_feat = ['periodStartUnix', 'tick','liquidity', 'amountUSD', 'amount0_p', 'amount1_p']\n",
    "\n",
    "#     df_positions_fees = df_positions.merge(df_merged[merge_feat], how='left', on='periodStartUnix')\n",
    "#     df_positions_fees['liquidity'] = df_positions_fees['liquidity'].astype(float)\n",
    "\n",
    "#     df_positions_fees = df_positions_fees.reset_index() # cleaning it just in case\n",
    "#     for index, row in df_positions_fees.iterrows():\n",
    "#         row = row.copy()\n",
    "#         fees_0, fees_1, pool_share, L_you = get_fees(row['lower_tick'],row['upper_tick'],row['tick'],\n",
    "#                         float(row['liquidity']),row['amountUSD'],\n",
    "#                         row['amount0_p'], row['amount1_p'],\n",
    "#                         MINT_AMT0, MINT_AMT1, DECIMAL0, DECIMAL1, FEETIER, MINT_TICK)\n",
    "       \n",
    "#         df_positions_fees.loc[index, 'fees_0'] = fees_0\n",
    "#         df_positions_fees.loc[index, 'fees_1'] = fees_1\n",
    "#         df_positions_fees.loc[index, 'pool_share'] = pool_share\n",
    "#         df_positions_fees.loc[index, 'L_you'] = L_you\n",
    "        \n",
    "#     return df_positions_fees"
   ]
  },
  {
   "cell_type": "code",
   "execution_count": 6,
   "id": "43808ec9",
   "metadata": {},
   "outputs": [],
   "source": [
    "def get_fees_from_positions(df_merged_, df_positions_):\n",
    "    \n",
    "    merge_feat_ = ['periodStartUnix', 'tick','liquidity','sqrtPrice', \n",
    "                   'feeGrowthGlobal0X128', 'feeGrowthGlobal1X128',\n",
    "                   'feeGrowthGlobal0X128_hour', 'feeGrowthGlobal1X128_hour',\n",
    "                   'amountUSD', 'amount0_p', 'amount1_p']\n",
    "    df_ = df_positions_.merge(df_merged_[merge_feat_], how='left',on='periodStartUnix')\n",
    "    df_['liquidity'] = df_['liquidity'].astype(float) # as float\n",
    "    df_['sqrtPrice'] = df_['sqrtPrice'].astype(float)\n",
    "    df_['feeGrowthGlobal0X128'] = df_['feeGrowthGlobal0X128'].astype(float)\n",
    "    df_['feeGrowthGlobal1X128'] = df_['feeGrowthGlobal1X128'].astype(float)\n",
    "    \n",
    "    # CAREFUL: \n",
    "    print('Shape Before dropNA: {}'.format(df_.shape))\n",
    "    df_ = df_.dropna(subset=['tick','liquidity'])\n",
    "    print('Shape After dropNA: {}'.format(df_.shape))\n",
    "    \n",
    "    # assigns features neccessary for fees calculation\n",
    "    df_['L_you'] = df_.apply(lambda x: liq_amounts.get_liquidity(x['mint_tick'], x['lower_tick'],\n",
    "                                            x['upper_tick'], x['mint_amount0'], x['mint_amount1'],\n",
    "                                            x['decimal0'], x['decimal1']), axis=1)\n",
    "\n",
    "#     df_['pool_share'] = df_['L_you']/df_['liquidity']\n",
    "    df_['pool_share'] = df_['L_you'] / ( df_['liquidity'] + df_['L_you'] )\n",
    "    df_['inRange'] = df_.apply(lambda x: check_inRange(x['tick'], \n",
    "                                            x['lower_tick'], x['upper_tick']),axis=1)\n",
    "    \n",
    "    # Calculate Fees via amount_p\n",
    "    df_['fees0'] = df_['inRange'] * df_['pool_share'] * df_['amount0_p'] * df_['feeTier'] / (10000*100)\n",
    "    df_['fees1'] = df_['inRange'] * df_['pool_share'] * df_['amount1_p'] * df_['feeTier'] / (10000*100)\n",
    "\n",
    "    # Calculate Fees via feeGrowthGlobal0X128_hour\n",
    "    decimal0 = df_['decimal0']\n",
    "    decimal1 = df_['decimal1'] # / (10**decimal0) \n",
    "    df_['fees0_G'] = df_['inRange'] * ( df_['feeGrowthGlobal0X128_hour'] * df_['L_you'] )  / (2**128) / (10**decimal0)  \n",
    "    df_['fees1_G'] = df_['inRange'] * ( df_['feeGrowthGlobal1X128_hour'] * df_['L_you'] ) / (2**128) / (10**decimal1) \n",
    "    \n",
    "    return df_"
   ]
  },
  {
   "cell_type": "code",
   "execution_count": null,
   "id": "9978055e",
   "metadata": {},
   "outputs": [],
   "source": []
  },
  {
   "cell_type": "code",
   "execution_count": null,
   "id": "b3f11d96",
   "metadata": {},
   "outputs": [],
   "source": []
  },
  {
   "cell_type": "code",
   "execution_count": null,
   "id": "9b82af4b",
   "metadata": {},
   "outputs": [],
   "source": []
  },
  {
   "cell_type": "code",
   "execution_count": null,
   "id": "38dce291",
   "metadata": {},
   "outputs": [],
   "source": []
  },
  {
   "cell_type": "markdown",
   "id": "bbf55292",
   "metadata": {},
   "source": [
    "### Main"
   ]
  },
  {
   "cell_type": "code",
   "execution_count": null,
   "id": "c7baa817",
   "metadata": {},
   "outputs": [],
   "source": []
  },
  {
   "cell_type": "code",
   "execution_count": null,
   "id": "c48914f4",
   "metadata": {},
   "outputs": [],
   "source": [
    "# # STEP 0:  PROVIDE BY USERS\n",
    "# UPPER = 1/1844.6164 # 1/1844.6164  # token1 per token0 (in terms of price)\n",
    "# LOWER = 1/2858.3641 # 1/2858.3641  # 1/2376.6075 \n",
    "# FEETIER = '3000' # 0.3 = 3000/10000\n",
    "# TOKEN0 = 'USDC'\n",
    "# TOKEN1 = 'WETH'\n",
    "# # needs to start with the hour (unixTime % 3600 = 0)\n",
    "# MINT_TIME = 1622304000 # 4PM May 29 (UTC/GMT)\n",
    "# BURN_TIME = 1627866000 # 1AM Aug 02 (UTC/GMT)\n",
    "\n",
    "# # STEP 1 (TODO): CALCULATED BY ALGORITHM, JNP's amounts_relation ?\n",
    "# # THIS CHANGES over time when swaps happens, and we need this to calculate IL\n",
    "# MINT_AMT0 = 252208.7053\n",
    "# MINT_AMT1 = 99.0604"
   ]
  },
  {
   "cell_type": "code",
   "execution_count": null,
   "id": "cf1d57d1",
   "metadata": {},
   "outputs": [],
   "source": [
    "# # Get required constants\n",
    "# DECIMAL0 = get_decimals(TOKEN0)\n",
    "# DECIMAL1 = get_decimals(TOKEN1)\n",
    "# print(DECIMAL0, DECIMAL1)\n",
    "\n",
    "# MINT_PRICE, MINT_TICK = get_cprice_tick_at_mint(TOKEN0, TOKEN1, FEETIER, MINT_TIME, DECIMAL0, DECIMAL1)\n",
    "# print(MINT_PRICE, 1/MINT_PRICE)\n",
    "# print(MINT_TICK)"
   ]
  },
  {
   "cell_type": "code",
   "execution_count": null,
   "id": "10da7e19",
   "metadata": {},
   "outputs": [],
   "source": [
    "# # STEP 3 (TODO): Generate df_positions\n",
    "# df_positions = get_positions_fixed_strategy(MINT_TIME, BURN_TIME, UPPER, LOWER, \n",
    "#                                             DECIMAL0, DECIMAL1, FEETIER, MINT_AMT0,\n",
    "#                                            MINT_AMT1, MINT_TICK)"
   ]
  },
  {
   "cell_type": "code",
   "execution_count": null,
   "id": "8f326872",
   "metadata": {
    "scrolled": true
   },
   "outputs": [],
   "source": [
    "# # Get DF_Merged (accumulated swaps data)\n",
    "# # df_merged = pd.read_csv('../data/df_merged_tmp_USDC-WETH-3000-timestamp-1627873200-1620169200.csv')\n",
    "# df_merged = load_data.get_data(TOKEN0, TOKEN1, FEETIER)"
   ]
  },
  {
   "cell_type": "code",
   "execution_count": null,
   "id": "de4608ab",
   "metadata": {},
   "outputs": [],
   "source": [
    "# # STEP 4 (TODO): Calculate Fees, IL and PNL at each hour, and append to df_positions\n",
    "# df_positions_fees = calculate_pnl_from_positions(df_merged, df_positions)"
   ]
  },
  {
   "cell_type": "code",
   "execution_count": null,
   "id": "86fe0048",
   "metadata": {},
   "outputs": [],
   "source": [
    "# STEP 5 (TODO): also accoutning for minting/burning/swaping costs into PNL"
   ]
  },
  {
   "cell_type": "code",
   "execution_count": null,
   "id": "66302766",
   "metadata": {},
   "outputs": [],
   "source": [
    "# TOKEN0_TO_USD = 1\n",
    "# TOKEN1_TO_USD = 2561.94\n",
    "\n",
    "# fees_token0 = df_positions_fees['fees_0'].sum()\n",
    "# fees_token1 = df_positions_fees['fees_1'].sum()\n",
    "\n",
    "# totalfees_USD = ( fees_token0*TOKEN0_TO_USD )+ (fees_token1 *TOKEN1_TO_USD)\n",
    "\n",
    "# print(fees_token0, fees_token1, totalfees_USD)\n",
    "# revert_fees0 = 37795.612553\n",
    "# revert_fees1 = 16.845536\n",
    "# error_margin_fees0 = (1 - fees_token0/revert_fees0)*100\n",
    "# error_margin_fees1 = (1 - fees_token1/revert_fees1)*100\n",
    "# print('error margin token0 = {} %, token1 = {} %'.format(error_margin_fees0, error_margin_fees1))"
   ]
  },
  {
   "cell_type": "markdown",
   "id": "c728fff1",
   "metadata": {},
   "source": [
    "### Testing margin of Errors"
   ]
  },
  {
   "cell_type": "code",
   "execution_count": 7,
   "id": "4316107e",
   "metadata": {},
   "outputs": [],
   "source": [
    "# References: \n",
    "# 1. https://revert.finance/#/uniswap-position/27782\n",
    "# 2. https://revert.finance/#/uniswap-position/2067\n",
    "# 3. https://revert.finance/#/uniswap-position/19724\n",
    "\n",
    "# 4. https://revert.finance/#/uniswap-position/27783\n",
    "# 5. https://revert.finance/#/uniswap-position/27784 <very narrow band>\n",
    "# 6. https://revert.finance/#/uniswap-position/27785 <short time frame>\n",
    "# 7. https://revert.finance/#/uniswap-position/27786 <short time frame>\n",
    "# 8. https://revert.finance/#/uniswap-position/27788 <XOR/WETH same price>\n",
    "# 9. https://revert.finance/#/uniswap-position/27789 <very wide band>\n",
    "\n",
    "UPPERS = [1/1844.6164 , 1.0014, 1/1655.7876, 1/79.8206, 1/98.4718, \n",
    "          10.8361, 1/84.2491, 0.1449, 1/10.0130]\n",
    "LOWERS = [1/2858.3641 , 1.0004, 1/3334.2300, 1/109.7017, 1/99.6605, \n",
    "          19.9823, 1/99.0644, 6.9026, 1/249.5662] \n",
    "FEETIERS = ['3000' , '500', '10000', '3000', '3000', \n",
    "            '3000', '3000', '3000', '3000']\n",
    "TOKEN0S = ['USDC' , 'DAI', 'USDC', 'UNI', 'UNI', \n",
    "           'WBTC', 'LINK'. 'XOR', 'UNI']\n",
    "TOKEN1S = ['WETH' , 'USDC', 'WETH', 'WETH', 'WETH', \n",
    "           'WETH', 'WETH', 'WETH', 'WETH']\n",
    "\n",
    "# _____ ,may6th, may22nd\n",
    "MINT_TIMES = [1622304000, 1621720800, 1621641600, 1622322000, 1622322000, \n",
    "             1622325600, 1622325600, 1622325600, 1622325600] \n",
    "# NOW_1, NOW_1, NOW_2, \n",
    "BURN_TIMES = [1627902000, 1627902000, 1627894800, 1624453200, 1627927200, \n",
    "             1623153600, 1622548800, 1627927200, 1627927200] \n",
    "\n",
    "MINT_AMOUNT0S = [252208.7053 , 13068.6711, 771.4900, 400,    77.1286,\n",
    "                0.3124, 2,256.3660, 0.4500, 199.7828]\n",
    "MINT_AMOUNT1S = [99.0604 ,     12194.3375, 0.2697,   1.9279,  0.5300,\n",
    "                4.6689, 23.3172,    0.0001, 1.0883]\n",
    "\n",
    "# TOKEN0_TO_USDS = [1, 1, 1 ]\n",
    "# TOKEN1_TO_USDS = [2578.84 , 1, 2578.84 ]\n",
    "\n",
    "REVERT_FEES0 = [37795.612553 , 421.148243, 136.562165,   5.178524, 1.582686, \n",
    "               0.001442, 23.447256, 0.000896, 1.521691]\n",
    "REVERT_FEES1 = [16.845536 ,    420.589287, 0.060010 ,   0.044819, 0.014380,\n",
    "               0.015157, 0.315429,  0.000137, 0.013011]"
   ]
  },
  {
   "cell_type": "code",
   "execution_count": 16,
   "id": "62e32d66",
   "metadata": {},
   "outputs": [
    {
     "name": "stdout",
     "output_type": "stream",
     "text": [
      "3\n",
      "4\n",
      "5\n",
      "6\n",
      "7\n",
      "8\n",
      "9\n"
     ]
    }
   ],
   "source": [
    "for i in range(3,10):\n",
    "    print(i)"
   ]
  },
  {
   "cell_type": "code",
   "execution_count": 8,
   "id": "d9443eb1",
   "metadata": {},
   "outputs": [],
   "source": [
    "for i in range(3,10):\n",
    "    # SETUPS\n",
    "    UPPER = UPPERS[i]\n",
    "    LOWER = LOWERS[i] \n",
    "    FEETIER = FEETIERS[i]\n",
    "    TOKEN0 = TOKEN0S[i]\n",
    "    TOKEN1 = TOKEN1S[i]\n",
    "    MINT_TIME = MINT_TIMES[i] \n",
    "    BURN_TIME = BURN_TIMES[i] \n",
    "    MINT_AMT0 = MINT_AMOUNT0S[i]\n",
    "    MINT_AMT1 = MINT_AMOUNT1S[i]\n",
    "\n",
    "    # Get required constants\n",
    "    DECIMAL0 = get_decimals(TOKEN0)\n",
    "    DECIMAL1 = get_decimals(TOKEN1)\n",
    "    MINT_PRICE, MINT_TICK = get_cprice_tick_at_mint(TOKEN0, TOKEN1, FEETIER, MINT_TIME, DECIMAL0, DECIMAL1)\n",
    "    print(DECIMAL0, DECIMAL1)\n",
    "    print(MINT_PRICE, 1/MINT_PRICE)\n",
    "    print(MINT_TICK)\n",
    "\n",
    "    # Generate data\n",
    "    df_positions = get_positions_fixed_strategy(MINT_TIME, BURN_TIME, UPPER, LOWER, \n",
    "                                                DECIMAL0, DECIMAL1, FEETIER, MINT_AMT0,\n",
    "                                               MINT_AMT1, MINT_TICK)\n",
    "    # Load merged data\n",
    "    df_merged = load_data.get_data(TOKEN0, TOKEN1, FEETIER)\n",
    "\n",
    "    # Fees Calculations\n",
    "    df_positions_fees = get_fees_from_positions(df_merged, df_positions)\n",
    "    df_positions_fees.to_csv('../data_fees/test_results_{}.csv'.format(i))\n",
    "\n",
    "    # Fees Summary\n",
    "    revert_fees0 = REVERT_FEES0[i]\n",
    "    revert_fees1 = REVERT_FEES1[i]\n",
    "\n",
    "    fees_token0 = df_positions_fees['fees0'].sum()\n",
    "    fees_token1 = df_positions_fees['fees1'].sum()\n",
    "\n",
    "    fees_token0_G = df_positions_fees['fees0_G'].sum()\n",
    "    fees_token1_G = df_positions_fees['fees1_G'].sum()\n",
    "\n",
    "\n",
    "    print('Revert.finance fees: ')\n",
    "    print(revert_fees0, revert_fees1)\n",
    "\n",
    "    print(' ')\n",
    "    print('Fees from amount_p:')\n",
    "    print(fees_token0, fees_token1)\n",
    "    print('Fees from feeGrowthGlobal0X128_hour:')\n",
    "    print(fees_token0_G, fees_token1_G)\n",
    "\n",
    "    print(' ')\n",
    "    error_margin_fees0 = (1 - fees_token0/revert_fees0)*100\n",
    "    error_margin_fees1 = (1 - fees_token1/revert_fees1)*100\n",
    "    print('(amount) error margin token0 = {} %, token1 = {} %'.format(error_margin_fees0, error_margin_fees1))\n",
    "\n",
    "    error_margin_fees0_G = (1 - fees_token0_G/revert_fees0)*100\n",
    "    error_margin_fees1_G = (1 - fees_token1_G/revert_fees1)*100\n",
    "    print('(feeGrowthGlobal) error margin token0 = {} %, token1 = {} %'.format(error_margin_fees0_G, error_margin_fees1_G))"
   ]
  },
  {
   "cell_type": "code",
   "execution_count": 10,
   "id": "403baabc",
   "metadata": {},
   "outputs": [],
   "source": []
  },
  {
   "cell_type": "code",
   "execution_count": 14,
   "id": "edb12e3d",
   "metadata": {},
   "outputs": [],
   "source": [
    "# # df_positions_fees = get_fees_from_positions(df_merged, df_positions)\n",
    "\n",
    "# fees_token0 = df_positions_fees['fees0'].sum()\n",
    "# fees_token1 = df_positions_fees['fees1'].sum()\n",
    "\n",
    "# totalfees_USD = ( fees_token0*TOKEN0_TO_USD )+ (fees_token1 *TOKEN1_TO_USD)\n",
    "\n",
    "# print(fees_token0, fees_token1, totalfees_USD)\n",
    "# print(revert_fees0,revert_fees1)\n",
    "\n",
    "# error_margin_fees0 = (1 - fees_token0/revert_fees0)*100\n",
    "# error_margin_fees1 = (1 - fees_token1/revert_fees1)*100\n",
    "# print('error margin token0 = {} %, token1 = {} %'.format(error_margin_fees0, error_margin_fees1))"
   ]
  },
  {
   "cell_type": "code",
   "execution_count": null,
   "id": "975a74cf",
   "metadata": {},
   "outputs": [],
   "source": [
    "# 35835.9997570211 16.065701314551056 77266.87293503794\n",
    "# error margin token0 = 5.184762631458817 %, token1 = 4.629325451258682 %\n",
    "\n",
    "\n",
    "# 167.380859180713 0.07378978912937459 357.67291897910934\n",
    "# error margin token0 = -22.567520206429805 %, token1 = -22.9624881342686 %"
   ]
  },
  {
   "cell_type": "code",
   "execution_count": null,
   "id": "99d59b62",
   "metadata": {},
   "outputs": [],
   "source": []
  }
 ],
 "metadata": {
  "kernelspec": {
   "display_name": "Python 3",
   "language": "python",
   "name": "python3"
  },
  "language_info": {
   "codemirror_mode": {
    "name": "ipython",
    "version": 3
   },
   "file_extension": ".py",
   "mimetype": "text/x-python",
   "name": "python",
   "nbconvert_exporter": "python",
   "pygments_lexer": "ipython3",
   "version": "3.8.10"
  }
 },
 "nbformat": 4,
 "nbformat_minor": 5
}
