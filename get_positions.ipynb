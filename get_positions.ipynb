{
 "cells": [
  {
   "cell_type": "markdown",
   "id": "e507957e",
   "metadata": {},
   "source": [
    "### This notebook is to generate df of Positions, that is resulted in our strategy"
   ]
  },
  {
   "cell_type": "code",
   "execution_count": 1,
   "id": "c26dae0c",
   "metadata": {},
   "outputs": [],
   "source": [
    "import pandas as pd\n",
    "from math import sqrt\n",
    "import math\n",
    "\n",
    "import requests\n",
    "import json\n",
    "import numpy as np\n",
    "\n",
    "import UNI_v3_funcs as liq_amounts\n",
    "import load_data"
   ]
  },
  {
   "cell_type": "markdown",
   "id": "788f6e09",
   "metadata": {},
   "source": [
    "### Query Functions"
   ]
  },
  {
   "cell_type": "code",
   "execution_count": 2,
   "id": "0f98dd85",
   "metadata": {},
   "outputs": [],
   "source": [
    "def get_cprice_tick_at_mint(token0, token1, feeTier, mint_time, decimal0, decimal1):\n",
    "    \n",
    "    # get token_ids\n",
    "    token0_id = load_data.get_token_id(token0)\n",
    "    token1_id = load_data.get_token_id(token1)\n",
    "    pool_id = load_data.get_pool_id(token0_id, token1_id, feeTier)\n",
    "        \n",
    "    # query price at that specific time\n",
    "    query_ = \"\"\"\n",
    "    {{\n",
    "      poolHourDatas(first:1,\n",
    "      where:{{ pool: \"{}\",\n",
    "      periodStartUnix: {} }}\n",
    "      ){{\n",
    "        tick\n",
    "      }}\n",
    "    }}\"\"\".format(pool_id, mint_time)\n",
    "    print(query_)\n",
    "    \n",
    "    query_result_ = load_data.run_query(query_)\n",
    "    json_data_ = json.loads(query_result_.text)\n",
    "    \n",
    "    ctick = int(json_data_['data']['poolHourDatas'][0]['tick'])\n",
    "    cprice = tick_to_price(ctick,decimal0, decimal1)\n",
    "    \n",
    "    return cprice, ctick\n",
    "\n",
    "def get_decimals(token_symbol):\n",
    "    query_ = \"\"\"\n",
    "    {{\n",
    "      tokens(first:10,\n",
    "      where:{{ symbol: \"{}\"}}\n",
    "      ){{\n",
    "        decimals\n",
    "      }}\n",
    "    }}\"\"\".format(token_symbol)\n",
    "    \n",
    "    query_result_ = load_data.run_query(query_)\n",
    "    json_data_ = json.loads(query_result_.text)\n",
    "    decimal_ = float(json_data_['data']['tokens'][0]['decimals'])\n",
    "    \n",
    "    return decimal_"
   ]
  },
  {
   "cell_type": "markdown",
   "id": "d5b99056",
   "metadata": {},
   "source": [
    "### Calculations Functions"
   ]
  },
  {
   "cell_type": "code",
   "execution_count": 3,
   "id": "685bebb2",
   "metadata": {},
   "outputs": [],
   "source": [
    "def price_to_tick(price_, decimal0_, decimal1_):\n",
    "    # convert price (token1 by token0) to tick\n",
    "#     tick_ = math.floor(math.log(sqrt(price_), math.sqrt(1.0001)))\n",
    "    tick_ = math.floor( math.log(price_*10**(decimal1_-decimal0_), 1.0001) )\n",
    "    return tick_\n",
    "\n",
    "def tick_to_price(tick_,decimal0_, decimal1_):\n",
    "    price_ = (1.0001**tick_/10**(decimal1_-decimal0_))\n",
    "#     price_ = 1.0001**tick_\n",
    "    return price_"
   ]
  },
  {
   "cell_type": "code",
   "execution_count": 4,
   "id": "91ee3ddf",
   "metadata": {},
   "outputs": [],
   "source": [
    "# L_you calculation / inRange\n",
    "# 4B. JNP: Use 'get_liquidity' function to calculate liquidity as a function of amounts and price range\n",
    "\n",
    "# TODO: Dont need this, use JNP code, only need the inRange thing \n",
    "\n",
    "def get_liquidity0(sqrtA,sqrtB,amount0,decimals):\n",
    "    \n",
    "    if (sqrtA > sqrtB):\n",
    "          (sqrtA,sqrtB)=(sqrtB,sqrtA)\n",
    "    \n",
    "    liquidity=amount0/((2**96*(sqrtB-sqrtA)/sqrtB/sqrtA)/10**decimals)\n",
    "    return liquidity\n",
    "\n",
    "def get_liquidity1(sqrtA,sqrtB,amount1,decimals):\n",
    "    \n",
    "    if (sqrtA > sqrtB):\n",
    "        (sqrtA,sqrtB)=(sqrtB,sqrtA)\n",
    "    \n",
    "    liquidity=amount1/((sqrtB-sqrtA)/2**96/10**decimals)\n",
    "    return liquidity\n",
    "\n",
    "def get_liquidity(tick,tickA,tickB,amount0,amount1,decimal0,decimal1):\n",
    "    \n",
    "        sqrt=(1.0001**(tick/2)*(2**96))\n",
    "        sqrtA=(1.0001**(tickA/2)*(2**96))\n",
    "        sqrtB=(1.0001**(tickB/2)*(2**96))\n",
    "        if (sqrtA > sqrtB):\n",
    "            (sqrtA,sqrtB)=(sqrtB,sqrtA)\n",
    "    \n",
    "        if sqrt<=sqrtA:\n",
    "            \n",
    "            liquidity0=get_liquidity0(sqrtA,sqrtB,amount0,decimal0)\n",
    "            inRange = False\n",
    "            return liquidity0, inRange\n",
    "        elif sqrt<sqrtB and sqrt>sqrtA:\n",
    "\n",
    "            liquidity0=get_liquidity0(sqrt,sqrtB,amount0,decimal0)\n",
    "            liquidity1=get_liquidity1(sqrtA,sqrt,amount1,decimal1)\n",
    "            \n",
    "            liquidity=liquidity0 if liquidity0<liquidity1 else liquidity1\n",
    "            inRange = True\n",
    "            return liquidity, inRange\n",
    "        \n",
    "        else:\n",
    "            liquidity1=get_liquidity1(sqrtA,sqrtB,amount1,decimal1)\n",
    "            inRange = False\n",
    "            return liquidity1, inRange"
   ]
  },
  {
   "cell_type": "code",
   "execution_count": 5,
   "id": "5f0e5775",
   "metadata": {},
   "outputs": [],
   "source": [
    "# Calculate Fees\n",
    "# TODO: Clean this up, take out features that we dont need to calculate fees\n",
    "def get_fees(lower_tick_, upper_tick_, ctick_,  L_Pool_, swap_Volume_, amount0_p, amount1_p, amt0_, amt1_, decimal0_, decimal1_, feeTier, mint_tick):\n",
    "    # (lower_tick_, upper_tick_) from df_positions\n",
    "    # (ctick, L_Pool, swap_volume, amount0_p, amount1_p) from df_merged\n",
    "    # (amt0, amt1) - this changes based on swaps, but doesnt matter, bacause liquidity always constant\n",
    "    # (decimal0, decimal1, feetier, mint_tick) - fixeds\n",
    "    \n",
    "    # Ver. fixed liquidity ------------------------\n",
    "    mint_liquidity = liq_amounts.get_liquidity(mint_tick, lower_tick_,upper_tick_, amt0_, amt1_, decimal0_, decimal1_)\n",
    "#     N_amt0, N_amt1 = liq_amounts.get_amounts(ctick_,lower_tick_,upper_tick_,mint_liquidity,decimal0_,decimal1_)\n",
    "#     L_you_ = liq_amounts.get_liquidity(ctick_, lower_tick_,upper_tick_, N_amt0, N_amt1, decimal0_, decimal1_)\n",
    "    L_you_ = mint_liquidity # always constant, according to JNP\n",
    "    \n",
    "    # redudant, L_you_ always fixed in this case, L_you_ = mint_liquidity\n",
    "#     Ver. varied liquidity ------------------------\n",
    "    _, inRange_ = get_liquidity(ctick_, lower_tick_,upper_tick_, amt0_, amt1_, decimal0_, decimal1_)\n",
    "#     _, inRange_ = get_liquidity(ctick_, lower_tick_,upper_tick_, amt0_, amt1_, decimal0_, decimal1_)\n",
    "    # -------------------------------\n",
    "    \n",
    "#     inRange_ = 1\n",
    "    if inRange_:\n",
    "        pool_share_ = (L_you_/L_Pool_)\n",
    "        pool_fee_rate_ = float(feeTier) / 10000\n",
    "        fees_0 = pool_share_ * amount0_p * pool_fee_rate_ / 100\n",
    "        fees_1 = pool_share_ * amount1_p * pool_fee_rate_ / 100\n",
    "#         print(pool_share_)\n",
    "#         print(L_you_)\n",
    "    else:\n",
    "        fees_0 = 0\n",
    "        fees_1 = 0\n",
    "    \n",
    "    \n",
    "    return fees_0, fees_1"
   ]
  },
  {
   "cell_type": "code",
   "execution_count": 6,
   "id": "9eb68cb3",
   "metadata": {},
   "outputs": [],
   "source": [
    "# Step 4: use JNP's code\n",
    "def get_impermanent_loss():\n",
    "    return IL"
   ]
  },
  {
   "cell_type": "code",
   "execution_count": 7,
   "id": "2e1c18eb",
   "metadata": {},
   "outputs": [],
   "source": [
    "# Step 4\n",
    "def get_PNL():\n",
    "    return pnl"
   ]
  },
  {
   "cell_type": "code",
   "execution_count": 8,
   "id": "68645b33",
   "metadata": {},
   "outputs": [],
   "source": [
    "# Step 5\n",
    "def get_cost():\n",
    "    return cost"
   ]
  },
  {
   "cell_type": "markdown",
   "id": "eb495205",
   "metadata": {},
   "source": [
    "### Positions Genrations"
   ]
  },
  {
   "cell_type": "code",
   "execution_count": 9,
   "id": "d0130a95",
   "metadata": {},
   "outputs": [],
   "source": [
    "def get_positions_fixed_strategy(mint_time, burn_time, upper_, lower_, decimal0_, decimal1_):\n",
    "    \n",
    "    df_positions = pd.DataFrame()\n",
    "    df_positions['periodStartUnix'] = list(range(mint_time, burn_time+1, 3600))\n",
    "    df_positions['upper'] = upper_\n",
    "    df_positions['lower'] = lower_\n",
    "    df_positions['upper_tick'] = price_to_tick(upper_, decimal0_, decimal1_)\n",
    "    df_positions['lower_tick'] = price_to_tick(lower_, decimal0_, decimal1_)\n",
    "    \n",
    "    return df_positions"
   ]
  },
  {
   "cell_type": "markdown",
   "id": "c03d4eb4",
   "metadata": {},
   "source": [
    "### PNL Wrapper code"
   ]
  },
  {
   "cell_type": "code",
   "execution_count": 10,
   "id": "6720605e",
   "metadata": {},
   "outputs": [],
   "source": [
    "def calculate_pnl_from_positions(df_merged, df_positions):\n",
    "\n",
    "    # TODO: re-calculate amount0 and amount1 to account for every swaps, not just deltas of that hour\n",
    "    # use amount0_new and amount1_new instead of amountUSD, and get total accured fees in tokens\n",
    "    # Swap_amountIn > so the fees is get from the (+) positive tokens\n",
    "    # Therefore, fees you get is in \n",
    "    # Convert those tokens into value (convert using TODAY's value or mints's value?)\n",
    "    \n",
    "    \n",
    "    merge_feat = ['periodStartUnix', 'tick','liquidity', 'amountUSD', 'amount0_p', 'amount1_p']\n",
    "#     merge_feat = ['periodStartUnix', 'tick','liquidity', 'amountUSD', 'amount0_n', 'amount1_n']\n",
    "\n",
    "    df_positions_fees = df_positions.merge(df_merged[merge_feat], how='left', on='periodStartUnix')\n",
    "    df_positions_fees['liquidity'] = df_positions_fees['liquidity'].astype(float)\n",
    "\n",
    "    df_positions_fees = df_positions_fees.reset_index() # cleaning it just in case\n",
    "    for index, row in df_positions_fees.iterrows():\n",
    "        row = row.copy()\n",
    "        fees_0, fees_1 = get_fees(row['lower_tick'],row['upper_tick'],row['tick'],\n",
    "                        float(row['liquidity']),row['amountUSD'],\n",
    "                        row['amount0_p'], row['amount1_p'],\n",
    "                        MINT_AMT0, MINT_AMT1, DECIMAL0, DECIMAL1, FEETIER, MINT_TICK)\n",
    "       \n",
    "#         fees_0, fees_1 = get_fees(row['lower_tick'],row['upper_tick'],row['tick'],\n",
    "#                         float(row['liquidity']),row['amountUSD'],\n",
    "#                         abs(row['amount0_n']), abs(row['amount1_n']),\n",
    "#                         MINT_AMT0, MINT_AMT1, DECIMAL0, DECIMAL1, FEETIER, MINT_TICK)\n",
    "        \n",
    "        df_positions_fees.loc[index, 'fees_0'] = fees_0\n",
    "        df_positions_fees.loc[index, 'fees_1'] = fees_1\n",
    "        \n",
    "    return df_positions_fees"
   ]
  },
  {
   "cell_type": "markdown",
   "id": "d4e0802a",
   "metadata": {},
   "source": [
    "### Main"
   ]
  },
  {
   "cell_type": "code",
   "execution_count": 11,
   "id": "70ba7399",
   "metadata": {},
   "outputs": [],
   "source": [
    "# STEP 0:  PROVIDE BY USERS\n",
    "UPPER = 1/1844.6164  # token1 per token0 (in terms of price)\n",
    "LOWER = 1/2858.3641  # 1/2376.6075 \n",
    "FEETIER = '3000' # 0.3 = 3000/10000\n",
    "TOKEN0 = 'USDC'\n",
    "TOKEN1 = 'WETH'\n",
    "MINT_TIME = 1622390400 # needs to start with the hour (unixTime % 3600 = 0) \n",
    "BURN_TIME = 1627578000 # 1627578000 # 1625936400 # \n",
    "# May 30 - July 30 / 11"
   ]
  },
  {
   "cell_type": "code",
   "execution_count": 12,
   "id": "39b876a0",
   "metadata": {},
   "outputs": [
    {
     "name": "stdout",
     "output_type": "stream",
     "text": [
      "6.0 18.0\n"
     ]
    }
   ],
   "source": [
    "# Get required constants\n",
    "DECIMAL0 = get_decimals(TOKEN0)\n",
    "DECIMAL1 = get_decimals(TOKEN1)\n",
    "print(DECIMAL0, DECIMAL1)"
   ]
  },
  {
   "cell_type": "code",
   "execution_count": 13,
   "id": "1f0fc6d5",
   "metadata": {},
   "outputs": [
    {
     "name": "stdout",
     "output_type": "stream",
     "text": [
      " \n",
      "get_token_id: USDC\n",
      "{'data': {'tokens': [{'id': '0xa0b86991c6218b36c1d19d4a2e9eb0ce3606eb48', 'name': 'USD Coin', 'symbol': 'USDC'}]}}\n",
      " \n",
      "get_token_id: WETH\n",
      "{'data': {'tokens': [{'id': '0xc02aaa39b223fe8d0a0e5c4f27ead9083c756cc2', 'name': 'Wrapped Ether', 'symbol': 'WETH'}]}}\n",
      "\n",
      " get_pool_id for feeTier: 3000\n",
      "{'data': {'pools': [{'feeTier': '3000', 'id': '0x8ad599c3a0ff1de082011efddc58f1908eb6e6d8', 'token0': {'symbol': 'USDC'}, 'token1': {'symbol': 'WETH'}}]}}\n",
      "\n",
      "    {\n",
      "      poolHourDatas(first:1,\n",
      "      where:{ pool: \"0x8ad599c3a0ff1de082011efddc58f1908eb6e6d8\",\n",
      "      periodStartUnix: 1622390400 }\n",
      "      ){\n",
      "        tick\n",
      "      }\n",
      "    }\n",
      "0.0004165877310455854 2400.4547553287744\n",
      "198486\n"
     ]
    }
   ],
   "source": [
    "MINT_PRICE, MINT_TICK = get_cprice_tick_at_mint(TOKEN0, TOKEN1, FEETIER, MINT_TIME, DECIMAL0, DECIMAL1)\n",
    "print(MINT_PRICE, 1/MINT_PRICE)\n",
    "print(MINT_TICK)"
   ]
  },
  {
   "cell_type": "code",
   "execution_count": 14,
   "id": "1a23208f",
   "metadata": {},
   "outputs": [],
   "source": [
    "# STEP 1 (TODO): CALCULATED BY ALGORITHM, JNP's amounts_relation ?\n",
    "# THIS CHANGES over time when swaps happens, and we need this to calculate IL\n",
    "MINT_AMT0 = 252208.7053\n",
    "MINT_AMT1 = 99.0604"
   ]
  },
  {
   "cell_type": "code",
   "execution_count": 15,
   "id": "90bfb44f",
   "metadata": {},
   "outputs": [],
   "source": [
    "# 1.0001**198486"
   ]
  },
  {
   "cell_type": "code",
   "execution_count": 16,
   "id": "8e8edfdd",
   "metadata": {},
   "outputs": [],
   "source": [
    "# STEP 3 (TODO): Generate df_positions\n",
    "df_positions = get_positions_fixed_strategy(MINT_TIME, BURN_TIME, UPPER, LOWER, DECIMAL0, DECIMAL1)"
   ]
  },
  {
   "cell_type": "code",
   "execution_count": 17,
   "id": "d8edb6a6",
   "metadata": {},
   "outputs": [
    {
     "data": {
      "text/html": [
       "<div>\n",
       "<style scoped>\n",
       "    .dataframe tbody tr th:only-of-type {\n",
       "        vertical-align: middle;\n",
       "    }\n",
       "\n",
       "    .dataframe tbody tr th {\n",
       "        vertical-align: top;\n",
       "    }\n",
       "\n",
       "    .dataframe thead th {\n",
       "        text-align: right;\n",
       "    }\n",
       "</style>\n",
       "<table border=\"1\" class=\"dataframe\">\n",
       "  <thead>\n",
       "    <tr style=\"text-align: right;\">\n",
       "      <th></th>\n",
       "      <th>periodStartUnix</th>\n",
       "      <th>upper</th>\n",
       "      <th>lower</th>\n",
       "      <th>upper_tick</th>\n",
       "      <th>lower_tick</th>\n",
       "    </tr>\n",
       "  </thead>\n",
       "  <tbody>\n",
       "    <tr>\n",
       "      <th>0</th>\n",
       "      <td>1622390400</td>\n",
       "      <td>0.000542</td>\n",
       "      <td>0.00035</td>\n",
       "      <td>201120</td>\n",
       "      <td>196740</td>\n",
       "    </tr>\n",
       "    <tr>\n",
       "      <th>1</th>\n",
       "      <td>1622394000</td>\n",
       "      <td>0.000542</td>\n",
       "      <td>0.00035</td>\n",
       "      <td>201120</td>\n",
       "      <td>196740</td>\n",
       "    </tr>\n",
       "    <tr>\n",
       "      <th>2</th>\n",
       "      <td>1622397600</td>\n",
       "      <td>0.000542</td>\n",
       "      <td>0.00035</td>\n",
       "      <td>201120</td>\n",
       "      <td>196740</td>\n",
       "    </tr>\n",
       "    <tr>\n",
       "      <th>3</th>\n",
       "      <td>1622401200</td>\n",
       "      <td>0.000542</td>\n",
       "      <td>0.00035</td>\n",
       "      <td>201120</td>\n",
       "      <td>196740</td>\n",
       "    </tr>\n",
       "    <tr>\n",
       "      <th>4</th>\n",
       "      <td>1622404800</td>\n",
       "      <td>0.000542</td>\n",
       "      <td>0.00035</td>\n",
       "      <td>201120</td>\n",
       "      <td>196740</td>\n",
       "    </tr>\n",
       "  </tbody>\n",
       "</table>\n",
       "</div>"
      ],
      "text/plain": [
       "   periodStartUnix     upper    lower  upper_tick  lower_tick\n",
       "0       1622390400  0.000542  0.00035      201120      196740\n",
       "1       1622394000  0.000542  0.00035      201120      196740\n",
       "2       1622397600  0.000542  0.00035      201120      196740\n",
       "3       1622401200  0.000542  0.00035      201120      196740\n",
       "4       1622404800  0.000542  0.00035      201120      196740"
      ]
     },
     "execution_count": 17,
     "metadata": {},
     "output_type": "execute_result"
    }
   ],
   "source": [
    "df_positions.head()"
   ]
  },
  {
   "cell_type": "code",
   "execution_count": 18,
   "id": "cb424b4e",
   "metadata": {},
   "outputs": [
    {
     "name": "stdout",
     "output_type": "stream",
     "text": [
      " \n",
      "get_token_id: USDC\n",
      "{'data': {'tokens': [{'id': '0xa0b86991c6218b36c1d19d4a2e9eb0ce3606eb48', 'name': 'USD Coin', 'symbol': 'USDC'}]}}\n",
      " \n",
      "get_token_id: WETH\n",
      "{'data': {'tokens': [{'id': '0xc02aaa39b223fe8d0a0e5c4f27ead9083c756cc2', 'name': 'Wrapped Ether', 'symbol': 'WETH'}]}}\n",
      "\n",
      " get_pool_id for feeTier: 3000\n",
      "{'data': {'pools': [{'feeTier': '3000', 'id': '0x8ad599c3a0ff1de082011efddc58f1908eb6e6d8', 'token0': {'symbol': 'USDC'}, 'token1': {'symbol': 'WETH'}}]}}\n",
      " \n",
      "\n",
      " Queried poolHourDatas, total of 2067 datapoints\n",
      "time_start: 1627646400, time_end: 1620169200\n",
      "next_time_start_: 1627646400\n",
      "Queried Swaps, total of 6000 datapoints\n",
      " \n",
      "next_time_start_: 1626915595\n",
      "Queried Swaps, total of 6000 datapoints\n",
      " \n",
      "next_time_start_: 1626161731\n",
      "Queried Swaps, total of 6000 datapoints\n",
      " \n",
      "next_time_start_: 1625279422\n",
      "Queried Swaps, total of 6000 datapoints\n",
      " \n",
      "next_time_start_: 1624695320\n",
      "Queried Swaps, total of 6000 datapoints\n",
      " \n",
      "next_time_start_: 1624321670\n",
      "Queried Swaps, total of 6000 datapoints\n",
      " \n",
      "next_time_start_: 1623934411\n",
      "Queried Swaps, total of 6000 datapoints\n",
      " \n",
      "next_time_start_: 1623370061\n",
      "Queried Swaps, total of 6000 datapoints\n",
      " \n",
      "next_time_start_: 1622913877\n",
      "Queried Swaps, total of 6000 datapoints\n",
      " \n",
      "next_time_start_: 1622478065\n",
      "Queried Swaps, total of 6000 datapoints\n",
      " \n",
      "next_time_start_: 1622251249\n",
      "Queried Swaps, total of 6000 datapoints\n",
      " \n",
      "next_time_start_: 1622051929\n",
      "Queried Swaps, total of 6000 datapoints\n",
      " \n",
      "next_time_start_: 1621877806\n",
      "Queried Swaps, total of 5000 datapoints\n",
      " \n",
      "next_time_start_: 1621724934\n",
      "Queried Swaps, total of 6000 datapoints\n",
      " \n",
      "next_time_start_: 1621537431\n",
      "Queried Swaps, total of 6000 datapoints\n",
      " \n",
      "next_time_start_: 1621393549\n",
      "Queried Swaps, total of 6000 datapoints\n",
      " \n",
      "next_time_start_: 1621075591\n",
      "Queried Swaps, total of 6000 datapoints\n",
      " \n",
      "next_time_start_: 1620493437\n",
      "Queried Swaps, total of 1811 datapoints\n",
      " \n",
      "next_time_start_: 1620179784\n",
      "Queried Swaps, total of 1 datapoints\n",
      " \n",
      "next_time_start_: 1620179784\n",
      "Queried Swaps, total of 1 datapoints\n",
      " \n",
      "next_time_start_: 1620179784\n",
      "Queried Swaps, total of 1 datapoints\n",
      " \n",
      "next_time_start_: 1620179784\n",
      "Queried Swaps, total of 1 datapoints\n",
      " \n",
      "next_time_start_: 1620179784\n",
      "Queried Swaps, total of 1 datapoints\n",
      " \n",
      "next_time_start_: 1620179784\n",
      "Queried Swaps, total of 1 datapoints\n",
      " \n",
      "next_time_start_: 1620179784\n",
      "Queried Swaps, total of 1 datapoints\n",
      " \n",
      "next_time_start_: 1620179784\n",
      "Queried Swaps, total of 1 datapoints\n",
      " \n",
      "Total swaps data = 102783\n"
     ]
    },
    {
     "ename": "TypeError",
     "evalue": "'>' not supported between instances of 'str' and 'int'",
     "output_type": "error",
     "traceback": [
      "\u001b[0;31m---------------------------------------------------------------------------\u001b[0m",
      "\u001b[0;31mTypeError\u001b[0m                                 Traceback (most recent call last)",
      "\u001b[0;32m<ipython-input-18-562d4c3281f0>\u001b[0m in \u001b[0;36m<module>\u001b[0;34m\u001b[0m\n\u001b[1;32m      1\u001b[0m \u001b[0;31m# Get DF_Merged (accumulated swaps data)\u001b[0m\u001b[0;34m\u001b[0m\u001b[0;34m\u001b[0m\u001b[0;34m\u001b[0m\u001b[0m\n\u001b[1;32m      2\u001b[0m \u001b[0;31m# df_merged = pd.read_csv('../data/df_merged_tmp_USDC-WETH-3000-timestamp-1627574400-1620169200.csv')\u001b[0m\u001b[0;34m\u001b[0m\u001b[0;34m\u001b[0m\u001b[0;34m\u001b[0m\u001b[0m\n\u001b[0;32m----> 3\u001b[0;31m \u001b[0mdf_merged\u001b[0m \u001b[0;34m=\u001b[0m \u001b[0mload_data\u001b[0m\u001b[0;34m.\u001b[0m\u001b[0mget_data\u001b[0m\u001b[0;34m(\u001b[0m\u001b[0mTOKEN0\u001b[0m\u001b[0;34m,\u001b[0m \u001b[0mTOKEN1\u001b[0m\u001b[0;34m,\u001b[0m \u001b[0mFEETIER\u001b[0m\u001b[0;34m)\u001b[0m\u001b[0;34m\u001b[0m\u001b[0;34m\u001b[0m\u001b[0m\n\u001b[0m",
      "\u001b[0;32m~/Desktop/Desktop - Ren’s MacBook Pro/schoolbus/code/backtest/load_data.py\u001b[0m in \u001b[0;36mget_data\u001b[0;34m(token0, token1, feeTier)\u001b[0m\n\u001b[1;32m    331\u001b[0m \u001b[0;34m\u001b[0m\u001b[0m\n\u001b[1;32m    332\u001b[0m     \u001b[0;31m# Merge data\u001b[0m\u001b[0;34m\u001b[0m\u001b[0;34m\u001b[0m\u001b[0;34m\u001b[0m\u001b[0m\n\u001b[0;32m--> 333\u001b[0;31m     \u001b[0mdf_merged\u001b[0m \u001b[0;34m=\u001b[0m \u001b[0mmerge_poolHourData_swaps_all\u001b[0m\u001b[0;34m(\u001b[0m\u001b[0mdf_poolHourDatas\u001b[0m\u001b[0;34m,\u001b[0m \u001b[0mdf_swaps_all\u001b[0m\u001b[0;34m)\u001b[0m\u001b[0;34m\u001b[0m\u001b[0;34m\u001b[0m\u001b[0m\n\u001b[0m\u001b[1;32m    334\u001b[0m \u001b[0;34m\u001b[0m\u001b[0m\n\u001b[1;32m    335\u001b[0m     \u001b[0mdf_merged\u001b[0m\u001b[0;34m.\u001b[0m\u001b[0mto_csv\u001b[0m\u001b[0;34m(\u001b[0m\u001b[0;34m'../data/df_merged_tmp_'\u001b[0m\u001b[0;34m+\u001b[0m\u001b[0mSETTINGS\u001b[0m\u001b[0;34m)\u001b[0m\u001b[0;34m\u001b[0m\u001b[0;34m\u001b[0m\u001b[0m\n",
      "\u001b[0;32m~/Desktop/Desktop - Ren’s MacBook Pro/schoolbus/code/backtest/load_data.py\u001b[0m in \u001b[0;36mmerge_poolHourData_swaps_all\u001b[0;34m(df_poolHourDatas, df_swaps_all)\u001b[0m\n\u001b[1;32m    279\u001b[0m     \u001b[0mdf_swaps_all\u001b[0m\u001b[0;34m[\u001b[0m\u001b[0;34m'swaps_txCount'\u001b[0m\u001b[0;34m]\u001b[0m \u001b[0;34m=\u001b[0m \u001b[0;36m1\u001b[0m\u001b[0;34m\u001b[0m\u001b[0;34m\u001b[0m\u001b[0m\n\u001b[1;32m    280\u001b[0m \u001b[0;34m\u001b[0m\u001b[0m\n\u001b[0;32m--> 281\u001b[0;31m     \u001b[0mdf_swaps_all\u001b[0m\u001b[0;34m[\u001b[0m\u001b[0;34m'amount0_p'\u001b[0m\u001b[0;34m]\u001b[0m \u001b[0;34m=\u001b[0m \u001b[0mdf_swaps_all\u001b[0m\u001b[0;34m[\u001b[0m\u001b[0;34m'amount0'\u001b[0m\u001b[0;34m]\u001b[0m\u001b[0;34m.\u001b[0m\u001b[0mapply\u001b[0m\u001b[0;34m(\u001b[0m\u001b[0;32mlambda\u001b[0m \u001b[0mx\u001b[0m\u001b[0;34m:\u001b[0m \u001b[0mx\u001b[0m \u001b[0;32mif\u001b[0m \u001b[0mx\u001b[0m \u001b[0;34m>\u001b[0m \u001b[0;36m0\u001b[0m \u001b[0;32melse\u001b[0m \u001b[0;36m0\u001b[0m\u001b[0;34m)\u001b[0m\u001b[0;34m\u001b[0m\u001b[0;34m\u001b[0m\u001b[0m\n\u001b[0m\u001b[1;32m    282\u001b[0m     \u001b[0mdf_swaps_all\u001b[0m\u001b[0;34m[\u001b[0m\u001b[0;34m'amount0_n'\u001b[0m\u001b[0;34m]\u001b[0m \u001b[0;34m=\u001b[0m \u001b[0mdf_swaps_all\u001b[0m\u001b[0;34m[\u001b[0m\u001b[0;34m'amount0'\u001b[0m\u001b[0;34m]\u001b[0m\u001b[0;34m.\u001b[0m\u001b[0mapply\u001b[0m\u001b[0;34m(\u001b[0m\u001b[0;32mlambda\u001b[0m \u001b[0mx\u001b[0m\u001b[0;34m:\u001b[0m \u001b[0mx\u001b[0m \u001b[0;32mif\u001b[0m \u001b[0mx\u001b[0m \u001b[0;34m<=\u001b[0m \u001b[0;36m0\u001b[0m \u001b[0;32melse\u001b[0m \u001b[0;36m0\u001b[0m\u001b[0;34m)\u001b[0m\u001b[0;34m\u001b[0m\u001b[0;34m\u001b[0m\u001b[0m\n\u001b[1;32m    283\u001b[0m     \u001b[0mdf_swaps_all\u001b[0m\u001b[0;34m[\u001b[0m\u001b[0;34m'amount1_p'\u001b[0m\u001b[0;34m]\u001b[0m \u001b[0;34m=\u001b[0m \u001b[0mdf_swaps_all\u001b[0m\u001b[0;34m[\u001b[0m\u001b[0;34m'amount1'\u001b[0m\u001b[0;34m]\u001b[0m\u001b[0;34m.\u001b[0m\u001b[0mapply\u001b[0m\u001b[0;34m(\u001b[0m\u001b[0;32mlambda\u001b[0m \u001b[0mx\u001b[0m\u001b[0;34m:\u001b[0m \u001b[0mx\u001b[0m \u001b[0;32mif\u001b[0m \u001b[0mx\u001b[0m \u001b[0;34m>\u001b[0m \u001b[0;36m0\u001b[0m \u001b[0;32melse\u001b[0m \u001b[0;36m0\u001b[0m\u001b[0;34m)\u001b[0m\u001b[0;34m\u001b[0m\u001b[0;34m\u001b[0m\u001b[0m\n",
      "\u001b[0;32m/Library/Frameworks/Python.framework/Versions/3.8/lib/python3.8/site-packages/pandas/core/series.py\u001b[0m in \u001b[0;36mapply\u001b[0;34m(self, func, convert_dtype, args, **kwds)\u001b[0m\n\u001b[1;32m   4136\u001b[0m             \u001b[0;32melse\u001b[0m\u001b[0;34m:\u001b[0m\u001b[0;34m\u001b[0m\u001b[0;34m\u001b[0m\u001b[0m\n\u001b[1;32m   4137\u001b[0m                 \u001b[0mvalues\u001b[0m \u001b[0;34m=\u001b[0m \u001b[0mself\u001b[0m\u001b[0;34m.\u001b[0m\u001b[0mastype\u001b[0m\u001b[0;34m(\u001b[0m\u001b[0mobject\u001b[0m\u001b[0;34m)\u001b[0m\u001b[0;34m.\u001b[0m\u001b[0m_values\u001b[0m\u001b[0;34m\u001b[0m\u001b[0;34m\u001b[0m\u001b[0m\n\u001b[0;32m-> 4138\u001b[0;31m                 \u001b[0mmapped\u001b[0m \u001b[0;34m=\u001b[0m \u001b[0mlib\u001b[0m\u001b[0;34m.\u001b[0m\u001b[0mmap_infer\u001b[0m\u001b[0;34m(\u001b[0m\u001b[0mvalues\u001b[0m\u001b[0;34m,\u001b[0m \u001b[0mf\u001b[0m\u001b[0;34m,\u001b[0m \u001b[0mconvert\u001b[0m\u001b[0;34m=\u001b[0m\u001b[0mconvert_dtype\u001b[0m\u001b[0;34m)\u001b[0m\u001b[0;34m\u001b[0m\u001b[0;34m\u001b[0m\u001b[0m\n\u001b[0m\u001b[1;32m   4139\u001b[0m \u001b[0;34m\u001b[0m\u001b[0m\n\u001b[1;32m   4140\u001b[0m         \u001b[0;32mif\u001b[0m \u001b[0mlen\u001b[0m\u001b[0;34m(\u001b[0m\u001b[0mmapped\u001b[0m\u001b[0;34m)\u001b[0m \u001b[0;32mand\u001b[0m \u001b[0misinstance\u001b[0m\u001b[0;34m(\u001b[0m\u001b[0mmapped\u001b[0m\u001b[0;34m[\u001b[0m\u001b[0;36m0\u001b[0m\u001b[0;34m]\u001b[0m\u001b[0;34m,\u001b[0m \u001b[0mSeries\u001b[0m\u001b[0;34m)\u001b[0m\u001b[0;34m:\u001b[0m\u001b[0;34m\u001b[0m\u001b[0;34m\u001b[0m\u001b[0m\n",
      "\u001b[0;32mpandas/_libs/lib.pyx\u001b[0m in \u001b[0;36mpandas._libs.lib.map_infer\u001b[0;34m()\u001b[0m\n",
      "\u001b[0;32m~/Desktop/Desktop - Ren’s MacBook Pro/schoolbus/code/backtest/load_data.py\u001b[0m in \u001b[0;36m<lambda>\u001b[0;34m(x)\u001b[0m\n\u001b[1;32m    279\u001b[0m     \u001b[0mdf_swaps_all\u001b[0m\u001b[0;34m[\u001b[0m\u001b[0;34m'swaps_txCount'\u001b[0m\u001b[0;34m]\u001b[0m \u001b[0;34m=\u001b[0m \u001b[0;36m1\u001b[0m\u001b[0;34m\u001b[0m\u001b[0;34m\u001b[0m\u001b[0m\n\u001b[1;32m    280\u001b[0m \u001b[0;34m\u001b[0m\u001b[0m\n\u001b[0;32m--> 281\u001b[0;31m     \u001b[0mdf_swaps_all\u001b[0m\u001b[0;34m[\u001b[0m\u001b[0;34m'amount0_p'\u001b[0m\u001b[0;34m]\u001b[0m \u001b[0;34m=\u001b[0m \u001b[0mdf_swaps_all\u001b[0m\u001b[0;34m[\u001b[0m\u001b[0;34m'amount0'\u001b[0m\u001b[0;34m]\u001b[0m\u001b[0;34m.\u001b[0m\u001b[0mapply\u001b[0m\u001b[0;34m(\u001b[0m\u001b[0;32mlambda\u001b[0m \u001b[0mx\u001b[0m\u001b[0;34m:\u001b[0m \u001b[0mx\u001b[0m \u001b[0;32mif\u001b[0m \u001b[0mx\u001b[0m \u001b[0;34m>\u001b[0m \u001b[0;36m0\u001b[0m \u001b[0;32melse\u001b[0m \u001b[0;36m0\u001b[0m\u001b[0;34m)\u001b[0m\u001b[0;34m\u001b[0m\u001b[0;34m\u001b[0m\u001b[0m\n\u001b[0m\u001b[1;32m    282\u001b[0m     \u001b[0mdf_swaps_all\u001b[0m\u001b[0;34m[\u001b[0m\u001b[0;34m'amount0_n'\u001b[0m\u001b[0;34m]\u001b[0m \u001b[0;34m=\u001b[0m \u001b[0mdf_swaps_all\u001b[0m\u001b[0;34m[\u001b[0m\u001b[0;34m'amount0'\u001b[0m\u001b[0;34m]\u001b[0m\u001b[0;34m.\u001b[0m\u001b[0mapply\u001b[0m\u001b[0;34m(\u001b[0m\u001b[0;32mlambda\u001b[0m \u001b[0mx\u001b[0m\u001b[0;34m:\u001b[0m \u001b[0mx\u001b[0m \u001b[0;32mif\u001b[0m \u001b[0mx\u001b[0m \u001b[0;34m<=\u001b[0m \u001b[0;36m0\u001b[0m \u001b[0;32melse\u001b[0m \u001b[0;36m0\u001b[0m\u001b[0;34m)\u001b[0m\u001b[0;34m\u001b[0m\u001b[0;34m\u001b[0m\u001b[0m\n\u001b[1;32m    283\u001b[0m     \u001b[0mdf_swaps_all\u001b[0m\u001b[0;34m[\u001b[0m\u001b[0;34m'amount1_p'\u001b[0m\u001b[0;34m]\u001b[0m \u001b[0;34m=\u001b[0m \u001b[0mdf_swaps_all\u001b[0m\u001b[0;34m[\u001b[0m\u001b[0;34m'amount1'\u001b[0m\u001b[0;34m]\u001b[0m\u001b[0;34m.\u001b[0m\u001b[0mapply\u001b[0m\u001b[0;34m(\u001b[0m\u001b[0;32mlambda\u001b[0m \u001b[0mx\u001b[0m\u001b[0;34m:\u001b[0m \u001b[0mx\u001b[0m \u001b[0;32mif\u001b[0m \u001b[0mx\u001b[0m \u001b[0;34m>\u001b[0m \u001b[0;36m0\u001b[0m \u001b[0;32melse\u001b[0m \u001b[0;36m0\u001b[0m\u001b[0;34m)\u001b[0m\u001b[0;34m\u001b[0m\u001b[0;34m\u001b[0m\u001b[0m\n",
      "\u001b[0;31mTypeError\u001b[0m: '>' not supported between instances of 'str' and 'int'"
     ]
    }
   ],
   "source": [
    "# Get DF_Merged (accumulated swaps data)\n",
    "# df_merged = pd.read_csv('../data/df_merged_tmp_USDC-WETH-3000-timestamp-1627574400-1620169200.csv')\n",
    "df_merged = load_data.get_data(TOKEN0, TOKEN1, FEETIER)"
   ]
  },
  {
   "cell_type": "code",
   "execution_count": null,
   "id": "75b7b21b",
   "metadata": {},
   "outputs": [],
   "source": [
    "# STEP 4 (TODO): Calculate Fees, IL and PNL at each hour, and append to df_positions\n",
    "df_positions_fees = calculate_pnl_from_positions(df_merged, df_positions)"
   ]
  },
  {
   "cell_type": "code",
   "execution_count": null,
   "id": "4184d1dd",
   "metadata": {},
   "outputs": [],
   "source": [
    "# STEP 5 (TODO): also accoutning for minting/burning/swaping costs into PNL"
   ]
  },
  {
   "cell_type": "code",
   "execution_count": null,
   "id": "dffc2583",
   "metadata": {},
   "outputs": [],
   "source": []
  },
  {
   "cell_type": "code",
   "execution_count": null,
   "id": "df95f195",
   "metadata": {},
   "outputs": [],
   "source": [
    "TOKEN0_TO_USD = 1\n",
    "TOKEN1_TO_USD = 2331.7802\n",
    "\n",
    "fees_token0 = df_positions_fees['fees_0'].sum()*TOKEN0_TO_USD\n",
    "fees_token1 = df_positions_fees['fees_1'].sum()*TOKEN1_TO_USD\n",
    "print(fees_token0+fees_token1)\n",
    "print(df_positions_fees['fees_0'].sum())\n",
    "print(df_positions_fees['fees_1'].sum())"
   ]
  },
  {
   "cell_type": "code",
   "execution_count": null,
   "id": "73822eff",
   "metadata": {},
   "outputs": [],
   "source": []
  },
  {
   "cell_type": "code",
   "execution_count": null,
   "id": "0a445eac",
   "metadata": {},
   "outputs": [],
   "source": []
  },
  {
   "cell_type": "code",
   "execution_count": null,
   "id": "60f51c0e",
   "metadata": {},
   "outputs": [],
   "source": []
  },
  {
   "cell_type": "code",
   "execution_count": null,
   "id": "cec14a2d",
   "metadata": {},
   "outputs": [],
   "source": []
  },
  {
   "cell_type": "code",
   "execution_count": null,
   "id": "26611718",
   "metadata": {},
   "outputs": [],
   "source": []
  },
  {
   "cell_type": "code",
   "execution_count": null,
   "id": "ce73cdd0",
   "metadata": {},
   "outputs": [],
   "source": []
  },
  {
   "cell_type": "code",
   "execution_count": null,
   "id": "e5c02879",
   "metadata": {},
   "outputs": [],
   "source": []
  },
  {
   "cell_type": "code",
   "execution_count": null,
   "id": "90c126e2",
   "metadata": {},
   "outputs": [],
   "source": []
  },
  {
   "cell_type": "code",
   "execution_count": null,
   "id": "78c84485",
   "metadata": {},
   "outputs": [],
   "source": [
    "# df_merged = pd.read_csv('../data/df_merged_DAI-WETH-3000-timestamp-1627466400-1620158400.csv')\n",
    "# watch_list = ['periodStartUnix',  \n",
    "#               'txCount', 'swaps_txCount', # check data integrity\n",
    "#               'amount0', 'amount1', 'amountUSD', # swaps data, note: amountUSD is sqrt(P)\n",
    "#               'tick', 'liquidity', 'sqrtPrice', 'tvlUSD', # pool data at that hour (liquidity is for the whole pool)\n",
    "#               'pool.token0.symbol', 'pool.token1.symbol', # token data\n",
    "#               'token0Price', 'token1Price'\n",
    "#              ]\n",
    "# # https://github.com/Uniswap/uniswap-v3-subgraph/blob/main/schema.graphql\n",
    "# df_merged[watch_list].head(15)"
   ]
  },
  {
   "cell_type": "code",
   "execution_count": null,
   "id": "def293f7",
   "metadata": {},
   "outputs": [],
   "source": []
  },
  {
   "cell_type": "code",
   "execution_count": null,
   "id": "36a29dd7",
   "metadata": {},
   "outputs": [],
   "source": []
  }
 ],
 "metadata": {
  "kernelspec": {
   "display_name": "Python 3",
   "language": "python",
   "name": "python3"
  },
  "language_info": {
   "codemirror_mode": {
    "name": "ipython",
    "version": 3
   },
   "file_extension": ".py",
   "mimetype": "text/x-python",
   "name": "python",
   "nbconvert_exporter": "python",
   "pygments_lexer": "ipython3",
   "version": "3.8.10"
  }
 },
 "nbformat": 4,
 "nbformat_minor": 5
}
