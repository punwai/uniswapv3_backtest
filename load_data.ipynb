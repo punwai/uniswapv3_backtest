{
 "cells": [
  {
   "cell_type": "markdown",
   "id": "e4a85b5b",
   "metadata": {},
   "source": [
    "### Write well, Im going to be using this for a long time"
   ]
  },
  {
   "cell_type": "markdown",
   "id": "c58d93dd",
   "metadata": {},
   "source": [
    "#### Data we need:\n",
    "user input:\n",
    "- investment amount, trading pair -> amt0, amt1\n",
    "- start time and end time\n",
    "- time period that you assume fixed swap price, swap volumes or liquidity positions\n",
    "- upper and lower price\n",
    "- pool_fee_rate\n",
    "\n",
    "data from api:\n",
    "- cprice of each time period (tick, 1.0001 ** i)\n",
    "- L_pool at each time period at specific pool_fee_rate (liquidity?, or simply total X tokens + Y tokens in USD)\n",
    "- Swap volume at each time period at specific pool_fee_rate (volumeUSD?)\n",
    "- Gas cost to mint at each time period\n",
    "\n",
    "--------------------------------------------------------------------------------------------------------------"
   ]
  },
  {
   "cell_type": "markdown",
   "id": "0148c7cb",
   "metadata": {},
   "source": [
    "#### Fees\n",
    "The liquidity amount is calculated from the following numbers that describe a position: \n",
    "- amount of token 0 (amt0), amount of token 1 (amt1), \n",
    "- price (as x token 1's per token 0) at the upper limit of the position (upper), \n",
    "- price at the lower limit of the position (lower) \n",
    "- and the current swap price (cprice). \n",
    "\n",
    "Then liquidity (L_you?) for a position is calculated as follows:\n",
    "\n",
    "Case 1: cprice <= lower\n",
    "- liquidity = amt0 * (sqrt(upper) * sqrt(lower)) / (sqrt(upper) - sqrt(lower))\n",
    "\n",
    "Case 2: lower < cprice <= upper\n",
    "- liquidity is the min of the following two calculations:\n",
    "- amt0 * (sqrt(upper) * sqrt(cprice)) / (sqrt(upper) - sqrt(cprice))\n",
    "- amt1 / (sqrt(cprice) - sqrt(lower))\n",
    "\n",
    "Case 3: upper < cprice\n",
    "- liquidity = amt1 / (sqrt(upper) - sqrt(lower))\n",
    "\n",
    "Resources\n",
    "- liquidity can use this code: https://github.com/JNP777/UNI_V3-Liquitidy-amounts-calcs/blob/main/UNI_v3_funcs.py\n",
    "\n",
    "Fee is calculated by:\n",
    "- Fee income = (L_you/L_pool) * swap volume under fixed time period * pool_fee_rate/100\n",
    "- L_you also should be for that specific ticks only, not the whole amount you provided for. Its not linear, its calculated from the 3 cases above\n",
    "- Does Case1 and Case3's fee be 0 regardless?\n",
    "\n",
    "\n",
    "reference: https://uniswapv3.flipsidecrypto.com/\n",
    "- check my numbers with the reference from the website\n",
    "\n",
    "----------------------------------------------------------------------------------------"
   ]
  },
  {
   "cell_type": "markdown",
   "id": "65ffdf4b",
   "metadata": {},
   "source": [
    "#### Impermanent Loss\n",
    "- IL (in %) = (2 sqrt(p) / (p+1) ) - 1\n",
    "- where p = r_t1/r_t2\n",
    "- and r_t is a price in b at time 1\n",
    "- Net $ loss = total asset value in dollars at stake time * IL (in%)\n",
    "\n",
    "reference: https://chainbulletin.com/impermanent-loss-explained-with-examples-math/#:~:text=Impermanent%20loss%20is%20the%20difference,is%20equal%20to%20200%20DAI\n",
    "\n",
    "--------------------------------------------------------------------------------------------------------------"
   ]
  },
  {
   "cell_type": "markdown",
   "id": "fdfd1b0d",
   "metadata": {},
   "source": [
    "#### Other cost\n",
    "\n",
    "Gas_costs_mint = 500000 gwei * gas_price at that time (??? double check actual cost)"
   ]
  },
  {
   "cell_type": "markdown",
   "id": "81573320",
   "metadata": {},
   "source": [
    "### PNL/APR\n",
    "-PNL = Acumulated Fees_accrued (dolar value at generation) - IL - Gas_costs_mint\n",
    "\n",
    "-APR = PNL/Initial_capital*(age of the position / year time)\n",
    "\n",
    "--------------------------------------------------------------------------------------------------------------"
   ]
  },
  {
   "cell_type": "markdown",
   "id": "8f1a40fd",
   "metadata": {},
   "source": [
    "## Dependencies"
   ]
  },
  {
   "cell_type": "code",
   "execution_count": 1,
   "id": "ae3e42d6",
   "metadata": {},
   "outputs": [],
   "source": [
    "import requests\n",
    "import json\n",
    "import pandas as pd"
   ]
  },
  {
   "cell_type": "markdown",
   "id": "e54835fd",
   "metadata": {},
   "source": [
    "## Main Functions"
   ]
  },
  {
   "cell_type": "code",
   "execution_count": 93,
   "id": "b9d4140f",
   "metadata": {},
   "outputs": [],
   "source": [
    "# function to use requests.post to make an API call to the subgraph url\n",
    "def run_query(q):\n",
    "\n",
    "    # endpoint where you are making the request\n",
    "    request = requests.post('https://api.thegraph.com/subgraphs/name/uniswap/uniswap-v3'\n",
    "                            '',json={'query': q})\n",
    "    if request.status_code == 200:\n",
    "        return request\n",
    "    else:\n",
    "        raise Exception('Query failed. return code is {}.      {}'.format(request.status_code, query))\n",
    "        \n",
    "        \n",
    "# turns requests into dataframe        \n",
    "def results_to_df(query_result):\n",
    "    json_data_ = json.loads(query_result.text)\n",
    "    df_data_ = json_data_['data']['pools']\n",
    "    df_ = pd.DataFrame(df_data_)\n",
    "\n",
    "    return df_"
   ]
  },
  {
   "cell_type": "code",
   "execution_count": 118,
   "id": "4231eaae",
   "metadata": {},
   "outputs": [],
   "source": [
    "def get_token_id(symbol):\n",
    "    \n",
    "    # default should be first:10, in case there are more than 1 coins with the same symbol\n",
    "    query_ = \"\"\" \n",
    "    {{\n",
    "      tokens(first:1, where:{{symbol: \"{}\"}}) {{\n",
    "        id\n",
    "        symbol\n",
    "        name\n",
    "      }}\n",
    "    }}\"\"\".format(symbol)\n",
    "    \n",
    "    # run query\n",
    "    query_result_ = run_query(query_)\n",
    "    json_data_ = json.loads(query_result_.text)\n",
    "    print(json_data_)\n",
    "    \n",
    "    # make sure only return 1 object\n",
    "    if len(json_data_['data']['tokens']) == 1:\n",
    "        token_id_ = json_data_['data']['tokens'][0]['id']\n",
    "        return token_id_\n",
    "        \n",
    "    else:\n",
    "        print(json_data_['data'])\n",
    "        raise Exception('Returned number of token_ids != 1')\n",
    "\n",
    "        \n",
    "def get_pool_id(token0_id, token1_id, feeTier):\n",
    "    query_ = \"\"\"\n",
    "    {{\n",
    "      pools(first: 10, \n",
    "        where:{{token0: \"{}\",\n",
    "        token1: \"{}\",\n",
    "        feeTier:\"{}\" }}) \n",
    "      {{\n",
    "        id\n",
    "        token0{{symbol}}\n",
    "        token1{{symbol}}\n",
    "        feeTier\n",
    "      }}\n",
    "    }}\"\"\".format(token0_id, token1_id, feeTier)\n",
    "    \n",
    "    \n",
    "    # run query\n",
    "    query_result_ = run_query(query_)\n",
    "    json_data_ = json.loads(query_result_.text)\n",
    "    print(json_data_)\n",
    "    \n",
    "    \n",
    "    if len(json_data_['data']['pools']) == 1:\n",
    "        pool_id_ = json_data_['data']['pools'][0]['id']\n",
    "        return pool_id_\n",
    "    else:\n",
    "        print(json_data_['data'])\n",
    "        raise Exception('Returned number of token_ids != 1')\n",
    "\n",
    "        \n",
    "    return json_data_"
   ]
  },
  {
   "cell_type": "code",
   "execution_count": null,
   "id": "cb01cf83",
   "metadata": {},
   "outputs": [],
   "source": [
    "def get_poolDayDatas(pool_id, timeframe):\n",
    "    \n",
    "    \n",
    "    return json_data_\n",
    "\n",
    "\n",
    "\n",
    "def poolDayDatas_json_to_df(poolDayDatas_json_data_):\n",
    "    \n",
    "    \n",
    "    return poolDayDatas_df"
   ]
  },
  {
   "cell_type": "code",
   "execution_count": 119,
   "id": "caafafbf",
   "metadata": {},
   "outputs": [
    {
     "name": "stdout",
     "output_type": "stream",
     "text": [
      "{'data': {'tokens': [{'id': '0x6b175474e89094c44da98b954eedeac495271d0f', 'name': 'Dai Stablecoin', 'symbol': 'DAI'}]}}\n",
      "{'data': {'tokens': [{'id': '0xc02aaa39b223fe8d0a0e5c4f27ead9083c756cc2', 'name': 'Wrapped Ether', 'symbol': 'WETH'}]}}\n",
      "{'data': {'pools': [{'feeTier': '3000', 'id': '0xc2e9f25be6257c210d7adf0d4cd6e3e881ba25f8', 'token0': {'symbol': 'DAI'}, 'token1': {'symbol': 'WETH'}}]}}\n"
     ]
    }
   ],
   "source": [
    "token0_id = get_token_id('DAI')\n",
    "token1_id = get_token_id('WETH')\n",
    "feeTier = '3000'\n",
    "pool_id = get_pool_id(token0_id, token1_id, feeTier)\n"
   ]
  },
  {
   "cell_type": "code",
   "execution_count": 120,
   "id": "112bec71",
   "metadata": {
    "scrolled": true
   },
   "outputs": [
    {
     "data": {
      "text/plain": [
       "'0xc2e9f25be6257c210d7adf0d4cd6e3e881ba25f8'"
      ]
     },
     "execution_count": 120,
     "metadata": {},
     "output_type": "execute_result"
    }
   ],
   "source": [
    "pool_id"
   ]
  },
  {
   "cell_type": "code",
   "execution_count": null,
   "id": "fb91b67d",
   "metadata": {},
   "outputs": [],
   "source": []
  },
  {
   "cell_type": "code",
   "execution_count": null,
   "id": "5ca7421b",
   "metadata": {},
   "outputs": [],
   "source": []
  },
  {
   "cell_type": "code",
   "execution_count": null,
   "id": "8ee2096f",
   "metadata": {},
   "outputs": [],
   "source": []
  },
  {
   "cell_type": "code",
   "execution_count": null,
   "id": "2c854882",
   "metadata": {},
   "outputs": [],
   "source": []
  },
  {
   "cell_type": "code",
   "execution_count": null,
   "id": "e0a1d3f3",
   "metadata": {},
   "outputs": [],
   "source": []
  },
  {
   "cell_type": "code",
   "execution_count": null,
   "id": "5b1a1a72",
   "metadata": {},
   "outputs": [],
   "source": []
  },
  {
   "cell_type": "code",
   "execution_count": null,
   "id": "b530a1af",
   "metadata": {},
   "outputs": [],
   "source": []
  },
  {
   "cell_type": "markdown",
   "id": "74cbdd70",
   "metadata": {},
   "source": [
    "Get Token ids >\n",
    "Pool ids > "
   ]
  },
  {
   "cell_type": "markdown",
   "id": "37441152",
   "metadata": {},
   "source": [
    "##### Query tokens with symbol\n",
    "{\n",
    "  tokens(first:10, where:{symbol: \"WETH\"}) {\n",
    "    id\n",
    "    symbol\n",
    "    name\n",
    "  }\n",
    "}\n",
    "\n",
    "##### Query pools with token0 id,  token1 ids and feeTiers\n",
    "{\n",
    "  pools(first:10, \n",
    "    where:{token0:\"0x6b175474e89094c44da98b954eedeac495271d0f\",\n",
    "    token1: \"0xc02aaa39b223fe8d0a0e5c4f27ead9083c756cc2\",\n",
    "    feeTier:\"3000\" }) \n",
    "  {\n",
    "    id\n",
    "    token0{symbol}\n",
    "    token1{symbol}\n",
    "    feeTier\n",
    "  }\n",
    "}\n",
    "\n",
    "##### Query poolDayDatas with pool id, order by date - Needs to be iterative (max 1000 query)\n",
    "{\n",
    "  poolDayDatas(first:1000,\n",
    "  next: 1000,\n",
    "    where:{pool:\"0xa80964c5bbd1a0e95777094420555fead1a26c1e\"},\n",
    "  orderBy:date,\n",
    "  orderDirection: desc) \n",
    "  {\n",
    "    date\n",
    "    tick\n",
    "    liquidity\n",
    "    volumeUSD\n",
    "  }\n",
    "}\n",
    "\n",
    "\n",
    "\n",
    "\n",
    "\n",
    "##### Query examples on filtering\n",
    "\n",
    "{\n",
    "  pools\n",
    "  (first: 10, \n",
    "    where: {liquidity_gt: \"1000000\", \n",
    "      feeTier: \"10000\"}\n",
    "    orderBy: liquidity, \n",
    "    orderDirection: desc)\n",
    "  {\n",
    "    token0{symbol}\n",
    "    token1{symbol}\n",
    "    liquidity\n",
    "  }\n",
    "\n",
    "\n",
    "(token0) DAI id = 0x6b175474e89094c44da98b954eedeac495271d0f\n",
    "(token1) WETH id = 0xc02aaa39b223fe8d0a0e5c4f27ead9083c756cc2\n",
    "(feeTier) \"3000\"\n",
    "\n",
    "(DAI-WETH 500) Pool id = 0x60594a405d53811d3bc4766596efd80fd545a270\n",
    "(DAI-WETH 3000) Pool id = 0xc2e9f25be6257c210d7adf0d4cd6e3e881ba25f8\n",
    "(DAI-WETH 1000) Pool id = 0xa80964c5bbd1a0e95777094420555fead1a26c1e\n",
    "\n",
    "\n"
   ]
  },
  {
   "cell_type": "markdown",
   "id": "d9bac8cf",
   "metadata": {},
   "source": [
    "## test using functions"
   ]
  },
  {
   "cell_type": "code",
   "execution_count": null,
   "id": "18b64c2c",
   "metadata": {},
   "outputs": [],
   "source": []
  },
  {
   "cell_type": "code",
   "execution_count": null,
   "id": "63ce4fe0",
   "metadata": {},
   "outputs": [],
   "source": []
  },
  {
   "cell_type": "code",
   "execution_count": null,
   "id": "f530b6e5",
   "metadata": {},
   "outputs": [],
   "source": []
  },
  {
   "cell_type": "code",
   "execution_count": null,
   "id": "393158c8",
   "metadata": {},
   "outputs": [],
   "source": []
  },
  {
   "cell_type": "code",
   "execution_count": null,
   "id": "c18206f8",
   "metadata": {},
   "outputs": [],
   "source": []
  }
 ],
 "metadata": {
  "kernelspec": {
   "display_name": "Python 3",
   "language": "python",
   "name": "python3"
  },
  "language_info": {
   "codemirror_mode": {
    "name": "ipython",
    "version": 3
   },
   "file_extension": ".py",
   "mimetype": "text/x-python",
   "name": "python",
   "nbconvert_exporter": "python",
   "pygments_lexer": "ipython3",
   "version": "3.8.10"
  }
 },
 "nbformat": 4,
 "nbformat_minor": 5
}
