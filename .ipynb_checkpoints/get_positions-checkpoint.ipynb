{
 "cells": [
  {
   "cell_type": "markdown",
   "id": "e507957e",
   "metadata": {},
   "source": [
    "### This notebook is to generate df of Positions, that is resulted in our strategy"
   ]
  },
  {
   "cell_type": "code",
   "execution_count": 1,
   "id": "4c9827e2",
   "metadata": {},
   "outputs": [],
   "source": [
    "import pandas as pd\n",
    "from math import sqrt\n",
    "import math\n",
    "\n",
    "import requests\n",
    "import json\n",
    "import numpy as np\n",
    "\n",
    "import UNI_v3_funcs as liq_amounts\n",
    "import load_data"
   ]
  },
  {
   "cell_type": "markdown",
   "id": "c90ac6e2",
   "metadata": {},
   "source": [
    "### Query Functions"
   ]
  },
  {
   "cell_type": "code",
   "execution_count": 2,
   "id": "225864d0",
   "metadata": {},
   "outputs": [],
   "source": [
    "def get_cprice_tick_at_mint(token0, token1, feeTier, mint_time, decimal0, decimal1):\n",
    "    \n",
    "    # get token_ids\n",
    "    token0_id = load_data.get_token_id(token0)\n",
    "    token1_id = load_data.get_token_id(token1)\n",
    "    pool_id = load_data.get_pool_id(token0_id, token1_id, feeTier)\n",
    "        \n",
    "    # query price at that specific time\n",
    "    query_ = \"\"\"\n",
    "    {{\n",
    "      poolHourDatas(first:1,\n",
    "      where:{{ pool: \"{}\",\n",
    "      periodStartUnix: {} }}\n",
    "      ){{\n",
    "        tick\n",
    "      }}\n",
    "    }}\"\"\".format(pool_id, mint_time)\n",
    "    \n",
    "    query_result_ = load_data.run_query(query_)\n",
    "    json_data_ = json.loads(query_result_.text)\n",
    "    \n",
    "    ctick = int(json_data_['data']['poolHourDatas'][0]['tick'])\n",
    "    cprice = tick_to_price(ctick,decimal0, decimal1)\n",
    "    \n",
    "    return cprice, ctick\n",
    "\n",
    "def get_decimals(token_symbol):\n",
    "    query_ = \"\"\"\n",
    "    {{\n",
    "      tokens(first:10,\n",
    "      where:{{ symbol: \"{}\"}}\n",
    "      ){{\n",
    "        decimals\n",
    "      }}\n",
    "    }}\"\"\".format(token_symbol)\n",
    "    \n",
    "    query_result_ = load_data.run_query(query_)\n",
    "    json_data_ = json.loads(query_result_.text)\n",
    "    decimal_ = float(json_data_['data']['tokens'][0]['decimals'])\n",
    "    \n",
    "    return decimal_"
   ]
  },
  {
   "cell_type": "markdown",
   "id": "937e670d",
   "metadata": {},
   "source": [
    "### Positions Genrations"
   ]
  },
  {
   "cell_type": "code",
   "execution_count": 3,
   "id": "0240a92a",
   "metadata": {},
   "outputs": [],
   "source": [
    "def get_positions_fixed_strategy(mint_time, burn_time, upper_, lower_, \n",
    "                                 decimal0_, decimal1_, feetier_, \n",
    "                                 mint_amount0, mint_amount1, mint_tick):\n",
    "    \n",
    "    df_positions = pd.DataFrame()\n",
    "    df_positions['periodStartUnix'] = list(range(mint_time, burn_time+1, 3600))\n",
    "    df_positions['upper'] = upper_\n",
    "    df_positions['lower'] = lower_\n",
    "    df_positions['upper_tick'] = price_to_tick(upper_, decimal0_, decimal1_)\n",
    "    df_positions['lower_tick'] = price_to_tick(lower_, decimal0_, decimal1_)\n",
    "    \n",
    "    df_positions['mint_amount0'] = mint_amount0\n",
    "    df_positions['mint_amount1'] = mint_amount1\n",
    "    df_positions['decimal0'] = decimal0_\n",
    "    df_positions['decimal1'] = decimal1_\n",
    "    df_positions['feeTier'] = int(feetier_)    \n",
    "    df_positions['mint_tick'] = int(mint_tick)\n",
    "    \n",
    "    return df_positions"
   ]
  },
  {
   "cell_type": "markdown",
   "id": "b74a3b00",
   "metadata": {},
   "source": [
    "### Calculations Functions"
   ]
  },
  {
   "cell_type": "code",
   "execution_count": 4,
   "id": "3c9c7606",
   "metadata": {},
   "outputs": [],
   "source": [
    "def price_to_tick(price_, decimal0_, decimal1_):\n",
    "    # convert price (token1 by token0) to tick\n",
    "    tick_ = math.floor( math.log(price_*10**(decimal1_-decimal0_), 1.0001) )\n",
    "    return tick_\n",
    "\n",
    "def tick_to_price(tick_,decimal0_, decimal1_):\n",
    "    price_ = (1.0001**tick_/10**(decimal1_-decimal0_))\n",
    "    return price_"
   ]
  },
  {
   "cell_type": "code",
   "execution_count": 5,
   "id": "e9d5033e",
   "metadata": {},
   "outputs": [],
   "source": [
    "def check_inRange(ctick, lower_tick, upper_tick):\n",
    "\n",
    "    if int(ctick) > int(upper_tick):\n",
    "        inRange = 0\n",
    "    elif int(ctick) < int(lower_tick):\n",
    "        inRange = 0\n",
    "    else: \n",
    "        inRange = 1\n",
    "    \n",
    "    return inRange"
   ]
  },
  {
   "cell_type": "code",
   "execution_count": 6,
   "id": "068889b7",
   "metadata": {},
   "outputs": [],
   "source": [
    "# # Calculate Fees\n",
    "# # TODO: Clean this up (make it DF operations, make it just 1 function)\n",
    "\n",
    "\n",
    "# def get_fees(lower_tick_, upper_tick_, ctick_,  L_Pool_, swap_Volume_, amount0_p, amount1_p, amt0_, amt1_, decimal0_, decimal1_, feeTier, mint_tick):\n",
    "#     # (lower_tick_, upper_tick_) from df_positions\n",
    "#     # (ctick, L_Pool, swap_volume, amount0_p, amount1_p) from df_merged\n",
    "#     # (amt0, amt1) - this changes based on swaps, but doesnt matter, bacause liquidity always constant\n",
    "#     # (decimal0, decimal1, feetier, mint_tick) - fixeds\n",
    "    \n",
    "#     mint_liquidity = liq_amounts.get_liquidity(mint_tick, lower_tick_,upper_tick_, amt0_, amt1_, decimal0_, decimal1_)\n",
    "#     L_you_ = mint_liquidity # always constant, according to JNP\n",
    "    \n",
    "#     inRange_ = check_inRange(ctick_, lower_tick_,upper_tick_)\n",
    "    \n",
    "#     if inRange_:\n",
    "#         pool_share_ = (L_you_/L_Pool_)\n",
    "#         pool_fee_rate_ = float(feeTier) / 10000\n",
    "#         fees_0 = pool_share_ * amount0_p * pool_fee_rate_ / 100\n",
    "#         fees_1 = pool_share_ * amount1_p * pool_fee_rate_ / 100\n",
    "#     else:\n",
    "#         fees_0 = 0\n",
    "#         fees_1 = 0\n",
    "#         pool_share_ = 0\n",
    "    \n",
    "#     return fees_0, fees_1, pool_share_, L_you_\n",
    "\n",
    "# def calculate_pnl_from_positions(df_merged, df_positions):\n",
    "#     # TODO: re-calculate amount0 and amount1 to account for every swaps, not just deltas of that hour\n",
    "#     # use amount0_new and amount1_new instead of amountUSD, and get total accured fees in tokens\n",
    "#     # Swap_amountIn > so the fees is get from the (+) positive tokens\n",
    "#     # Therefore, fees you get is in \n",
    "#     # Convert those tokens into value (convert using TODAY's value or mints's value?)\n",
    "    \n",
    "#     merge_feat = ['periodStartUnix', 'tick','liquidity', 'amountUSD', 'amount0_p', 'amount1_p']\n",
    "\n",
    "#     df_positions_fees = df_positions.merge(df_merged[merge_feat], how='left', on='periodStartUnix')\n",
    "#     df_positions_fees['liquidity'] = df_positions_fees['liquidity'].astype(float)\n",
    "\n",
    "#     df_positions_fees = df_positions_fees.reset_index() # cleaning it just in case\n",
    "#     for index, row in df_positions_fees.iterrows():\n",
    "#         row = row.copy()\n",
    "#         fees_0, fees_1, pool_share, L_you = get_fees(row['lower_tick'],row['upper_tick'],row['tick'],\n",
    "#                         float(row['liquidity']),row['amountUSD'],\n",
    "#                         row['amount0_p'], row['amount1_p'],\n",
    "#                         MINT_AMT0, MINT_AMT1, DECIMAL0, DECIMAL1, FEETIER, MINT_TICK)\n",
    "       \n",
    "#         df_positions_fees.loc[index, 'fees_0'] = fees_0\n",
    "#         df_positions_fees.loc[index, 'fees_1'] = fees_1\n",
    "#         df_positions_fees.loc[index, 'pool_share'] = pool_share\n",
    "#         df_positions_fees.loc[index, 'L_you'] = L_you\n",
    "        \n",
    "#     return df_positions_fees"
   ]
  },
  {
   "cell_type": "code",
   "execution_count": 7,
   "id": "ad914250",
   "metadata": {},
   "outputs": [],
   "source": [
    "def get_fees_from_positions(df_merged_, df_positions_):\n",
    "    \n",
    "    merge_feat_ = ['periodStartUnix', 'tick','liquidity', 'amountUSD', 'amount0_p', 'amount1_p']\n",
    "    df_ = df_positions_.merge(df_merged_[merge_feat_], how='left',on='periodStartUnix')\n",
    "    \n",
    "    # CAREFUL: \n",
    "    print('Shape Before dropNA: {}'.format(df_.shape))\n",
    "    df_ = df_.dropna(subset=['tick','liquidity'])\n",
    "    print('Shape After dropNA: {}'.format(df_.shape))\n",
    "\n",
    "    # assigns features neccessary for fees calculation\n",
    "    df_['L_you'] = df_.apply(lambda x: liq_amounts.get_liquidity(x['mint_tick'], x['lower_tick'],\n",
    "                                            x['upper_tick'], x['mint_amount0'], x['mint_amount1'],\n",
    "                                            x['decimal0'], x['decimal1']), axis=1)\n",
    "    df_['pool_share'] = df_['L_you']/df_['liquidity']\n",
    "    df_['inRange'] = df_.apply(lambda x: check_inRange(x['tick'], \n",
    "                                            x['lower_tick'], x['upper_tick']),axis=1)\n",
    "    df_['fees0'] = df_['inRange'] * df_['pool_share'] * df_['amount0_p'] * df_['feeTier'] / (10000*100)\n",
    "    df_['fees1'] = df_['inRange'] * df_['pool_share'] * df_['amount1_p'] * df_['feeTier'] / (10000*100)\n",
    "\n",
    "    return df_"
   ]
  },
  {
   "cell_type": "markdown",
   "id": "eb71ae6a",
   "metadata": {},
   "source": [
    "### Main"
   ]
  },
  {
   "cell_type": "code",
   "execution_count": null,
   "id": "f80b2c6a",
   "metadata": {},
   "outputs": [],
   "source": []
  },
  {
   "cell_type": "code",
   "execution_count": null,
   "id": "b203edf9",
   "metadata": {},
   "outputs": [],
   "source": [
    "# STEP 0:  PROVIDE BY USERS\n",
    "UPPER = 1/1844.6164 # 1/1844.6164  # token1 per token0 (in terms of price)\n",
    "LOWER = 1/2858.3641 # 1/2858.3641  # 1/2376.6075 \n",
    "FEETIER = '3000' # 0.3 = 3000/10000\n",
    "TOKEN0 = 'USDC'\n",
    "TOKEN1 = 'WETH'\n",
    "# needs to start with the hour (unixTime % 3600 = 0)\n",
    "MINT_TIME = 1622304000 # 4PM May 29 (UTC/GMT)\n",
    "BURN_TIME = 1627866000 # 1AM Aug 02 (UTC/GMT)\n",
    "\n",
    "# STEP 1 (TODO): CALCULATED BY ALGORITHM, JNP's amounts_relation ?\n",
    "# THIS CHANGES over time when swaps happens, and we need this to calculate IL\n",
    "MINT_AMT0 = 252208.7053\n",
    "MINT_AMT1 = 99.0604"
   ]
  },
  {
   "cell_type": "code",
   "execution_count": null,
   "id": "75e15f7c",
   "metadata": {},
   "outputs": [],
   "source": [
    "# Get required constants\n",
    "DECIMAL0 = get_decimals(TOKEN0)\n",
    "DECIMAL1 = get_decimals(TOKEN1)\n",
    "print(DECIMAL0, DECIMAL1)\n",
    "\n",
    "MINT_PRICE, MINT_TICK = get_cprice_tick_at_mint(TOKEN0, TOKEN1, FEETIER, MINT_TIME, DECIMAL0, DECIMAL1)\n",
    "print(MINT_PRICE, 1/MINT_PRICE)\n",
    "print(MINT_TICK)"
   ]
  },
  {
   "cell_type": "code",
   "execution_count": null,
   "id": "ec4a3b07",
   "metadata": {},
   "outputs": [],
   "source": [
    "# STEP 3 (TODO): Generate df_positions\n",
    "df_positions = get_positions_fixed_strategy(MINT_TIME, BURN_TIME, UPPER, LOWER, \n",
    "                                            DECIMAL0, DECIMAL1, FEETIER, MINT_AMT0,\n",
    "                                           MINT_AMT1, MINT_TICK)"
   ]
  },
  {
   "cell_type": "code",
   "execution_count": null,
   "id": "ec4c2aaa",
   "metadata": {
    "scrolled": true
   },
   "outputs": [],
   "source": [
    "# Get DF_Merged (accumulated swaps data)\n",
    "# df_merged = pd.read_csv('../data/df_merged_tmp_USDC-WETH-3000-timestamp-1627873200-1620169200.csv')\n",
    "df_merged = load_data.get_data(TOKEN0, TOKEN1, FEETIER)"
   ]
  },
  {
   "cell_type": "code",
   "execution_count": null,
   "id": "33d9cb5b",
   "metadata": {},
   "outputs": [],
   "source": [
    "df_merged.info()"
   ]
  },
  {
   "cell_type": "code",
   "execution_count": null,
   "id": "4c8315b1",
   "metadata": {},
   "outputs": [],
   "source": [
    "# STEP 4 (TODO): Calculate Fees, IL and PNL at each hour, and append to df_positions\n",
    "df_positions_fees = calculate_pnl_from_positions(df_merged, df_positions)"
   ]
  },
  {
   "cell_type": "code",
   "execution_count": null,
   "id": "23abb719",
   "metadata": {},
   "outputs": [],
   "source": [
    "# STEP 5 (TODO): also accoutning for minting/burning/swaping costs into PNL"
   ]
  },
  {
   "cell_type": "code",
   "execution_count": null,
   "id": "a2628aca",
   "metadata": {},
   "outputs": [],
   "source": [
    "TOKEN0_TO_USD = 1\n",
    "TOKEN1_TO_USD = 2561.94\n",
    "\n",
    "fees_token0 = df_positions_fees['fees_0'].sum()\n",
    "fees_token1 = df_positions_fees['fees_1'].sum()\n",
    "\n",
    "totalfees_USD = ( fees_token0*TOKEN0_TO_USD )+ (fees_token1 *TOKEN1_TO_USD)\n",
    "\n",
    "print(fees_token0, fees_token1, totalfees_USD)\n",
    "revert_fees0 = 37795.612553\n",
    "revert_fees1 = 16.845536\n",
    "error_margin_fees0 = (1 - fees_token0/revert_fees0)*100\n",
    "error_margin_fees1 = (1 - fees_token1/revert_fees1)*100\n",
    "print('error margin token0 = {} %, token1 = {} %'.format(error_margin_fees0, error_margin_fees1))"
   ]
  },
  {
   "cell_type": "markdown",
   "id": "b7c53cb8",
   "metadata": {},
   "source": [
    "### Testing margin of Errors"
   ]
  },
  {
   "cell_type": "code",
   "execution_count": 8,
   "id": "8dfe969d",
   "metadata": {},
   "outputs": [],
   "source": [
    "# References: \n",
    "# 1. https://revert.finance/#/uniswap-position/27782\n",
    "# 2. https://revert.finance/#/uniswap-position/2067\n",
    "# 3. https://revert.finance/#/uniswap-position/19724\n",
    "\n",
    "UPPERS = [1/1844.6164 , 1.0014, 1/1655.7876]\n",
    "LOWERS = [1/2858.3641 , 1.0004, 1/3334.2300] \n",
    "FEETIERS = ['3000' , '500', '10000']\n",
    "TOKEN0S = ['USDC' , 'DAI', 'USDC']\n",
    "TOKEN1S = ['WETH' , 'USDC', 'WETH']\n",
    "MINT_TIMES = [1622304000, 1620259200, 1621641600] # _____ ,may6th, may22nd\n",
    "BURN_TIMES = [1627902000, 1627902000, 1627894800] # NOWS\n",
    "\n",
    "MINT_AMOUNT0S = [252208.7053 , 13068.6711, 771.4900]\n",
    "MINT_AMOUNT1S = [99.0604 , 12194.3375, 0.2697]\n",
    "\n",
    "TOKEN0_TO_USDS = [1, 1, 1 ]\n",
    "TOKEN1_TO_USDS = [2578.84 , 1, 2578.84 ]\n",
    "\n",
    "REVERT_FEES0 = [37795.612553 , 421.148243, 136.562165]\n",
    "REVERT_FEES1 = [16.845536 , 420.589287, 0.060010 ]"
   ]
  },
  {
   "cell_type": "code",
   "execution_count": 9,
   "id": "1e9b84a9",
   "metadata": {},
   "outputs": [],
   "source": [
    "i = 0\n",
    "\n",
    "UPPER = UPPERS[i]\n",
    "LOWER = LOWERS[i] \n",
    "FEETIER = FEETIERS[i]\n",
    "TOKEN0 = TOKEN0S[i]\n",
    "TOKEN1 = TOKEN1S[i]\n",
    "\n",
    "MINT_TIME = MINT_TIMES[i] \n",
    "BURN_TIME = BURN_TIMES[i] \n",
    "\n",
    "MINT_AMT0 = MINT_AMOUNT0S[i]\n",
    "MINT_AMT1 = MINT_AMOUNT1S[i]\n",
    "\n",
    "TOKEN0_TO_USD = TOKEN0_TO_USDS[i]\n",
    "TOKEN1_TO_USD = TOKEN1_TO_USDS[i]"
   ]
  },
  {
   "cell_type": "code",
   "execution_count": 10,
   "id": "f8b6d1d9",
   "metadata": {},
   "outputs": [
    {
     "name": "stdout",
     "output_type": "stream",
     "text": [
      "6.0 18.0\n",
      " \n",
      "get_token_id: USDC\n",
      "{'data': {'tokens': [{'id': '0xa0b86991c6218b36c1d19d4a2e9eb0ce3606eb48', 'name': 'USD Coin', 'symbol': 'USDC'}]}}\n",
      " \n",
      "get_token_id: WETH\n",
      "{'data': {'tokens': [{'id': '0xc02aaa39b223fe8d0a0e5c4f27ead9083c756cc2', 'name': 'Wrapped Ether', 'symbol': 'WETH'}]}}\n",
      "\n",
      " get_pool_id for feeTier: 3000\n",
      "{'data': {'pools': [{'feeTier': '3000', 'id': '0x8ad599c3a0ff1de082011efddc58f1908eb6e6d8', 'token0': {'symbol': 'USDC'}, 'token1': {'symbol': 'WETH'}}]}}\n",
      "0.00042136376404820986 2373.2463142834135\n",
      "198600\n"
     ]
    }
   ],
   "source": [
    "# Get required constants\n",
    "DECIMAL0 = get_decimals(TOKEN0)\n",
    "DECIMAL1 = get_decimals(TOKEN1)\n",
    "print(DECIMAL0, DECIMAL1)\n",
    "\n",
    "MINT_PRICE, MINT_TICK = get_cprice_tick_at_mint(TOKEN0, TOKEN1, FEETIER, MINT_TIME, DECIMAL0, DECIMAL1)\n",
    "print(MINT_PRICE, 1/MINT_PRICE)\n",
    "print(MINT_TICK)\n",
    "\n",
    "revert_fees0 = REVERT_FEES0[i]\n",
    "revert_fees1 = REVERT_FEES1[i]"
   ]
  },
  {
   "cell_type": "code",
   "execution_count": 11,
   "id": "1a38459b",
   "metadata": {},
   "outputs": [],
   "source": [
    "df_positions = get_positions_fixed_strategy(MINT_TIME, BURN_TIME, UPPER, LOWER, \n",
    "                                            DECIMAL0, DECIMAL1, FEETIER, MINT_AMT0,\n",
    "                                           MINT_AMT1, MINT_TICK)"
   ]
  },
  {
   "cell_type": "code",
   "execution_count": 12,
   "id": "5e58d8ad",
   "metadata": {
    "scrolled": true
   },
   "outputs": [
    {
     "name": "stdout",
     "output_type": "stream",
     "text": [
      " \n",
      "get_token_id: USDC\n",
      "{'data': {'tokens': [{'id': '0xa0b86991c6218b36c1d19d4a2e9eb0ce3606eb48', 'name': 'USD Coin', 'symbol': 'USDC'}]}}\n",
      " \n",
      "get_token_id: WETH\n",
      "{'data': {'tokens': [{'id': '0xc02aaa39b223fe8d0a0e5c4f27ead9083c756cc2', 'name': 'Wrapped Ether', 'symbol': 'WETH'}]}}\n",
      "\n",
      " get_pool_id for feeTier: 3000\n",
      "{'data': {'pools': [{'feeTier': '3000', 'id': '0x8ad599c3a0ff1de082011efddc58f1908eb6e6d8', 'token0': {'symbol': 'USDC'}, 'token1': {'symbol': 'WETH'}}]}}\n",
      " \n",
      "\n",
      " Queried poolHourDatas, total of 2141 datapoints\n",
      "time_start: 1627912800, time_end: 1620169200\n",
      "next_time_start_: 1627912800\n",
      "Queried Swaps, total of 6000 datapoints\n",
      " \n",
      "next_time_start_: 1627175324\n",
      "Queried Swaps, total of 6000 datapoints\n",
      " \n",
      "next_time_start_: 1626376774\n",
      "Queried Swaps, total of 6000 datapoints\n",
      " \n",
      "next_time_start_: 1625533041\n",
      "Queried Swaps, total of 6000 datapoints\n",
      " \n",
      "next_time_start_: 1624864301\n",
      "Queried Swaps, total of 6000 datapoints\n",
      " \n",
      "next_time_start_: 1624399261\n",
      "Queried Swaps, total of 6000 datapoints\n",
      " \n",
      "next_time_start_: 1624082720\n",
      "Queried Swaps, total of 6000 datapoints\n",
      " \n",
      "next_time_start_: 1623513975\n",
      "Queried Swaps, total of 6000 datapoints\n",
      " \n",
      "next_time_start_: 1623116485\n",
      "Queried Swaps, total of 6000 datapoints\n",
      " \n",
      "next_time_start_: 1622567577\n",
      "Queried Swaps, total of 6000 datapoints\n",
      " \n",
      "next_time_start_: 1622317869\n",
      "Queried Swaps, total of 6000 datapoints\n",
      " \n",
      "next_time_start_: 1622121622\n",
      "Queried Swaps, total of 6000 datapoints\n",
      " \n",
      "next_time_start_: 1621928541\n",
      "Queried Swaps, total of 6000 datapoints\n",
      " \n",
      "next_time_start_: 1621776529\n",
      "Queried Swaps, total of 6000 datapoints\n",
      " \n",
      "next_time_start_: 1621610251\n",
      "Queried Swaps, total of 6000 datapoints\n",
      " \n",
      "next_time_start_: 1621432537\n",
      "Queried Swaps, total of 6000 datapoints\n",
      " \n",
      "next_time_start_: 1621196147\n",
      "Queried Swaps, total of 6000 datapoints\n",
      " \n",
      "next_time_start_: 1620725360\n",
      "Queried Swaps, total of 3690 datapoints\n",
      " \n",
      "next_time_start_: 1620179784\n",
      "Queried Swaps, total of 1 datapoints\n",
      " \n",
      "next_time_start_: 1620179784\n",
      "Queried Swaps, total of 1 datapoints\n",
      " \n",
      "next_time_start_: 1620179784\n",
      "Queried Swaps, total of 1 datapoints\n",
      " \n",
      "next_time_start_: 1620179784\n",
      "Queried Swaps, total of 1 datapoints\n",
      " \n",
      "next_time_start_: 1620179784\n",
      "Queried Swaps, total of 1 datapoints\n",
      " \n",
      "next_time_start_: 1620179784\n",
      "Queried Swaps, total of 1 datapoints\n",
      " \n",
      "next_time_start_: 1620179784\n",
      "Queried Swaps, total of 1 datapoints\n",
      " \n",
      "next_time_start_: 1620179784\n",
      "Queried Swaps, total of 1 datapoints\n",
      " \n",
      "next_time_start_: 1620179784\n",
      "Queried Swaps, total of 1 datapoints\n",
      " \n",
      "Total swaps data = 105667\n"
     ]
    }
   ],
   "source": [
    "df_merged = load_data.get_data(TOKEN0, TOKEN1, FEETIER)\n",
    "# df_merged = df_merged.fillna(0)"
   ]
  },
  {
   "cell_type": "code",
   "execution_count": 13,
   "id": "b3014707",
   "metadata": {
    "scrolled": true
   },
   "outputs": [
    {
     "name": "stdout",
     "output_type": "stream",
     "text": [
      "Shape Before dropNA: (1556, 16)\n"
     ]
    },
    {
     "ename": "NameError",
     "evalue": "name 'df_positions_fees' is not defined",
     "output_type": "error",
     "traceback": [
      "\u001b[0;31m---------------------------------------------------------------------------\u001b[0m",
      "\u001b[0;31mNameError\u001b[0m                                 Traceback (most recent call last)",
      "\u001b[0;32m<ipython-input-13-aab82bf9f4d7>\u001b[0m in \u001b[0;36m<module>\u001b[0;34m\u001b[0m\n\u001b[0;32m----> 1\u001b[0;31m \u001b[0mdf_positions_fees\u001b[0m \u001b[0;34m=\u001b[0m \u001b[0mget_fees_from_positions\u001b[0m\u001b[0;34m(\u001b[0m\u001b[0mdf_merged\u001b[0m\u001b[0;34m,\u001b[0m \u001b[0mdf_positions\u001b[0m\u001b[0;34m)\u001b[0m\u001b[0;34m\u001b[0m\u001b[0;34m\u001b[0m\u001b[0m\n\u001b[0m",
      "\u001b[0;32m<ipython-input-7-9ae2f566892b>\u001b[0m in \u001b[0;36mget_fees_from_positions\u001b[0;34m(df_merged_, df_positions_)\u001b[0m\n\u001b[1;32m      6\u001b[0m     \u001b[0;31m# CAREFUL:\u001b[0m\u001b[0;34m\u001b[0m\u001b[0;34m\u001b[0m\u001b[0;34m\u001b[0m\u001b[0m\n\u001b[1;32m      7\u001b[0m     \u001b[0mprint\u001b[0m\u001b[0;34m(\u001b[0m\u001b[0;34m'Shape Before dropNA: {}'\u001b[0m\u001b[0;34m.\u001b[0m\u001b[0mformat\u001b[0m\u001b[0;34m(\u001b[0m\u001b[0mdf_\u001b[0m\u001b[0;34m.\u001b[0m\u001b[0mshape\u001b[0m\u001b[0;34m)\u001b[0m\u001b[0;34m)\u001b[0m\u001b[0;34m\u001b[0m\u001b[0;34m\u001b[0m\u001b[0m\n\u001b[0;32m----> 8\u001b[0;31m     \u001b[0mdf_\u001b[0m \u001b[0;34m=\u001b[0m \u001b[0mdf_positions_fees\u001b[0m\u001b[0;34m.\u001b[0m\u001b[0mdropna\u001b[0m\u001b[0;34m(\u001b[0m\u001b[0msubset\u001b[0m\u001b[0;34m=\u001b[0m\u001b[0;34m[\u001b[0m\u001b[0;34m'tick'\u001b[0m\u001b[0;34m,\u001b[0m\u001b[0;34m'liquidity'\u001b[0m\u001b[0;34m]\u001b[0m\u001b[0;34m)\u001b[0m\u001b[0;34m\u001b[0m\u001b[0;34m\u001b[0m\u001b[0m\n\u001b[0m\u001b[1;32m      9\u001b[0m     \u001b[0mprint\u001b[0m\u001b[0;34m(\u001b[0m\u001b[0;34m'Shape After dropNA: {}'\u001b[0m\u001b[0;34m.\u001b[0m\u001b[0mformat\u001b[0m\u001b[0;34m(\u001b[0m\u001b[0mdf_\u001b[0m\u001b[0;34m.\u001b[0m\u001b[0mshape\u001b[0m\u001b[0;34m)\u001b[0m\u001b[0;34m)\u001b[0m\u001b[0;34m\u001b[0m\u001b[0;34m\u001b[0m\u001b[0m\n\u001b[1;32m     10\u001b[0m \u001b[0;34m\u001b[0m\u001b[0m\n",
      "\u001b[0;31mNameError\u001b[0m: name 'df_positions_fees' is not defined"
     ]
    }
   ],
   "source": [
    "df_positions_fees = get_fees_from_positions(df_merged, df_positions)"
   ]
  },
  {
   "cell_type": "code",
   "execution_count": null,
   "id": "46f71515",
   "metadata": {},
   "outputs": [],
   "source": [
    "fees_token0 = df_positions_fees['fees0'].sum()\n",
    "fees_token1 = df_positions_fees['fees1'].sum()\n",
    "\n",
    "totalfees_USD = ( fees_token0*TOKEN0_TO_USD )+ (fees_token1 *TOKEN1_TO_USD)\n",
    "\n",
    "print(fees_token0, fees_token1, totalfees_USD)\n",
    "\n",
    "error_margin_fees0 = (1 - fees_token0/revert_fees0)*100\n",
    "error_margin_fees1 = (1 - fees_token1/revert_fees1)*100\n",
    "print('error margin token0 = {} %, token1 = {} %'.format(error_margin_fees0, error_margin_fees1))"
   ]
  },
  {
   "cell_type": "code",
   "execution_count": null,
   "id": "62cd91b3",
   "metadata": {},
   "outputs": [],
   "source": [
    "# 35835.9997570211 16.065701314551056 77266.87293503794\n",
    "# error margin token0 = 5.184762631458817 %, token1 = 4.629325451258682 %\n",
    "\n"
   ]
  },
  {
   "cell_type": "code",
   "execution_count": null,
   "id": "ad4f85fd",
   "metadata": {},
   "outputs": [],
   "source": [
    "df_positions_fees"
   ]
  },
  {
   "cell_type": "code",
   "execution_count": null,
   "id": "53274904",
   "metadata": {},
   "outputs": [],
   "source": []
  },
  {
   "cell_type": "code",
   "execution_count": null,
   "id": "f2861b23",
   "metadata": {},
   "outputs": [],
   "source": [
    "# # L_you calculation / inRange\n",
    "# # 4B. JNP: Use 'get_liquidity' function to calculate liquidity as a function of amounts and price range\n",
    "\n",
    "# # TODO: Dont need this, use JNP code, only need the inRange thing \n",
    "\n",
    "# def get_liquidity0(sqrtA,sqrtB,amount0,decimals):\n",
    "    \n",
    "#     if (sqrtA > sqrtB):\n",
    "#           (sqrtA,sqrtB)=(sqrtB,sqrtA)\n",
    "    \n",
    "#     liquidity=amount0/((2**96*(sqrtB-sqrtA)/sqrtB/sqrtA)/10**decimals)\n",
    "#     return liquidity\n",
    "\n",
    "# def get_liquidity1(sqrtA,sqrtB,amount1,decimals):\n",
    "    \n",
    "#     if (sqrtA > sqrtB):\n",
    "#         (sqrtA,sqrtB)=(sqrtB,sqrtA)\n",
    "    \n",
    "#     liquidity=amount1/((sqrtB-sqrtA)/2**96/10**decimals)\n",
    "#     return liquidity\n",
    "\n",
    "# def get_liquidity(tick,tickA,tickB,amount0,amount1,decimal0,decimal1):\n",
    "    \n",
    "#         sqrt=(1.0001**(tick/2)*(2**96))\n",
    "#         sqrtA=(1.0001**(tickA/2)*(2**96))\n",
    "#         sqrtB=(1.0001**(tickB/2)*(2**96))\n",
    "#         if (sqrtA > sqrtB):\n",
    "#             (sqrtA,sqrtB)=(sqrtB,sqrtA)\n",
    "    \n",
    "#         if sqrt<=sqrtA:\n",
    "            \n",
    "#             liquidity0=get_liquidity0(sqrtA,sqrtB,amount0,decimal0)\n",
    "#             inRange = False\n",
    "#             return liquidity0, inRange\n",
    "#         elif sqrt<sqrtB and sqrt>sqrtA:\n",
    "\n",
    "#             liquidity0=get_liquidity0(sqrt,sqrtB,amount0,decimal0)\n",
    "#             liquidity1=get_liquidity1(sqrtA,sqrt,amount1,decimal1)\n",
    "            \n",
    "#             liquidity=liquidity0 if liquidity0<liquidity1 else liquidity1\n",
    "#             inRange = True\n",
    "#             return liquidity, inRange\n",
    "        \n",
    "#         else:\n",
    "#             liquidity1=get_liquidity1(sqrtA,sqrtB,amount1,decimal1)\n",
    "#             inRange = False\n",
    "#             return liquidity1, inRange"
   ]
  }
 ],
 "metadata": {
  "kernelspec": {
   "display_name": "Python 3",
   "language": "python",
   "name": "python3"
  },
  "language_info": {
   "codemirror_mode": {
    "name": "ipython",
    "version": 3
   },
   "file_extension": ".py",
   "mimetype": "text/x-python",
   "name": "python",
   "nbconvert_exporter": "python",
   "pygments_lexer": "ipython3",
   "version": "3.8.10"
  }
 },
 "nbformat": 4,
 "nbformat_minor": 5
}
