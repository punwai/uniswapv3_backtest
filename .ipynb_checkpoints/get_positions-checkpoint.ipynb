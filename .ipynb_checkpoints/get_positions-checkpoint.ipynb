{
 "cells": [
  {
   "cell_type": "markdown",
   "id": "e507957e",
   "metadata": {},
   "source": [
    "### This notebook is to generate df of Positions, that is resulted in our strategy"
   ]
  },
  {
   "cell_type": "code",
   "execution_count": 1,
   "id": "144ade69",
   "metadata": {},
   "outputs": [],
   "source": [
    "import pandas as pd\n",
    "from math import sqrt\n",
    "import math\n",
    "\n",
    "import requests\n",
    "import json\n",
    "import numpy as np\n",
    "\n",
    "import UNI_v3_funcs as liq_amounts\n",
    "import load_data"
   ]
  },
  {
   "cell_type": "markdown",
   "id": "c4518378",
   "metadata": {},
   "source": [
    "### Query Functions"
   ]
  },
  {
   "cell_type": "code",
   "execution_count": 2,
   "id": "01dc03fb",
   "metadata": {},
   "outputs": [],
   "source": [
    "def get_cprice_tick_at_mint(token0, token1, feeTier, mint_time, decimal0, decimal1):\n",
    "    \n",
    "    # get token_ids\n",
    "    token0_id = load_data.get_token_id(token0)\n",
    "    token1_id = load_data.get_token_id(token1)\n",
    "    pool_id = load_data.get_pool_id(token0_id, token1_id, feeTier)\n",
    "        \n",
    "    # query price at that specific time\n",
    "    query_ = \"\"\"\n",
    "    {{\n",
    "      poolHourDatas(first:1,\n",
    "      where:{{ pool: \"{}\",\n",
    "      periodStartUnix: {} }}\n",
    "      ){{\n",
    "        tick\n",
    "      }}\n",
    "    }}\"\"\".format(pool_id, mint_time)\n",
    "    print(query_)\n",
    "    \n",
    "    query_result_ = load_data.run_query(query_)\n",
    "    json_data_ = json.loads(query_result_.text)\n",
    "    \n",
    "    ctick = int(json_data_['data']['poolHourDatas'][0]['tick'])\n",
    "    cprice = tick_to_price(ctick,decimal0, decimal1)\n",
    "    \n",
    "    return cprice, ctick\n",
    "\n",
    "def get_decimals(token_symbol):\n",
    "    query_ = \"\"\"\n",
    "    {{\n",
    "      tokens(first:10,\n",
    "      where:{{ symbol: \"{}\"}}\n",
    "      ){{\n",
    "        decimals\n",
    "      }}\n",
    "    }}\"\"\".format(token_symbol)\n",
    "    \n",
    "    query_result_ = load_data.run_query(query_)\n",
    "    json_data_ = json.loads(query_result_.text)\n",
    "    decimal_ = float(json_data_['data']['tokens'][0]['decimals'])\n",
    "    \n",
    "    return decimal_"
   ]
  },
  {
   "cell_type": "markdown",
   "id": "8e1aac5e",
   "metadata": {},
   "source": [
    "### Calculations Functions"
   ]
  },
  {
   "cell_type": "code",
   "execution_count": 3,
   "id": "4e44a0f6",
   "metadata": {},
   "outputs": [],
   "source": [
    "def price_to_tick(price_, decimal0_, decimal1_):\n",
    "    # convert price (token1 by token0) to tick\n",
    "#     tick_ = math.floor(math.log(sqrt(price_), math.sqrt(1.0001)))\n",
    "    tick_ = math.floor( math.log(price_*10**(decimal1_-decimal0_), 1.0001) )\n",
    "    return tick_\n",
    "\n",
    "def tick_to_price(tick_,decimal0_, decimal1_):\n",
    "    price_ = (1.0001**tick_/10**(decimal1_-decimal0_))\n",
    "#     price_ = 1.0001**tick_\n",
    "    return price_"
   ]
  },
  {
   "cell_type": "code",
   "execution_count": 4,
   "id": "174239d9",
   "metadata": {},
   "outputs": [],
   "source": [
    "# L_you calculation / inRange\n",
    "# 4B. JNP: Use 'get_liquidity' function to calculate liquidity as a function of amounts and price range\n",
    "def get_liquidity0(sqrtA,sqrtB,amount0,decimals):\n",
    "    \n",
    "    if (sqrtA > sqrtB):\n",
    "          (sqrtA,sqrtB)=(sqrtB,sqrtA)\n",
    "    \n",
    "    liquidity=amount0/((2**96*(sqrtB-sqrtA)/sqrtB/sqrtA)/10**decimals)\n",
    "    return liquidity\n",
    "\n",
    "def get_liquidity1(sqrtA,sqrtB,amount1,decimals):\n",
    "    \n",
    "    if (sqrtA > sqrtB):\n",
    "        (sqrtA,sqrtB)=(sqrtB,sqrtA)\n",
    "    \n",
    "    liquidity=amount1/((sqrtB-sqrtA)/2**96/10**decimals)\n",
    "    return liquidity\n",
    "\n",
    "def get_liquidity(tick,tickA,tickB,amount0,amount1,decimal0,decimal1):\n",
    "    \n",
    "        sqrt=(1.0001**(tick/2)*(2**96))\n",
    "        sqrtA=(1.0001**(tickA/2)*(2**96))\n",
    "        sqrtB=(1.0001**(tickB/2)*(2**96))\n",
    "        if (sqrtA > sqrtB):\n",
    "            (sqrtA,sqrtB)=(sqrtB,sqrtA)\n",
    "    \n",
    "        if sqrt<=sqrtA:\n",
    "            \n",
    "            liquidity0=get_liquidity0(sqrtA,sqrtB,amount0,decimal0)\n",
    "            inRange = False\n",
    "            return liquidity0, inRange\n",
    "        elif sqrt<sqrtB and sqrt>sqrtA:\n",
    "\n",
    "            liquidity0=get_liquidity0(sqrt,sqrtB,amount0,decimal0)\n",
    "            liquidity1=get_liquidity1(sqrtA,sqrt,amount1,decimal1)\n",
    "            \n",
    "            liquidity=liquidity0 if liquidity0<liquidity1 else liquidity1\n",
    "            inRange = True\n",
    "            return liquidity, inRange\n",
    "        \n",
    "        else:\n",
    "            liquidity1=get_liquidity1(sqrtA,sqrtB,amount1,decimal1)\n",
    "            inRange = False\n",
    "            return liquidity1, inRange"
   ]
  },
  {
   "cell_type": "code",
   "execution_count": 5,
   "id": "27a86fe4",
   "metadata": {},
   "outputs": [],
   "source": [
    "# Calculate Fees \n",
    "def get_fees(lower_tick_, upper_tick_, ctick_,  L_Pool_, swap_Volume_, amount0_p, amount1_p, amt0_, amt1_, decimal0_, decimal1_, feeTier, mint_tick):\n",
    "    # (lower_tick_, upper_tick_) from df_positions\n",
    "    # (ctick, L_Pool, swap_volume, amount0_p, amount1_p) from df_merged\n",
    "    # (amt0, amt1) - this changes based on swaps, but doesnt matter, bacause liquidity always constant\n",
    "    # (decimal0, decimal1, feetier, mint_tick) - fixeds\n",
    "    \n",
    "    # Ver. fixed liquidity ------------------------\n",
    "    mint_liquidity = liq_amounts.get_liquidity(mint_tick, lower_tick_,upper_tick_, amt0_, amt1_, decimal0_, decimal1_)\n",
    "    N_amt0, N_amt1 = liq_amounts.get_amounts(ctick_,lower_tick_,upper_tick_,mint_liquidity,decimal0_,decimal1_)\n",
    "    L_you_ = liq_amounts.get_liquidity(ctick_, lower_tick_,upper_tick_, N_amt0, N_amt1, decimal0_, decimal1_)\n",
    "    \n",
    "    # redudant, L_you_ always fixed in this case, L_you_ = mint_liquidity\n",
    "    \n",
    "    # Ver. varied liquidity ------------------------\n",
    "    L_you_old, inRange_ = get_liquidity(ctick_, lower_tick_,upper_tick_, amt0_, amt1_, decimal0_, decimal1_)\n",
    "#     _, inRange_ = get_liquidity(ctick_, lower_tick_,upper_tick_, amt0_, amt1_, decimal0_, decimal1_)\n",
    "    # -------------------------------\n",
    "    \n",
    "    if inRange_:\n",
    "        pool_share_ = (L_you_/L_Pool_)\n",
    "        pool_fee_rate_ = float(feeTier) / 10000\n",
    "        fees_0 = pool_share_ * amount0_p * pool_fee_rate_ / 100\n",
    "        fees_1 = pool_share_ * amount1_p * pool_fee_rate_ / 100\n",
    "    else:\n",
    "        fees_0 = 0\n",
    "        fees_1 = 0\n",
    "\n",
    "    return fees_0, fees_1"
   ]
  },
  {
   "cell_type": "code",
   "execution_count": 6,
   "id": "c4e90c7a",
   "metadata": {},
   "outputs": [],
   "source": [
    "# Step 4: use JNP's code\n",
    "def get_impermanent_loss():\n",
    "    return IL"
   ]
  },
  {
   "cell_type": "code",
   "execution_count": 7,
   "id": "9080865a",
   "metadata": {},
   "outputs": [],
   "source": [
    "# Step 4\n",
    "def get_PNL():\n",
    "    return pnl"
   ]
  },
  {
   "cell_type": "code",
   "execution_count": 8,
   "id": "ff03e464",
   "metadata": {},
   "outputs": [],
   "source": [
    "# Step 5\n",
    "def get_cost():\n",
    "    return cost"
   ]
  },
  {
   "cell_type": "markdown",
   "id": "09319a36",
   "metadata": {},
   "source": [
    "### Positions Genrations"
   ]
  },
  {
   "cell_type": "code",
   "execution_count": 9,
   "id": "651ccac3",
   "metadata": {},
   "outputs": [],
   "source": [
    "def get_positions_fixed_strategy(mint_time, burn_time, upper_, lower_, decimal0_, decimal1_):\n",
    "    \n",
    "    df_positions = pd.DataFrame()\n",
    "    df_positions['periodStartUnix'] = list(range(mint_time, burn_time+1, 3600))\n",
    "    df_positions['upper'] = upper_\n",
    "    df_positions['lower'] = lower_\n",
    "    df_positions['upper_tick'] = price_to_tick(upper_, decimal0_, decimal1_)\n",
    "    df_positions['lower_tick'] = price_to_tick(lower_, decimal0_, decimal1_)\n",
    "    \n",
    "    return df_positions"
   ]
  },
  {
   "cell_type": "markdown",
   "id": "19913939",
   "metadata": {},
   "source": [
    "### PNL Wrapper code"
   ]
  },
  {
   "cell_type": "code",
   "execution_count": 83,
   "id": "5dadbd14",
   "metadata": {},
   "outputs": [],
   "source": [
    "def calculate_pnl_from_positions(df_merged, df_positions):\n",
    "\n",
    "    # TODO: re-calculate amount0 and amount1 to account for every swaps, not just deltas of that hour\n",
    "    # use amount0_new and amount1_new instead of amountUSD, and get total accured fees in tokens\n",
    "    # Swap_amountIn > so the fees is get from the (+) positive tokens\n",
    "    # Therefore, fees you get is in \n",
    "    # Convert those tokens into value (convert using TODAY's value or mints's value?)\n",
    "    \n",
    "    \n",
    "    merge_feat = ['periodStartUnix', 'tick','liquidity', 'amountUSD', 'amount0_p', 'amount1_p']\n",
    "#     merge_feat = ['periodStartUnix', 'tick','liquidity', 'amountUSD', 'amount0_n', 'amount1_n']\n",
    "\n",
    "    df_positions_fees = df_positions.merge(df_merged[merge_feat], how='left', on='periodStartUnix')\n",
    "    df_positions_fees['liquidity'] = df_positions_fees['liquidity'].astype(float)\n",
    "\n",
    "    df_positions_fees = df_positions_fees.reset_index() # cleaning it just in case\n",
    "    for index, row in df_positions_fees.iterrows():\n",
    "        row = row.copy()\n",
    "        fees_0, fees_1 = get_fees(row['lower_tick'],row['upper_tick'],row['tick'],\n",
    "                        float(row['liquidity']),row['amountUSD'],\n",
    "                        row['amount0_p'], row['amount1_p'],\n",
    "                        MINT_AMT0, MINT_AMT1, DECIMAL0, DECIMAL1, FEETIER, MINT_TICK)\n",
    "       \n",
    "#         fees_0, fees_1 = get_fees(row['lower_tick'],row['upper_tick'],row['tick'],\n",
    "#                         float(row['liquidity']),row['amountUSD'],\n",
    "#                         abs(row['amount0_n']), abs(row['amount1_n']),\n",
    "#                         MINT_AMT0, MINT_AMT1, DECIMAL0, DECIMAL1, FEETIER, MINT_TICK)\n",
    "        \n",
    "        df_positions_fees.loc[index, 'fees_0'] = fees_0\n",
    "        df_positions_fees.loc[index, 'fees_1'] = fees_1\n",
    "        \n",
    "    return df_positions_fees"
   ]
  },
  {
   "cell_type": "markdown",
   "id": "90a5acfa",
   "metadata": {},
   "source": [
    "### Main"
   ]
  },
  {
   "cell_type": "code",
   "execution_count": 84,
   "id": "26ec640b",
   "metadata": {},
   "outputs": [],
   "source": [
    "# STEP 0:  PROVIDE BY USERS\n",
    "UPPER = 1/1844.6164  # token1 per token0 (in terms of price)\n",
    "LOWER = 1/2858.3641  # 1/2376.6075 \n",
    "FEETIER = '3000' # 0.3 = 3000/10000\n",
    "TOKEN0 = 'USDC'\n",
    "TOKEN1 = 'WETH'\n",
    "MINT_TIME = 1622390400 # needs to start with the hour (unixTime % 3600 = 0) \n",
    "BURN_TIME = 1627578000 # 1627578000 # 1625936400 # \n",
    "# May 30 - July 30 / 11"
   ]
  },
  {
   "cell_type": "code",
   "execution_count": 85,
   "id": "0ec2fadc",
   "metadata": {},
   "outputs": [
    {
     "name": "stdout",
     "output_type": "stream",
     "text": [
      "6.0 18.0\n"
     ]
    }
   ],
   "source": [
    "# Get required constants\n",
    "DECIMAL0 = get_decimals(TOKEN0)\n",
    "DECIMAL1 = get_decimals(TOKEN1)\n",
    "print(DECIMAL0, DECIMAL1)"
   ]
  },
  {
   "cell_type": "code",
   "execution_count": 86,
   "id": "46ac58bf",
   "metadata": {},
   "outputs": [
    {
     "name": "stdout",
     "output_type": "stream",
     "text": [
      " \n",
      "get_token_id: USDC\n",
      "{'data': {'tokens': [{'id': '0xa0b86991c6218b36c1d19d4a2e9eb0ce3606eb48', 'name': 'USD Coin', 'symbol': 'USDC'}]}}\n",
      " \n",
      "get_token_id: WETH\n",
      "{'data': {'tokens': [{'id': '0xc02aaa39b223fe8d0a0e5c4f27ead9083c756cc2', 'name': 'Wrapped Ether', 'symbol': 'WETH'}]}}\n",
      "\n",
      " get_pool_id for feeTier: 3000\n",
      "{'data': {'pools': [{'feeTier': '3000', 'id': '0x8ad599c3a0ff1de082011efddc58f1908eb6e6d8', 'token0': {'symbol': 'USDC'}, 'token1': {'symbol': 'WETH'}}]}}\n",
      "\n",
      "    {\n",
      "      poolHourDatas(first:1,\n",
      "      where:{ pool: \"0x8ad599c3a0ff1de082011efddc58f1908eb6e6d8\",\n",
      "      periodStartUnix: 1622390400 }\n",
      "      ){\n",
      "        tick\n",
      "      }\n",
      "    }\n",
      "0.0004165877310455854 2400.4547553287744\n",
      "198486\n"
     ]
    }
   ],
   "source": [
    "MINT_PRICE, MINT_TICK = get_cprice_tick_at_mint(TOKEN0, TOKEN1, FEETIER, MINT_TIME, DECIMAL0, DECIMAL1)\n",
    "print(MINT_PRICE, 1/MINT_PRICE)\n",
    "print(MINT_TICK)"
   ]
  },
  {
   "cell_type": "code",
   "execution_count": 87,
   "id": "078b7245",
   "metadata": {},
   "outputs": [],
   "source": [
    "# STEP 1 (TODO): CALCULATED BY ALGORITHM, JNP's amounts_relation ?\n",
    "# THIS CHANGES over time when swaps happens, and we need this to calculate IL\n",
    "MINT_AMT0 = 252208.7053\n",
    "MINT_AMT1 = 99.0604"
   ]
  },
  {
   "cell_type": "code",
   "execution_count": 88,
   "id": "e7e33034",
   "metadata": {},
   "outputs": [],
   "source": [
    "# 1.0001**198486"
   ]
  },
  {
   "cell_type": "code",
   "execution_count": 89,
   "id": "84fe8658",
   "metadata": {},
   "outputs": [],
   "source": [
    "# STEP 3 (TODO): Generate df_positions\n",
    "df_positions = get_positions_fixed_strategy(MINT_TIME, BURN_TIME, UPPER, LOWER, DECIMAL0, DECIMAL1)"
   ]
  },
  {
   "cell_type": "code",
   "execution_count": 90,
   "id": "edd60cc6",
   "metadata": {},
   "outputs": [],
   "source": [
    "# Get DF_Merged (accumulated swaps data)\n",
    "df_merged = pd.read_csv('../data/df_merged_tmp_USDC-WETH-3000-timestamp-1627574400-1620169200.csv')\n",
    "# df_merged = load_data.get_data(TOKEN0, TOKEN1, FEETIER)"
   ]
  },
  {
   "cell_type": "code",
   "execution_count": 91,
   "id": "b1767120",
   "metadata": {},
   "outputs": [],
   "source": [
    "# STEP 4 (TODO): Calculate Fees, IL and PNL at each hour, and append to df_positions\n",
    "df_positions_fees = calculate_pnl_from_positions(df_merged, df_positions)"
   ]
  },
  {
   "cell_type": "code",
   "execution_count": null,
   "id": "4fb63c48",
   "metadata": {},
   "outputs": [],
   "source": []
  },
  {
   "cell_type": "code",
   "execution_count": 92,
   "id": "a3c5cfa7",
   "metadata": {},
   "outputs": [],
   "source": [
    "# STEP 5 (TODO): also accoutning for minting/burning/swaping costs into PNL"
   ]
  },
  {
   "cell_type": "code",
   "execution_count": 93,
   "id": "c2f2ba83",
   "metadata": {},
   "outputs": [
    {
     "name": "stdout",
     "output_type": "stream",
     "text": [
      "63893.370392777724\n"
     ]
    }
   ],
   "source": [
    "TOKEN0_TO_USD = 1\n",
    "TOKEN1_TO_USD = 2331.7802\n",
    "\n",
    "fees_token0 = df_positions_fees['fees_0'].sum()*TOKEN0_TO_USD\n",
    "fees_token1 = df_positions_fees['fees_1'].sum()*TOKEN1_TO_USD\n",
    "print(fees_token0+fees_token1)"
   ]
  },
  {
   "cell_type": "code",
   "execution_count": 94,
   "id": "ad8acaa5",
   "metadata": {},
   "outputs": [
    {
     "data": {
      "text/plain": [
       "30878.359036860285"
      ]
     },
     "execution_count": 94,
     "metadata": {},
     "output_type": "execute_result"
    }
   ],
   "source": [
    "df_positions_fees['fees_0'].sum()"
   ]
  },
  {
   "cell_type": "code",
   "execution_count": 95,
   "id": "fa8aa238",
   "metadata": {},
   "outputs": [
    {
     "data": {
      "text/plain": [
       "14.158715026363739"
      ]
     },
     "execution_count": 95,
     "metadata": {},
     "output_type": "execute_result"
    }
   ],
   "source": [
    "df_positions_fees['fees_1'].sum()"
   ]
  },
  {
   "cell_type": "code",
   "execution_count": 96,
   "id": "03179995",
   "metadata": {},
   "outputs": [
    {
     "data": {
      "text/html": [
       "<div>\n",
       "<style scoped>\n",
       "    .dataframe tbody tr th:only-of-type {\n",
       "        vertical-align: middle;\n",
       "    }\n",
       "\n",
       "    .dataframe tbody tr th {\n",
       "        vertical-align: top;\n",
       "    }\n",
       "\n",
       "    .dataframe thead th {\n",
       "        text-align: right;\n",
       "    }\n",
       "</style>\n",
       "<table border=\"1\" class=\"dataframe\">\n",
       "  <thead>\n",
       "    <tr style=\"text-align: right;\">\n",
       "      <th></th>\n",
       "      <th>txCount</th>\n",
       "      <th>swaps_txCount</th>\n",
       "      <th>amountUSD</th>\n",
       "      <th>amount0_p</th>\n",
       "      <th>amount1_p</th>\n",
       "    </tr>\n",
       "  </thead>\n",
       "  <tbody>\n",
       "    <tr>\n",
       "      <th>0</th>\n",
       "      <td>21</td>\n",
       "      <td>NaN</td>\n",
       "      <td>NaN</td>\n",
       "      <td>NaN</td>\n",
       "      <td>NaN</td>\n",
       "    </tr>\n",
       "    <tr>\n",
       "      <th>1</th>\n",
       "      <td>33</td>\n",
       "      <td>14.0</td>\n",
       "      <td>2.674987e+06</td>\n",
       "      <td>1.853959e+06</td>\n",
       "      <td>355.457852</td>\n",
       "    </tr>\n",
       "    <tr>\n",
       "      <th>2</th>\n",
       "      <td>58</td>\n",
       "      <td>31.0</td>\n",
       "      <td>7.960741e+06</td>\n",
       "      <td>4.321993e+06</td>\n",
       "      <td>1574.867926</td>\n",
       "    </tr>\n",
       "    <tr>\n",
       "      <th>3</th>\n",
       "      <td>36</td>\n",
       "      <td>24.0</td>\n",
       "      <td>3.867269e+06</td>\n",
       "      <td>3.866513e+06</td>\n",
       "      <td>3.223895</td>\n",
       "    </tr>\n",
       "    <tr>\n",
       "      <th>4</th>\n",
       "      <td>15</td>\n",
       "      <td>7.0</td>\n",
       "      <td>1.785534e+05</td>\n",
       "      <td>0.000000e+00</td>\n",
       "      <td>77.966318</td>\n",
       "    </tr>\n",
       "    <tr>\n",
       "      <th>5</th>\n",
       "      <td>34</td>\n",
       "      <td>22.0</td>\n",
       "      <td>3.745938e+06</td>\n",
       "      <td>0.000000e+00</td>\n",
       "      <td>1628.510724</td>\n",
       "    </tr>\n",
       "    <tr>\n",
       "      <th>6</th>\n",
       "      <td>33</td>\n",
       "      <td>22.0</td>\n",
       "      <td>1.719154e+06</td>\n",
       "      <td>1.522220e+04</td>\n",
       "      <td>736.410654</td>\n",
       "    </tr>\n",
       "    <tr>\n",
       "      <th>7</th>\n",
       "      <td>51</td>\n",
       "      <td>36.0</td>\n",
       "      <td>5.017910e+06</td>\n",
       "      <td>5.026098e+06</td>\n",
       "      <td>0.000000</td>\n",
       "    </tr>\n",
       "    <tr>\n",
       "      <th>8</th>\n",
       "      <td>29</td>\n",
       "      <td>9.0</td>\n",
       "      <td>8.742947e+05</td>\n",
       "      <td>0.000000e+00</td>\n",
       "      <td>381.005463</td>\n",
       "    </tr>\n",
       "    <tr>\n",
       "      <th>9</th>\n",
       "      <td>18</td>\n",
       "      <td>6.0</td>\n",
       "      <td>1.591868e+04</td>\n",
       "      <td>0.000000e+00</td>\n",
       "      <td>6.930991</td>\n",
       "    </tr>\n",
       "    <tr>\n",
       "      <th>10</th>\n",
       "      <td>31</td>\n",
       "      <td>7.0</td>\n",
       "      <td>8.950998e+04</td>\n",
       "      <td>0.000000e+00</td>\n",
       "      <td>38.967649</td>\n",
       "    </tr>\n",
       "    <tr>\n",
       "      <th>11</th>\n",
       "      <td>16</td>\n",
       "      <td>6.0</td>\n",
       "      <td>1.546460e+06</td>\n",
       "      <td>1.549109e+06</td>\n",
       "      <td>0.000000</td>\n",
       "    </tr>\n",
       "    <tr>\n",
       "      <th>12</th>\n",
       "      <td>45</td>\n",
       "      <td>36.0</td>\n",
       "      <td>2.802832e+06</td>\n",
       "      <td>2.358908e+06</td>\n",
       "      <td>196.449999</td>\n",
       "    </tr>\n",
       "    <tr>\n",
       "      <th>13</th>\n",
       "      <td>39</td>\n",
       "      <td>23.0</td>\n",
       "      <td>1.157186e+06</td>\n",
       "      <td>1.792076e+01</td>\n",
       "      <td>506.845487</td>\n",
       "    </tr>\n",
       "    <tr>\n",
       "      <th>14</th>\n",
       "      <td>30</td>\n",
       "      <td>18.0</td>\n",
       "      <td>1.789860e+06</td>\n",
       "      <td>1.792748e+06</td>\n",
       "      <td>0.000000</td>\n",
       "    </tr>\n",
       "    <tr>\n",
       "      <th>15</th>\n",
       "      <td>49</td>\n",
       "      <td>33.0</td>\n",
       "      <td>2.839934e+06</td>\n",
       "      <td>6.080571e+05</td>\n",
       "      <td>979.389885</td>\n",
       "    </tr>\n",
       "    <tr>\n",
       "      <th>16</th>\n",
       "      <td>61</td>\n",
       "      <td>48.0</td>\n",
       "      <td>3.599021e+06</td>\n",
       "      <td>7.101303e+05</td>\n",
       "      <td>1261.591916</td>\n",
       "    </tr>\n",
       "    <tr>\n",
       "      <th>17</th>\n",
       "      <td>43</td>\n",
       "      <td>33.0</td>\n",
       "      <td>7.164252e+06</td>\n",
       "      <td>4.025400e+06</td>\n",
       "      <td>1372.610743</td>\n",
       "    </tr>\n",
       "    <tr>\n",
       "      <th>18</th>\n",
       "      <td>36</td>\n",
       "      <td>30.0</td>\n",
       "      <td>3.656855e+06</td>\n",
       "      <td>1.130130e+06</td>\n",
       "      <td>1101.367711</td>\n",
       "    </tr>\n",
       "  </tbody>\n",
       "</table>\n",
       "</div>"
      ],
      "text/plain": [
       "    txCount  swaps_txCount     amountUSD     amount0_p    amount1_p\n",
       "0        21            NaN           NaN           NaN          NaN\n",
       "1        33           14.0  2.674987e+06  1.853959e+06   355.457852\n",
       "2        58           31.0  7.960741e+06  4.321993e+06  1574.867926\n",
       "3        36           24.0  3.867269e+06  3.866513e+06     3.223895\n",
       "4        15            7.0  1.785534e+05  0.000000e+00    77.966318\n",
       "5        34           22.0  3.745938e+06  0.000000e+00  1628.510724\n",
       "6        33           22.0  1.719154e+06  1.522220e+04   736.410654\n",
       "7        51           36.0  5.017910e+06  5.026098e+06     0.000000\n",
       "8        29            9.0  8.742947e+05  0.000000e+00   381.005463\n",
       "9        18            6.0  1.591868e+04  0.000000e+00     6.930991\n",
       "10       31            7.0  8.950998e+04  0.000000e+00    38.967649\n",
       "11       16            6.0  1.546460e+06  1.549109e+06     0.000000\n",
       "12       45           36.0  2.802832e+06  2.358908e+06   196.449999\n",
       "13       39           23.0  1.157186e+06  1.792076e+01   506.845487\n",
       "14       30           18.0  1.789860e+06  1.792748e+06     0.000000\n",
       "15       49           33.0  2.839934e+06  6.080571e+05   979.389885\n",
       "16       61           48.0  3.599021e+06  7.101303e+05  1261.591916\n",
       "17       43           33.0  7.164252e+06  4.025400e+06  1372.610743\n",
       "18       36           30.0  3.656855e+06  1.130130e+06  1101.367711"
      ]
     },
     "execution_count": 96,
     "metadata": {},
     "output_type": "execute_result"
    }
   ],
   "source": [
    "df_merged[['txCount','swaps_txCount','amountUSD', 'amount0_p', 'amount1_p']].head(19)"
   ]
  },
  {
   "cell_type": "code",
   "execution_count": null,
   "id": "c34cc7ea",
   "metadata": {},
   "outputs": [],
   "source": []
  },
  {
   "cell_type": "code",
   "execution_count": null,
   "id": "6e286af9",
   "metadata": {},
   "outputs": [],
   "source": []
  },
  {
   "cell_type": "code",
   "execution_count": null,
   "id": "e12a14b0",
   "metadata": {},
   "outputs": [],
   "source": []
  },
  {
   "cell_type": "code",
   "execution_count": null,
   "id": "6fc0e02b",
   "metadata": {},
   "outputs": [],
   "source": []
  },
  {
   "cell_type": "code",
   "execution_count": null,
   "id": "eb4bd2e1",
   "metadata": {},
   "outputs": [],
   "source": []
  },
  {
   "cell_type": "code",
   "execution_count": null,
   "id": "c16a4794",
   "metadata": {},
   "outputs": [],
   "source": []
  },
  {
   "cell_type": "code",
   "execution_count": null,
   "id": "e83754f7",
   "metadata": {},
   "outputs": [],
   "source": []
  },
  {
   "cell_type": "code",
   "execution_count": null,
   "id": "a6e1f57b",
   "metadata": {},
   "outputs": [],
   "source": []
  },
  {
   "cell_type": "code",
   "execution_count": null,
   "id": "78c84485",
   "metadata": {},
   "outputs": [],
   "source": [
    "df_merged = pd.read_csv('../data/df_merged_DAI-WETH-3000-timestamp-1627466400-1620158400.csv')\n",
    "watch_list = ['periodStartUnix',  \n",
    "              'txCount', 'swaps_txCount', # check data integrity\n",
    "              'amount0', 'amount1', 'amountUSD', # swaps data, note: amountUSD is sqrt(P)\n",
    "              'tick', 'liquidity', 'sqrtPrice', 'tvlUSD', # pool data at that hour (liquidity is for the whole pool)\n",
    "              'pool.token0.symbol', 'pool.token1.symbol', # token data\n",
    "              'token0Price', 'token1Price'\n",
    "             ]\n",
    "# https://github.com/Uniswap/uniswap-v3-subgraph/blob/main/schema.graphql\n",
    "df_merged[watch_list].sample(15)"
   ]
  },
  {
   "cell_type": "code",
   "execution_count": null,
   "id": "f9a8be60",
   "metadata": {},
   "outputs": [],
   "source": []
  },
  {
   "cell_type": "code",
   "execution_count": null,
   "id": "32e70387",
   "metadata": {},
   "outputs": [],
   "source": []
  },
  {
   "cell_type": "code",
   "execution_count": null,
   "id": "1d576ed8",
   "metadata": {},
   "outputs": [],
   "source": []
  },
  {
   "cell_type": "code",
   "execution_count": null,
   "id": "ab350ca0",
   "metadata": {},
   "outputs": [],
   "source": []
  }
 ],
 "metadata": {
  "kernelspec": {
   "display_name": "Python 3",
   "language": "python",
   "name": "python3"
  },
  "language_info": {
   "codemirror_mode": {
    "name": "ipython",
    "version": 3
   },
   "file_extension": ".py",
   "mimetype": "text/x-python",
   "name": "python",
   "nbconvert_exporter": "python",
   "pygments_lexer": "ipython3",
   "version": "3.8.10"
  }
 },
 "nbformat": 4,
 "nbformat_minor": 5
}
