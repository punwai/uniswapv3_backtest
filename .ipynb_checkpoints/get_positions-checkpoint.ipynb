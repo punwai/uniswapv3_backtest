{
 "cells": [
  {
   "cell_type": "markdown",
   "id": "e507957e",
   "metadata": {},
   "source": [
    "### This notebook is to generate df of Positions, that is resulted in our strategy"
   ]
  },
  {
   "cell_type": "code",
   "execution_count": 1,
   "id": "21f15e85",
   "metadata": {},
   "outputs": [],
   "source": [
    "import pandas as pd\n",
    "from math import sqrt\n",
    "import math\n",
    "\n",
    "import requests\n",
    "import json\n",
    "import numpy as np\n",
    "\n",
    "import UNI_v3_funcs as liq_amounts\n",
    "import load_data"
   ]
  },
  {
   "cell_type": "markdown",
   "id": "04893a1a",
   "metadata": {},
   "source": [
    "### Query Functions"
   ]
  },
  {
   "cell_type": "code",
   "execution_count": 2,
   "id": "c5620a45",
   "metadata": {},
   "outputs": [],
   "source": [
    "def get_cprice_tick_at_mint(token0, token1, feeTier, mint_time, decimal0, decimal1):\n",
    "    \n",
    "    # get token_ids\n",
    "    token0_id = load_data.get_token_id(token0)\n",
    "    token1_id = load_data.get_token_id(token1)\n",
    "    pool_id = load_data.get_pool_id(token0_id, token1_id, feeTier)\n",
    "        \n",
    "    # query price at that specific time\n",
    "    query_ = \"\"\"\n",
    "    {{\n",
    "      poolHourDatas(first:1,\n",
    "      where:{{ pool: \"{}\",\n",
    "      periodStartUnix: {} }}\n",
    "      ){{\n",
    "        tick\n",
    "      }}\n",
    "    }}\"\"\".format(pool_id, mint_time)\n",
    "    \n",
    "    query_result_ = load_data.run_query(query_)\n",
    "    json_data_ = json.loads(query_result_.text)\n",
    "    \n",
    "    ctick = int(json_data_['data']['poolHourDatas'][0]['tick'])\n",
    "    cprice = tick_to_price(ctick,decimal0, decimal1)\n",
    "    \n",
    "    return cprice, ctick\n",
    "\n",
    "def get_decimals(token_symbol):\n",
    "    query_ = \"\"\"\n",
    "    {{\n",
    "      tokens(first:10,\n",
    "      where:{{ symbol: \"{}\"}}\n",
    "      ){{\n",
    "        decimals\n",
    "      }}\n",
    "    }}\"\"\".format(token_symbol)\n",
    "    \n",
    "    query_result_ = load_data.run_query(query_)\n",
    "    json_data_ = json.loads(query_result_.text)\n",
    "    decimal_ = float(json_data_['data']['tokens'][0]['decimals'])\n",
    "    \n",
    "    return decimal_"
   ]
  },
  {
   "cell_type": "markdown",
   "id": "f274314b",
   "metadata": {},
   "source": [
    "### Positions Genrations"
   ]
  },
  {
   "cell_type": "code",
   "execution_count": 3,
   "id": "d764fa50",
   "metadata": {},
   "outputs": [],
   "source": [
    "def get_positions_fixed_strategy(mint_time, burn_time, upper_, lower_, \n",
    "                                 decimal0_, decimal1_, feetier_, \n",
    "                                 mint_amount0, mint_amount1, mint_tick):\n",
    "    \n",
    "    df_positions = pd.DataFrame()\n",
    "    df_positions['periodStartUnix'] = list(range(mint_time, burn_time+1, 3600))\n",
    "    df_positions['upper'] = upper_\n",
    "    df_positions['lower'] = lower_\n",
    "    df_positions['upper_tick'] = price_to_tick(upper_, decimal0_, decimal1_)\n",
    "    df_positions['lower_tick'] = price_to_tick(lower_, decimal0_, decimal1_)\n",
    "    \n",
    "    df_positions['mint_amount0'] = mint_amount0\n",
    "    df_positions['mint_amount1'] = mint_amount1\n",
    "    df_positions['decimal0'] = decimal0_\n",
    "    df_positions['decimal1'] = decimal1_\n",
    "    df_positions['feeTier'] = int(feetier_)    \n",
    "    df_positions['mint_tick'] = int(mint_tick)\n",
    "    \n",
    "    return df_positions"
   ]
  },
  {
   "cell_type": "markdown",
   "id": "44f94df7",
   "metadata": {},
   "source": [
    "### Calculations Functions"
   ]
  },
  {
   "cell_type": "code",
   "execution_count": 4,
   "id": "b4bad20a",
   "metadata": {},
   "outputs": [],
   "source": [
    "def price_to_tick(price_, decimal0_, decimal1_):\n",
    "    # convert price (token1 by token0) to tick\n",
    "    tick_ = math.floor( math.log(price_*10**(decimal1_-decimal0_), 1.0001) )\n",
    "    return tick_\n",
    "\n",
    "def tick_to_price(tick_,decimal0_, decimal1_):\n",
    "    price_ = (1.0001**tick_/10**(decimal1_-decimal0_))\n",
    "    return price_"
   ]
  },
  {
   "cell_type": "code",
   "execution_count": 5,
   "id": "6fd42b59",
   "metadata": {},
   "outputs": [],
   "source": [
    "def check_inRange(ctick, lower_tick, upper_tick):\n",
    "\n",
    "    if int(ctick) >= int(upper_tick): # change from > to >=\n",
    "        inRange = 0\n",
    "    elif int(ctick) < int(lower_tick):\n",
    "        inRange = 0\n",
    "    else: \n",
    "        inRange = 1\n",
    "    \n",
    "    return inRange"
   ]
  },
  {
   "cell_type": "code",
   "execution_count": null,
   "id": "d998a7ef",
   "metadata": {},
   "outputs": [],
   "source": [
    "# # Calculate Fees\n",
    "# # TODO: Clean this up (make it DF operations, make it just 1 function)\n",
    "\n",
    "\n",
    "# def get_fees(lower_tick_, upper_tick_, ctick_,  L_Pool_, swap_Volume_, amount0_p, amount1_p, amt0_, amt1_, decimal0_, decimal1_, feeTier, mint_tick):\n",
    "#     # (lower_tick_, upper_tick_) from df_positions\n",
    "#     # (ctick, L_Pool, swap_volume, amount0_p, amount1_p) from df_merged\n",
    "#     # (amt0, amt1) - this changes based on swaps, but doesnt matter, bacause liquidity always constant\n",
    "#     # (decimal0, decimal1, feetier, mint_tick) - fixeds\n",
    "    \n",
    "#     mint_liquidity = liq_amounts.get_liquidity(mint_tick, lower_tick_,upper_tick_, amt0_, amt1_, decimal0_, decimal1_)\n",
    "#     L_you_ = mint_liquidity # always constant, according to JNP\n",
    "    \n",
    "#     inRange_ = check_inRange(ctick_, lower_tick_,upper_tick_)\n",
    "    \n",
    "#     if inRange_:\n",
    "#         pool_share_ = (L_you_/L_Pool_)\n",
    "#         pool_fee_rate_ = float(feeTier) / 10000\n",
    "#         fees_0 = pool_share_ * amount0_p * pool_fee_rate_ / 100\n",
    "#         fees_1 = pool_share_ * amount1_p * pool_fee_rate_ / 100\n",
    "#     else:\n",
    "#         fees_0 = 0\n",
    "#         fees_1 = 0\n",
    "#         pool_share_ = 0\n",
    "    \n",
    "#     return fees_0, fees_1, pool_share_, L_you_\n",
    "\n",
    "# def calculate_pnl_from_positions(df_merged, df_positions):\n",
    "#     # TODO: re-calculate amount0 and amount1 to account for every swaps, not just deltas of that hour\n",
    "#     # use amount0_new and amount1_new instead of amountUSD, and get total accured fees in tokens\n",
    "#     # Swap_amountIn > so the fees is get from the (+) positive tokens\n",
    "#     # Therefore, fees you get is in \n",
    "#     # Convert those tokens into value (convert using TODAY's value or mints's value?)\n",
    "    \n",
    "#     merge_feat = ['periodStartUnix', 'tick','liquidity', 'amountUSD', 'amount0_p', 'amount1_p']\n",
    "\n",
    "#     df_positions_fees = df_positions.merge(df_merged[merge_feat], how='left', on='periodStartUnix')\n",
    "#     df_positions_fees['liquidity'] = df_positions_fees['liquidity'].astype(float)\n",
    "\n",
    "#     df_positions_fees = df_positions_fees.reset_index() # cleaning it just in case\n",
    "#     for index, row in df_positions_fees.iterrows():\n",
    "#         row = row.copy()\n",
    "#         fees_0, fees_1, pool_share, L_you = get_fees(row['lower_tick'],row['upper_tick'],row['tick'],\n",
    "#                         float(row['liquidity']),row['amountUSD'],\n",
    "#                         row['amount0_p'], row['amount1_p'],\n",
    "#                         MINT_AMT0, MINT_AMT1, DECIMAL0, DECIMAL1, FEETIER, MINT_TICK)\n",
    "       \n",
    "#         df_positions_fees.loc[index, 'fees_0'] = fees_0\n",
    "#         df_positions_fees.loc[index, 'fees_1'] = fees_1\n",
    "#         df_positions_fees.loc[index, 'pool_share'] = pool_share\n",
    "#         df_positions_fees.loc[index, 'L_you'] = L_you\n",
    "        \n",
    "#     return df_positions_fees"
   ]
  },
  {
   "cell_type": "code",
   "execution_count": 28,
   "id": "6dc7ae91",
   "metadata": {},
   "outputs": [],
   "source": [
    "def get_fees_from_positions(df_merged_, df_positions_):\n",
    "    \n",
    "    merge_feat_ = ['periodStartUnix', 'tick','liquidity','sqrtPrice', \n",
    "                   'feeGrowthGlobal0X128', 'feeGrowthGlobal1X128',\n",
    "                   'amountUSD', 'amount0_p', 'amount1_p']\n",
    "    df_ = df_positions_.merge(df_merged_[merge_feat_], how='left',on='periodStartUnix')\n",
    "    df_['liquidity'] = df_['liquidity'].astype(float) # as float\n",
    "    df_['sqrtPrice'] = df_['sqrtPrice'].astype(float)\n",
    "    df_['feeGrowthGlobal0X128'] = df_['feeGrowthGlobal0X128'].astype(float)\n",
    "    df_['feeGrowthGlobal1X128'] = df_['feeGrowthGlobal1X128'].astype(float)\n",
    "    \n",
    "    # CAREFUL: \n",
    "    print('Shape Before dropNA: {}'.format(df_.shape))\n",
    "    df_ = df_.dropna(subset=['tick','liquidity'])\n",
    "    print('Shape After dropNA: {}'.format(df_.shape))\n",
    "    \n",
    "    # assigns features neccessary for fees calculation\n",
    "    df_['L_you'] = df_.apply(lambda x: liq_amounts.get_liquidity(x['mint_tick'], x['lower_tick'],\n",
    "                                            x['upper_tick'], x['mint_amount0'], x['mint_amount1'],\n",
    "                                            x['decimal0'], x['decimal1']), axis=1)\n",
    "#     df_['pool_share'] = df_['L_you']/df_['liquidity']\n",
    "    df_['pool_share'] = df_['L_you'] / ( df_['liquidity'] + df_['L_you'] )\n",
    "    df_['inRange'] = df_.apply(lambda x: check_inRange(x['tick'], \n",
    "                                            x['lower_tick'], x['upper_tick']),axis=1)\n",
    "    df_['fees0'] = df_['inRange'] * df_['pool_share'] * df_['amount0_p'] * df_['feeTier'] / (10000*100)\n",
    "    df_['fees1'] = df_['inRange'] * df_['pool_share'] * df_['amount1_p'] * df_['feeTier'] / (10000*100)\n",
    "\n",
    "    # fix something with decimals? is divide by 2**128 correct?\n",
    "    df_['fees0_G'] = df_['inRange'] * ( df_['feeGrowthGlobal0X128'] * df_['pool_share'] ) / (2**128)\n",
    "    df_['fees1_G'] = df_['inRange'] * ( df_['feeGrowthGlobal1X128'] * df_['pool_share']) / (2**128)\n",
    "    \n",
    "    return df_"
   ]
  },
  {
   "cell_type": "code",
   "execution_count": 29,
   "id": "9a4aad56",
   "metadata": {},
   "outputs": [],
   "source": [
    "df_merged = pd.read_csv('../data/df_merged_tmp_USDC-WETH-3000-timestamp-1627981200-1620169200.csv')\n",
    "df_positions = get_positions_fixed_strategy(MINT_TIME, BURN_TIME, UPPER, LOWER, \n",
    "                                            DECIMAL0, DECIMAL1, FEETIER, MINT_AMT0,\n",
    "                                           MINT_AMT1, MINT_TICK)"
   ]
  },
  {
   "cell_type": "code",
   "execution_count": 30,
   "id": "f767ba79",
   "metadata": {},
   "outputs": [
    {
     "name": "stdout",
     "output_type": "stream",
     "text": [
      "Shape Before dropNA: (1556, 19)\n",
      "Shape After dropNA: (1556, 19)\n",
      "35747.20051661218 16.023636054616944\n",
      "7.830100949913882e-06 3060.3758777550197\n"
     ]
    }
   ],
   "source": [
    "df_positions_fees = get_fees_from_positions(df_merged, df_positions)\n",
    "\n",
    "fees_token0 = df_positions_fees['fees0'].sum()\n",
    "fees_token1 = df_positions_fees['fees1'].sum()\n",
    "\n",
    "fees_token0_G = df_positions_fees['fees0_G'].sum()\n",
    "fees_token1_G = df_positions_fees['fees1_G'].sum()\n",
    "\n",
    "print(fees_token0, fees_token1)\n",
    "print(fees_token0_G, fees_token1_G)\n",
    "\n",
    "# totalfees_USD = ( fees_token0*TOKEN0_TO_USD )+ (fees_token1 *TOKEN1_TO_USD)\n",
    "\n",
    "# print(fees_token0, fees_token1, totalfees_USD)\n",
    "# print(revert_fees0,revert_fees1)\n",
    "\n",
    "# error_margin_fees0 = (1 - fees_token0/revert_fees0)*100\n",
    "# error_margin_fees1 = (1 - fees_token1/revert_fees1)*100\n",
    "# print('error margin token0 = {} %, token1 = {} %'.format(error_margin_fees0, error_margin_fees1))"
   ]
  },
  {
   "cell_type": "markdown",
   "id": "d478e4b3",
   "metadata": {},
   "source": [
    "### Main"
   ]
  },
  {
   "cell_type": "code",
   "execution_count": null,
   "id": "0e4cfcc7",
   "metadata": {},
   "outputs": [],
   "source": []
  },
  {
   "cell_type": "code",
   "execution_count": null,
   "id": "760ee4c7",
   "metadata": {},
   "outputs": [],
   "source": [
    "# STEP 0:  PROVIDE BY USERS\n",
    "UPPER = 1/1844.6164 # 1/1844.6164  # token1 per token0 (in terms of price)\n",
    "LOWER = 1/2858.3641 # 1/2858.3641  # 1/2376.6075 \n",
    "FEETIER = '3000' # 0.3 = 3000/10000\n",
    "TOKEN0 = 'USDC'\n",
    "TOKEN1 = 'WETH'\n",
    "# needs to start with the hour (unixTime % 3600 = 0)\n",
    "MINT_TIME = 1622304000 # 4PM May 29 (UTC/GMT)\n",
    "BURN_TIME = 1627866000 # 1AM Aug 02 (UTC/GMT)\n",
    "\n",
    "# STEP 1 (TODO): CALCULATED BY ALGORITHM, JNP's amounts_relation ?\n",
    "# THIS CHANGES over time when swaps happens, and we need this to calculate IL\n",
    "MINT_AMT0 = 252208.7053\n",
    "MINT_AMT1 = 99.0604"
   ]
  },
  {
   "cell_type": "code",
   "execution_count": null,
   "id": "139e8986",
   "metadata": {},
   "outputs": [],
   "source": [
    "# Get required constants\n",
    "DECIMAL0 = get_decimals(TOKEN0)\n",
    "DECIMAL1 = get_decimals(TOKEN1)\n",
    "print(DECIMAL0, DECIMAL1)\n",
    "\n",
    "MINT_PRICE, MINT_TICK = get_cprice_tick_at_mint(TOKEN0, TOKEN1, FEETIER, MINT_TIME, DECIMAL0, DECIMAL1)\n",
    "print(MINT_PRICE, 1/MINT_PRICE)\n",
    "print(MINT_TICK)"
   ]
  },
  {
   "cell_type": "code",
   "execution_count": null,
   "id": "addfbd12",
   "metadata": {},
   "outputs": [],
   "source": [
    "# STEP 3 (TODO): Generate df_positions\n",
    "df_positions = get_positions_fixed_strategy(MINT_TIME, BURN_TIME, UPPER, LOWER, \n",
    "                                            DECIMAL0, DECIMAL1, FEETIER, MINT_AMT0,\n",
    "                                           MINT_AMT1, MINT_TICK)"
   ]
  },
  {
   "cell_type": "code",
   "execution_count": 14,
   "id": "d2e06189",
   "metadata": {
    "scrolled": true
   },
   "outputs": [
    {
     "name": "stdout",
     "output_type": "stream",
     "text": [
      " \n",
      "get_token_id: USDC\n",
      "{'data': {'tokens': [{'id': '0xa0b86991c6218b36c1d19d4a2e9eb0ce3606eb48', 'name': 'USD Coin', 'symbol': 'USDC'}]}}\n",
      " \n",
      "get_token_id: WETH\n",
      "{'data': {'tokens': [{'id': '0xc02aaa39b223fe8d0a0e5c4f27ead9083c756cc2', 'name': 'Wrapped Ether', 'symbol': 'WETH'}]}}\n",
      "\n",
      " get_pool_id for feeTier: 3000\n",
      "{'data': {'pools': [{'feeTier': '3000', 'id': '0x8ad599c3a0ff1de082011efddc58f1908eb6e6d8', 'token0': {'symbol': 'USDC'}, 'token1': {'symbol': 'WETH'}}]}}\n",
      " \n",
      "\n",
      " Queried poolHourDatas, total of 2160 datapoints\n",
      "time_start: 1627981200, time_end: 1620169200\n",
      "next_time_start_: 1627981200\n",
      "Queried Swaps, total of 6000 datapoints\n",
      " \n",
      "next_time_start_: 1627261261\n",
      "Queried Swaps, total of 6000 datapoints\n",
      " \n",
      "next_time_start_: 1626450194\n",
      "Queried Swaps, total of 6000 datapoints\n",
      " \n",
      "next_time_start_: 1625627459\n",
      "Queried Swaps, total of 6000 datapoints\n",
      " \n",
      "next_time_start_: 1624908123\n",
      "Queried Swaps, total of 6000 datapoints\n",
      " \n",
      "next_time_start_: 1624418849\n",
      "Queried Swaps, total of 6000 datapoints\n",
      " \n",
      "next_time_start_: 1624143170\n",
      "Queried Swaps, total of 6000 datapoints\n",
      " \n",
      "next_time_start_: 1623593747\n",
      "Queried Swaps, total of 6000 datapoints\n",
      " \n",
      "next_time_start_: 1623148266\n",
      "Queried Swaps, total of 6000 datapoints\n",
      " \n",
      "next_time_start_: 1622609125\n",
      "Queried Swaps, total of 6000 datapoints\n",
      " \n",
      "next_time_start_: 1622335699\n",
      "Queried Swaps, total of 6000 datapoints\n",
      " \n",
      "next_time_start_: 1622146485\n",
      "Queried Swaps, total of 6000 datapoints\n",
      " \n",
      "next_time_start_: 1621944734\n",
      "Queried Swaps, total of 6000 datapoints\n",
      " \n",
      "next_time_start_: 1621785997\n",
      "Queried Swaps, total of 6000 datapoints\n",
      " \n",
      "next_time_start_: 1621622951\n",
      "Queried Swaps, total of 6000 datapoints\n",
      " \n",
      "next_time_start_: 1621442770\n",
      "Queried Swaps, total of 6000 datapoints\n",
      " \n",
      "next_time_start_: 1621219558\n",
      "Queried Swaps, total of 6000 datapoints\n",
      " \n",
      "next_time_start_: 1620831894\n",
      "Queried Swaps, total of 4267 datapoints\n",
      " \n",
      "next_time_start_: 1620179784\n",
      "Queried Swaps, total of 1 datapoints\n",
      " \n",
      "next_time_start_: 1620179784\n",
      "Queried Swaps, total of 1 datapoints\n",
      " \n",
      "next_time_start_: 1620179784\n",
      "Queried Swaps, total of 1 datapoints\n",
      " \n",
      "next_time_start_: 1620179784\n",
      "Queried Swaps, total of 1 datapoints\n",
      " \n",
      "next_time_start_: 1620179784\n",
      "Queried Swaps, total of 1 datapoints\n",
      " \n",
      "next_time_start_: 1620179784\n",
      "Queried Swaps, total of 1 datapoints\n",
      " \n",
      "next_time_start_: 1620179784\n",
      "Queried Swaps, total of 1 datapoints\n",
      " \n",
      "next_time_start_: 1620179784\n",
      "Queried Swaps, total of 1 datapoints\n",
      " \n",
      "next_time_start_: 1620179784\n",
      "Queried Swaps, total of 1 datapoints\n",
      " \n",
      "Total swaps data = 106241\n"
     ]
    }
   ],
   "source": [
    "# Get DF_Merged (accumulated swaps data)\n",
    "# df_merged = pd.read_csv('../data/df_merged_tmp_USDC-WETH-3000-timestamp-1627873200-1620169200.csv')\n",
    "df_merged = load_data.get_data(TOKEN0, TOKEN1, FEETIER)"
   ]
  },
  {
   "cell_type": "code",
   "execution_count": null,
   "id": "f6eb0db3",
   "metadata": {},
   "outputs": [],
   "source": [
    "df_merged.info()"
   ]
  },
  {
   "cell_type": "code",
   "execution_count": null,
   "id": "d4b75efb",
   "metadata": {},
   "outputs": [],
   "source": [
    "# STEP 4 (TODO): Calculate Fees, IL and PNL at each hour, and append to df_positions\n",
    "df_positions_fees = calculate_pnl_from_positions(df_merged, df_positions)"
   ]
  },
  {
   "cell_type": "code",
   "execution_count": null,
   "id": "8c05d32c",
   "metadata": {},
   "outputs": [],
   "source": [
    "# STEP 5 (TODO): also accoutning for minting/burning/swaping costs into PNL"
   ]
  },
  {
   "cell_type": "code",
   "execution_count": null,
   "id": "92346156",
   "metadata": {},
   "outputs": [],
   "source": [
    "TOKEN0_TO_USD = 1\n",
    "TOKEN1_TO_USD = 2561.94\n",
    "\n",
    "fees_token0 = df_positions_fees['fees_0'].sum()\n",
    "fees_token1 = df_positions_fees['fees_1'].sum()\n",
    "\n",
    "totalfees_USD = ( fees_token0*TOKEN0_TO_USD )+ (fees_token1 *TOKEN1_TO_USD)\n",
    "\n",
    "print(fees_token0, fees_token1, totalfees_USD)\n",
    "revert_fees0 = 37795.612553\n",
    "revert_fees1 = 16.845536\n",
    "error_margin_fees0 = (1 - fees_token0/revert_fees0)*100\n",
    "error_margin_fees1 = (1 - fees_token1/revert_fees1)*100\n",
    "print('error margin token0 = {} %, token1 = {} %'.format(error_margin_fees0, error_margin_fees1))"
   ]
  },
  {
   "cell_type": "markdown",
   "id": "1828c33e",
   "metadata": {},
   "source": [
    "### Testing margin of Errors"
   ]
  },
  {
   "cell_type": "code",
   "execution_count": 7,
   "id": "dda53c00",
   "metadata": {},
   "outputs": [],
   "source": [
    "# References: \n",
    "# 1. https://revert.finance/#/uniswap-position/27782\n",
    "# 2. https://revert.finance/#/uniswap-position/2067\n",
    "# 3. https://revert.finance/#/uniswap-position/19724\n",
    "\n",
    "UPPERS = [1/1844.6164 , 1.0014, 1/1655.7876]\n",
    "LOWERS = [1/2858.3641 , 1.0004, 1/3334.2300] \n",
    "FEETIERS = ['3000' , '500', '10000']\n",
    "TOKEN0S = ['USDC' , 'DAI', 'USDC']\n",
    "TOKEN1S = ['WETH' , 'USDC', 'WETH']\n",
    "MINT_TIMES = [1622304000, 1621720800, 1621641600] # _____ ,may6th, may22nd\n",
    "BURN_TIMES = [1627902000, 1627902000, 1627894800] # NOWS\n",
    "\n",
    "MINT_AMOUNT0S = [252208.7053 , 13068.6711, 771.4900]\n",
    "MINT_AMOUNT1S = [99.0604 , 12194.3375, 0.2697]\n",
    "\n",
    "TOKEN0_TO_USDS = [1, 1, 1 ]\n",
    "TOKEN1_TO_USDS = [2578.84 , 1, 2578.84 ]\n",
    "\n",
    "REVERT_FEES0 = [37795.612553 , 421.148243, 136.562165]\n",
    "REVERT_FEES1 = [16.845536 , 420.589287, 0.060010 ]"
   ]
  },
  {
   "cell_type": "code",
   "execution_count": 8,
   "id": "9081d7da",
   "metadata": {},
   "outputs": [],
   "source": [
    "i = 0\n",
    "\n",
    "UPPER = UPPERS[i]\n",
    "LOWER = LOWERS[i] \n",
    "FEETIER = FEETIERS[i]\n",
    "TOKEN0 = TOKEN0S[i]\n",
    "TOKEN1 = TOKEN1S[i]\n",
    "\n",
    "MINT_TIME = MINT_TIMES[i] \n",
    "BURN_TIME = BURN_TIMES[i] \n",
    "\n",
    "MINT_AMT0 = MINT_AMOUNT0S[i]\n",
    "MINT_AMT1 = MINT_AMOUNT1S[i]\n",
    "\n",
    "TOKEN0_TO_USD = TOKEN0_TO_USDS[i]\n",
    "TOKEN1_TO_USD = TOKEN1_TO_USDS[i]"
   ]
  },
  {
   "cell_type": "code",
   "execution_count": 9,
   "id": "841880d2",
   "metadata": {},
   "outputs": [
    {
     "name": "stdout",
     "output_type": "stream",
     "text": [
      "6.0 18.0\n",
      " \n",
      "get_token_id: USDC\n",
      "{'data': {'tokens': [{'id': '0xa0b86991c6218b36c1d19d4a2e9eb0ce3606eb48', 'name': 'USD Coin', 'symbol': 'USDC'}]}}\n",
      " \n",
      "get_token_id: WETH\n",
      "{'data': {'tokens': [{'id': '0xc02aaa39b223fe8d0a0e5c4f27ead9083c756cc2', 'name': 'Wrapped Ether', 'symbol': 'WETH'}]}}\n",
      "\n",
      " get_pool_id for feeTier: 3000\n",
      "{'data': {'pools': [{'feeTier': '3000', 'id': '0x8ad599c3a0ff1de082011efddc58f1908eb6e6d8', 'token0': {'symbol': 'USDC'}, 'token1': {'symbol': 'WETH'}}]}}\n",
      "0.00042136376404820986 2373.2463142834135\n",
      "198600\n"
     ]
    }
   ],
   "source": [
    "# Get required constants\n",
    "DECIMAL0 = get_decimals(TOKEN0)\n",
    "DECIMAL1 = get_decimals(TOKEN1)\n",
    "print(DECIMAL0, DECIMAL1)\n",
    "\n",
    "MINT_PRICE, MINT_TICK = get_cprice_tick_at_mint(TOKEN0, TOKEN1, FEETIER, MINT_TIME, DECIMAL0, DECIMAL1)\n",
    "print(MINT_PRICE, 1/MINT_PRICE)\n",
    "print(MINT_TICK)\n",
    "\n",
    "revert_fees0 = REVERT_FEES0[i]\n",
    "revert_fees1 = REVERT_FEES1[i]"
   ]
  },
  {
   "cell_type": "code",
   "execution_count": 10,
   "id": "e2d948c8",
   "metadata": {},
   "outputs": [],
   "source": [
    "df_positions = get_positions_fixed_strategy(MINT_TIME, BURN_TIME, UPPER, LOWER, \n",
    "                                            DECIMAL0, DECIMAL1, FEETIER, MINT_AMT0,\n",
    "                                           MINT_AMT1, MINT_TICK)"
   ]
  },
  {
   "cell_type": "code",
   "execution_count": 11,
   "id": "a78dd363",
   "metadata": {
    "scrolled": true
   },
   "outputs": [
    {
     "name": "stdout",
     "output_type": "stream",
     "text": [
      " \n",
      "get_token_id: USDC\n",
      "{'data': {'tokens': [{'id': '0xa0b86991c6218b36c1d19d4a2e9eb0ce3606eb48', 'name': 'USD Coin', 'symbol': 'USDC'}]}}\n",
      " \n",
      "get_token_id: WETH\n",
      "{'data': {'tokens': [{'id': '0xc02aaa39b223fe8d0a0e5c4f27ead9083c756cc2', 'name': 'Wrapped Ether', 'symbol': 'WETH'}]}}\n",
      "\n",
      " get_pool_id for feeTier: 3000\n",
      "{'data': {'pools': [{'feeTier': '3000', 'id': '0x8ad599c3a0ff1de082011efddc58f1908eb6e6d8', 'token0': {'symbol': 'USDC'}, 'token1': {'symbol': 'WETH'}}]}}\n",
      " \n",
      "\n",
      " Queried poolHourDatas, total of 2160 datapoints\n",
      "time_start: 1627981200, time_end: 1620169200\n",
      "next_time_start_: 1627981200\n",
      "Queried Swaps, total of 6000 datapoints\n",
      " \n",
      "next_time_start_: 1627261261\n",
      "Queried Swaps, total of 6000 datapoints\n",
      " \n",
      "next_time_start_: 1626450194\n"
     ]
    },
    {
     "name": "stderr",
     "output_type": "stream",
     "text": [
      "ERROR:root:Internal Python error in the inspect module.\n",
      "Below is the traceback from this internal error.\n",
      "\n"
     ]
    },
    {
     "name": "stdout",
     "output_type": "stream",
     "text": [
      "Traceback (most recent call last):\n",
      "  File \"/Library/Frameworks/Python.framework/Versions/3.8/lib/python3.8/site-packages/IPython/core/interactiveshell.py\", line 3441, in run_code\n",
      "    exec(code_obj, self.user_global_ns, self.user_ns)\n",
      "  File \"<ipython-input-11-3b2e48134348>\", line 1, in <module>\n",
      "    df_merged = load_data.get_data(TOKEN0, TOKEN1, FEETIER)\n",
      "  File \"/Users/ren10x/Desktop/Desktop - Ren’s MacBook Pro/schoolbus/code/backtest/load_data.py\", line 345, in get_data\n",
      "    df_swaps_all = get_swaps_loop(pool_id, time_start, time_end) # ,  num_datapoints= 150000\n",
      "  File \"/Users/ren10x/Desktop/Desktop - Ren’s MacBook Pro/schoolbus/code/backtest/load_data.py\", line 242, in get_swaps_loop\n",
      "    df_, next_time_start_ = get_swaps(pool_id, next_time_start_, time_end, num_datapoints=max_num_query)\n",
      "  File \"/Users/ren10x/Desktop/Desktop - Ren’s MacBook Pro/schoolbus/code/backtest/load_data.py\", line 204, in get_swaps\n",
      "    query_result_ = run_query(query_)\n",
      "  File \"/Users/ren10x/Desktop/Desktop - Ren’s MacBook Pro/schoolbus/code/backtest/load_data.py\", line 13, in run_query\n",
      "    request = requests.post('https://api.thegraph.com/subgraphs/name/uniswap/uniswap-v3'\n",
      "  File \"/Library/Frameworks/Python.framework/Versions/3.8/lib/python3.8/site-packages/requests/api.py\", line 119, in post\n",
      "    return request('post', url, data=data, json=json, **kwargs)\n",
      "  File \"/Library/Frameworks/Python.framework/Versions/3.8/lib/python3.8/site-packages/requests/api.py\", line 61, in request\n",
      "    return session.request(method=method, url=url, **kwargs)\n",
      "  File \"/Library/Frameworks/Python.framework/Versions/3.8/lib/python3.8/site-packages/requests/sessions.py\", line 542, in request\n",
      "    resp = self.send(prep, **send_kwargs)\n",
      "  File \"/Library/Frameworks/Python.framework/Versions/3.8/lib/python3.8/site-packages/requests/sessions.py\", line 655, in send\n",
      "    r = adapter.send(request, **kwargs)\n",
      "  File \"/Library/Frameworks/Python.framework/Versions/3.8/lib/python3.8/site-packages/requests/adapters.py\", line 439, in send\n",
      "    resp = conn.urlopen(\n",
      "  File \"/Library/Frameworks/Python.framework/Versions/3.8/lib/python3.8/site-packages/urllib3/connectionpool.py\", line 699, in urlopen\n",
      "    httplib_response = self._make_request(\n",
      "  File \"/Library/Frameworks/Python.framework/Versions/3.8/lib/python3.8/site-packages/urllib3/connectionpool.py\", line 382, in _make_request\n",
      "    self._validate_conn(conn)\n",
      "  File \"/Library/Frameworks/Python.framework/Versions/3.8/lib/python3.8/site-packages/urllib3/connectionpool.py\", line 1010, in _validate_conn\n",
      "    conn.connect()\n",
      "  File \"/Library/Frameworks/Python.framework/Versions/3.8/lib/python3.8/site-packages/urllib3/connection.py\", line 353, in connect\n",
      "    conn = self._new_conn()\n",
      "  File \"/Library/Frameworks/Python.framework/Versions/3.8/lib/python3.8/site-packages/urllib3/connection.py\", line 169, in _new_conn\n",
      "    conn = connection.create_connection(\n",
      "  File \"/Library/Frameworks/Python.framework/Versions/3.8/lib/python3.8/site-packages/urllib3/util/connection.py\", line 86, in create_connection\n",
      "    sock.connect(sa)\n",
      "KeyboardInterrupt\n",
      "\n",
      "During handling of the above exception, another exception occurred:\n",
      "\n",
      "Traceback (most recent call last):\n",
      "  File \"/Library/Frameworks/Python.framework/Versions/3.8/lib/python3.8/site-packages/IPython/core/interactiveshell.py\", line 2061, in showtraceback\n",
      "    stb = value._render_traceback_()\n",
      "AttributeError: 'KeyboardInterrupt' object has no attribute '_render_traceback_'\n",
      "\n",
      "During handling of the above exception, another exception occurred:\n",
      "\n",
      "Traceback (most recent call last):\n",
      "  File \"/Library/Frameworks/Python.framework/Versions/3.8/lib/python3.8/site-packages/IPython/core/ultratb.py\", line 1101, in get_records\n",
      "    return _fixed_getinnerframes(etb, number_of_lines_of_context, tb_offset)\n",
      "  File \"/Library/Frameworks/Python.framework/Versions/3.8/lib/python3.8/site-packages/IPython/core/ultratb.py\", line 248, in wrapped\n",
      "    return f(*args, **kwargs)\n",
      "  File \"/Library/Frameworks/Python.framework/Versions/3.8/lib/python3.8/site-packages/IPython/core/ultratb.py\", line 281, in _fixed_getinnerframes\n",
      "    records = fix_frame_records_filenames(inspect.getinnerframes(etb, context))\n",
      "  File \"/Library/Frameworks/Python.framework/Versions/3.8/lib/python3.8/inspect.py\", line 1515, in getinnerframes\n",
      "    frameinfo = (tb.tb_frame,) + getframeinfo(tb, context)\n",
      "  File \"/Library/Frameworks/Python.framework/Versions/3.8/lib/python3.8/inspect.py\", line 1473, in getframeinfo\n",
      "    filename = getsourcefile(frame) or getfile(frame)\n",
      "  File \"/Library/Frameworks/Python.framework/Versions/3.8/lib/python3.8/inspect.py\", line 708, in getsourcefile\n",
      "    if getattr(getmodule(object, filename), '__loader__', None) is not None:\n",
      "  File \"/Library/Frameworks/Python.framework/Versions/3.8/lib/python3.8/inspect.py\", line 754, in getmodule\n",
      "    os.path.realpath(f)] = module.__name__\n",
      "  File \"/Library/Frameworks/Python.framework/Versions/3.8/lib/python3.8/posixpath.py\", line 391, in realpath\n",
      "    path, ok = _joinrealpath(filename[:0], filename, {})\n",
      "  File \"/Library/Frameworks/Python.framework/Versions/3.8/lib/python3.8/posixpath.py\", line 424, in _joinrealpath\n",
      "    newpath = join(path, name)\n",
      "  File \"/Library/Frameworks/Python.framework/Versions/3.8/lib/python3.8/posixpath.py\", line 82, in join\n",
      "    for b in map(os.fspath, p):\n",
      "KeyboardInterrupt\n"
     ]
    },
    {
     "ename": "TypeError",
     "evalue": "object of type 'NoneType' has no len()",
     "output_type": "error",
     "traceback": [
      "\u001b[0;31m---------------------------------------------------------------------------\u001b[0m",
      "\u001b[0;31mKeyboardInterrupt\u001b[0m                         Traceback (most recent call last)",
      "    \u001b[0;31m[... skipping hidden 1 frame]\u001b[0m\n",
      "\u001b[0;32m<ipython-input-11-3b2e48134348>\u001b[0m in \u001b[0;36m<module>\u001b[0;34m\u001b[0m\n\u001b[0;32m----> 1\u001b[0;31m \u001b[0mdf_merged\u001b[0m \u001b[0;34m=\u001b[0m \u001b[0mload_data\u001b[0m\u001b[0;34m.\u001b[0m\u001b[0mget_data\u001b[0m\u001b[0;34m(\u001b[0m\u001b[0mTOKEN0\u001b[0m\u001b[0;34m,\u001b[0m \u001b[0mTOKEN1\u001b[0m\u001b[0;34m,\u001b[0m \u001b[0mFEETIER\u001b[0m\u001b[0;34m)\u001b[0m\u001b[0;34m\u001b[0m\u001b[0;34m\u001b[0m\u001b[0m\n\u001b[0m\u001b[1;32m      2\u001b[0m \u001b[0;31m# df_merged = df_merged.fillna(0)\u001b[0m\u001b[0;34m\u001b[0m\u001b[0;34m\u001b[0m\u001b[0;34m\u001b[0m\u001b[0m\n",
      "\u001b[0;32m~/Desktop/Desktop - Ren’s MacBook Pro/schoolbus/code/backtest/load_data.py\u001b[0m in \u001b[0;36mget_data\u001b[0;34m(token0, token1, feeTier)\u001b[0m\n\u001b[1;32m    344\u001b[0m     \u001b[0;31m# Get Swaps data\u001b[0m\u001b[0;34m\u001b[0m\u001b[0;34m\u001b[0m\u001b[0;34m\u001b[0m\u001b[0m\n\u001b[0;32m--> 345\u001b[0;31m     \u001b[0mdf_swaps_all\u001b[0m \u001b[0;34m=\u001b[0m \u001b[0mget_swaps_loop\u001b[0m\u001b[0;34m(\u001b[0m\u001b[0mpool_id\u001b[0m\u001b[0;34m,\u001b[0m \u001b[0mtime_start\u001b[0m\u001b[0;34m,\u001b[0m \u001b[0mtime_end\u001b[0m\u001b[0;34m)\u001b[0m \u001b[0;31m# ,  num_datapoints= 150000\u001b[0m\u001b[0;34m\u001b[0m\u001b[0;34m\u001b[0m\u001b[0m\n\u001b[0m\u001b[1;32m    346\u001b[0m \u001b[0;34m\u001b[0m\u001b[0m\n",
      "\u001b[0;32m~/Desktop/Desktop - Ren’s MacBook Pro/schoolbus/code/backtest/load_data.py\u001b[0m in \u001b[0;36mget_swaps_loop\u001b[0;34m(pool_id, time_start, time_end)\u001b[0m\n\u001b[1;32m    241\u001b[0m         \u001b[0mprint\u001b[0m\u001b[0;34m(\u001b[0m\u001b[0;34m'next_time_start_: {}'\u001b[0m\u001b[0;34m.\u001b[0m\u001b[0mformat\u001b[0m\u001b[0;34m(\u001b[0m\u001b[0mnext_time_start_\u001b[0m\u001b[0;34m)\u001b[0m\u001b[0;34m)\u001b[0m\u001b[0;34m\u001b[0m\u001b[0;34m\u001b[0m\u001b[0m\n\u001b[0;32m--> 242\u001b[0;31m         \u001b[0mdf_\u001b[0m\u001b[0;34m,\u001b[0m \u001b[0mnext_time_start_\u001b[0m \u001b[0;34m=\u001b[0m \u001b[0mget_swaps\u001b[0m\u001b[0;34m(\u001b[0m\u001b[0mpool_id\u001b[0m\u001b[0;34m,\u001b[0m \u001b[0mnext_time_start_\u001b[0m\u001b[0;34m,\u001b[0m \u001b[0mtime_end\u001b[0m\u001b[0;34m,\u001b[0m \u001b[0mnum_datapoints\u001b[0m\u001b[0;34m=\u001b[0m\u001b[0mmax_num_query\u001b[0m\u001b[0;34m)\u001b[0m\u001b[0;34m\u001b[0m\u001b[0;34m\u001b[0m\u001b[0m\n\u001b[0m\u001b[1;32m    243\u001b[0m \u001b[0;34m\u001b[0m\u001b[0m\n",
      "\u001b[0;32m~/Desktop/Desktop - Ren’s MacBook Pro/schoolbus/code/backtest/load_data.py\u001b[0m in \u001b[0;36mget_swaps\u001b[0;34m(pool_id, time_start, time_end, num_datapoints)\u001b[0m\n\u001b[1;32m    203\u001b[0m         \u001b[0mquery_\u001b[0m \u001b[0;34m=\u001b[0m \u001b[0mquery_base_\u001b[0m\u001b[0;34m.\u001b[0m\u001b[0mformat\u001b[0m\u001b[0;34m(\u001b[0m\u001b[0mq_first_\u001b[0m\u001b[0;34m,\u001b[0m \u001b[0mq_next_\u001b[0m\u001b[0;34m,\u001b[0m \u001b[0mpool_id\u001b[0m\u001b[0;34m,\u001b[0m \u001b[0mtime_start\u001b[0m\u001b[0;34m,\u001b[0m \u001b[0mtime_end\u001b[0m\u001b[0;34m)\u001b[0m\u001b[0;34m\u001b[0m\u001b[0;34m\u001b[0m\u001b[0m\n\u001b[0;32m--> 204\u001b[0;31m         \u001b[0mquery_result_\u001b[0m \u001b[0;34m=\u001b[0m \u001b[0mrun_query\u001b[0m\u001b[0;34m(\u001b[0m\u001b[0mquery_\u001b[0m\u001b[0;34m)\u001b[0m\u001b[0;34m\u001b[0m\u001b[0;34m\u001b[0m\u001b[0m\n\u001b[0m\u001b[1;32m    205\u001b[0m         \u001b[0mjson_data_\u001b[0m \u001b[0;34m=\u001b[0m \u001b[0mjson\u001b[0m\u001b[0;34m.\u001b[0m\u001b[0mloads\u001b[0m\u001b[0;34m(\u001b[0m\u001b[0mquery_result_\u001b[0m\u001b[0;34m.\u001b[0m\u001b[0mtext\u001b[0m\u001b[0;34m)\u001b[0m\u001b[0;34m\u001b[0m\u001b[0;34m\u001b[0m\u001b[0m\n",
      "\u001b[0;32m~/Desktop/Desktop - Ren’s MacBook Pro/schoolbus/code/backtest/load_data.py\u001b[0m in \u001b[0;36mrun_query\u001b[0;34m(q)\u001b[0m\n\u001b[1;32m     12\u001b[0m     \u001b[0;31m# endpoint where you are making the request\u001b[0m\u001b[0;34m\u001b[0m\u001b[0;34m\u001b[0m\u001b[0;34m\u001b[0m\u001b[0m\n\u001b[0;32m---> 13\u001b[0;31m     request = requests.post('https://api.thegraph.com/subgraphs/name/uniswap/uniswap-v3'\n\u001b[0m\u001b[1;32m     14\u001b[0m                             '',json={'query': q})\n",
      "\u001b[0;32m/Library/Frameworks/Python.framework/Versions/3.8/lib/python3.8/site-packages/requests/api.py\u001b[0m in \u001b[0;36mpost\u001b[0;34m(url, data, json, **kwargs)\u001b[0m\n\u001b[1;32m    118\u001b[0m \u001b[0;34m\u001b[0m\u001b[0m\n\u001b[0;32m--> 119\u001b[0;31m     \u001b[0;32mreturn\u001b[0m \u001b[0mrequest\u001b[0m\u001b[0;34m(\u001b[0m\u001b[0;34m'post'\u001b[0m\u001b[0;34m,\u001b[0m \u001b[0murl\u001b[0m\u001b[0;34m,\u001b[0m \u001b[0mdata\u001b[0m\u001b[0;34m=\u001b[0m\u001b[0mdata\u001b[0m\u001b[0;34m,\u001b[0m \u001b[0mjson\u001b[0m\u001b[0;34m=\u001b[0m\u001b[0mjson\u001b[0m\u001b[0;34m,\u001b[0m \u001b[0;34m**\u001b[0m\u001b[0mkwargs\u001b[0m\u001b[0;34m)\u001b[0m\u001b[0;34m\u001b[0m\u001b[0;34m\u001b[0m\u001b[0m\n\u001b[0m\u001b[1;32m    120\u001b[0m \u001b[0;34m\u001b[0m\u001b[0m\n",
      "\u001b[0;32m/Library/Frameworks/Python.framework/Versions/3.8/lib/python3.8/site-packages/requests/api.py\u001b[0m in \u001b[0;36mrequest\u001b[0;34m(method, url, **kwargs)\u001b[0m\n\u001b[1;32m     60\u001b[0m     \u001b[0;32mwith\u001b[0m \u001b[0msessions\u001b[0m\u001b[0;34m.\u001b[0m\u001b[0mSession\u001b[0m\u001b[0;34m(\u001b[0m\u001b[0;34m)\u001b[0m \u001b[0;32mas\u001b[0m \u001b[0msession\u001b[0m\u001b[0;34m:\u001b[0m\u001b[0;34m\u001b[0m\u001b[0;34m\u001b[0m\u001b[0m\n\u001b[0;32m---> 61\u001b[0;31m         \u001b[0;32mreturn\u001b[0m \u001b[0msession\u001b[0m\u001b[0;34m.\u001b[0m\u001b[0mrequest\u001b[0m\u001b[0;34m(\u001b[0m\u001b[0mmethod\u001b[0m\u001b[0;34m=\u001b[0m\u001b[0mmethod\u001b[0m\u001b[0;34m,\u001b[0m \u001b[0murl\u001b[0m\u001b[0;34m=\u001b[0m\u001b[0murl\u001b[0m\u001b[0;34m,\u001b[0m \u001b[0;34m**\u001b[0m\u001b[0mkwargs\u001b[0m\u001b[0;34m)\u001b[0m\u001b[0;34m\u001b[0m\u001b[0;34m\u001b[0m\u001b[0m\n\u001b[0m\u001b[1;32m     62\u001b[0m \u001b[0;34m\u001b[0m\u001b[0m\n",
      "\u001b[0;32m/Library/Frameworks/Python.framework/Versions/3.8/lib/python3.8/site-packages/requests/sessions.py\u001b[0m in \u001b[0;36mrequest\u001b[0;34m(self, method, url, params, data, headers, cookies, files, auth, timeout, allow_redirects, proxies, hooks, stream, verify, cert, json)\u001b[0m\n\u001b[1;32m    541\u001b[0m         \u001b[0msend_kwargs\u001b[0m\u001b[0;34m.\u001b[0m\u001b[0mupdate\u001b[0m\u001b[0;34m(\u001b[0m\u001b[0msettings\u001b[0m\u001b[0;34m)\u001b[0m\u001b[0;34m\u001b[0m\u001b[0;34m\u001b[0m\u001b[0m\n\u001b[0;32m--> 542\u001b[0;31m         \u001b[0mresp\u001b[0m \u001b[0;34m=\u001b[0m \u001b[0mself\u001b[0m\u001b[0;34m.\u001b[0m\u001b[0msend\u001b[0m\u001b[0;34m(\u001b[0m\u001b[0mprep\u001b[0m\u001b[0;34m,\u001b[0m \u001b[0;34m**\u001b[0m\u001b[0msend_kwargs\u001b[0m\u001b[0;34m)\u001b[0m\u001b[0;34m\u001b[0m\u001b[0;34m\u001b[0m\u001b[0m\n\u001b[0m\u001b[1;32m    543\u001b[0m \u001b[0;34m\u001b[0m\u001b[0m\n",
      "\u001b[0;32m/Library/Frameworks/Python.framework/Versions/3.8/lib/python3.8/site-packages/requests/sessions.py\u001b[0m in \u001b[0;36msend\u001b[0;34m(self, request, **kwargs)\u001b[0m\n\u001b[1;32m    654\u001b[0m         \u001b[0;31m# Send the request\u001b[0m\u001b[0;34m\u001b[0m\u001b[0;34m\u001b[0m\u001b[0;34m\u001b[0m\u001b[0m\n\u001b[0;32m--> 655\u001b[0;31m         \u001b[0mr\u001b[0m \u001b[0;34m=\u001b[0m \u001b[0madapter\u001b[0m\u001b[0;34m.\u001b[0m\u001b[0msend\u001b[0m\u001b[0;34m(\u001b[0m\u001b[0mrequest\u001b[0m\u001b[0;34m,\u001b[0m \u001b[0;34m**\u001b[0m\u001b[0mkwargs\u001b[0m\u001b[0;34m)\u001b[0m\u001b[0;34m\u001b[0m\u001b[0;34m\u001b[0m\u001b[0m\n\u001b[0m\u001b[1;32m    656\u001b[0m \u001b[0;34m\u001b[0m\u001b[0m\n",
      "\u001b[0;32m/Library/Frameworks/Python.framework/Versions/3.8/lib/python3.8/site-packages/requests/adapters.py\u001b[0m in \u001b[0;36msend\u001b[0;34m(self, request, stream, timeout, verify, cert, proxies)\u001b[0m\n\u001b[1;32m    438\u001b[0m             \u001b[0;32mif\u001b[0m \u001b[0;32mnot\u001b[0m \u001b[0mchunked\u001b[0m\u001b[0;34m:\u001b[0m\u001b[0;34m\u001b[0m\u001b[0;34m\u001b[0m\u001b[0m\n\u001b[0;32m--> 439\u001b[0;31m                 resp = conn.urlopen(\n\u001b[0m\u001b[1;32m    440\u001b[0m                     \u001b[0mmethod\u001b[0m\u001b[0;34m=\u001b[0m\u001b[0mrequest\u001b[0m\u001b[0;34m.\u001b[0m\u001b[0mmethod\u001b[0m\u001b[0;34m,\u001b[0m\u001b[0;34m\u001b[0m\u001b[0;34m\u001b[0m\u001b[0m\n",
      "\u001b[0;32m/Library/Frameworks/Python.framework/Versions/3.8/lib/python3.8/site-packages/urllib3/connectionpool.py\u001b[0m in \u001b[0;36murlopen\u001b[0;34m(self, method, url, body, headers, retries, redirect, assert_same_host, timeout, pool_timeout, release_conn, chunked, body_pos, **response_kw)\u001b[0m\n\u001b[1;32m    698\u001b[0m             \u001b[0;31m# Make the request on the httplib connection object.\u001b[0m\u001b[0;34m\u001b[0m\u001b[0;34m\u001b[0m\u001b[0;34m\u001b[0m\u001b[0m\n\u001b[0;32m--> 699\u001b[0;31m             httplib_response = self._make_request(\n\u001b[0m\u001b[1;32m    700\u001b[0m                 \u001b[0mconn\u001b[0m\u001b[0;34m,\u001b[0m\u001b[0;34m\u001b[0m\u001b[0;34m\u001b[0m\u001b[0m\n",
      "\u001b[0;32m/Library/Frameworks/Python.framework/Versions/3.8/lib/python3.8/site-packages/urllib3/connectionpool.py\u001b[0m in \u001b[0;36m_make_request\u001b[0;34m(self, conn, method, url, timeout, chunked, **httplib_request_kw)\u001b[0m\n\u001b[1;32m    381\u001b[0m         \u001b[0;32mtry\u001b[0m\u001b[0;34m:\u001b[0m\u001b[0;34m\u001b[0m\u001b[0;34m\u001b[0m\u001b[0m\n\u001b[0;32m--> 382\u001b[0;31m             \u001b[0mself\u001b[0m\u001b[0;34m.\u001b[0m\u001b[0m_validate_conn\u001b[0m\u001b[0;34m(\u001b[0m\u001b[0mconn\u001b[0m\u001b[0;34m)\u001b[0m\u001b[0;34m\u001b[0m\u001b[0;34m\u001b[0m\u001b[0m\n\u001b[0m\u001b[1;32m    383\u001b[0m         \u001b[0;32mexcept\u001b[0m \u001b[0;34m(\u001b[0m\u001b[0mSocketTimeout\u001b[0m\u001b[0;34m,\u001b[0m \u001b[0mBaseSSLError\u001b[0m\u001b[0;34m)\u001b[0m \u001b[0;32mas\u001b[0m \u001b[0me\u001b[0m\u001b[0;34m:\u001b[0m\u001b[0;34m\u001b[0m\u001b[0;34m\u001b[0m\u001b[0m\n",
      "\u001b[0;32m/Library/Frameworks/Python.framework/Versions/3.8/lib/python3.8/site-packages/urllib3/connectionpool.py\u001b[0m in \u001b[0;36m_validate_conn\u001b[0;34m(self, conn)\u001b[0m\n\u001b[1;32m   1009\u001b[0m         \u001b[0;32mif\u001b[0m \u001b[0;32mnot\u001b[0m \u001b[0mgetattr\u001b[0m\u001b[0;34m(\u001b[0m\u001b[0mconn\u001b[0m\u001b[0;34m,\u001b[0m \u001b[0;34m\"sock\"\u001b[0m\u001b[0;34m,\u001b[0m \u001b[0;32mNone\u001b[0m\u001b[0;34m)\u001b[0m\u001b[0;34m:\u001b[0m  \u001b[0;31m# AppEngine might not have  `.sock`\u001b[0m\u001b[0;34m\u001b[0m\u001b[0;34m\u001b[0m\u001b[0m\n\u001b[0;32m-> 1010\u001b[0;31m             \u001b[0mconn\u001b[0m\u001b[0;34m.\u001b[0m\u001b[0mconnect\u001b[0m\u001b[0;34m(\u001b[0m\u001b[0;34m)\u001b[0m\u001b[0;34m\u001b[0m\u001b[0;34m\u001b[0m\u001b[0m\n\u001b[0m\u001b[1;32m   1011\u001b[0m \u001b[0;34m\u001b[0m\u001b[0m\n",
      "\u001b[0;32m/Library/Frameworks/Python.framework/Versions/3.8/lib/python3.8/site-packages/urllib3/connection.py\u001b[0m in \u001b[0;36mconnect\u001b[0;34m(self)\u001b[0m\n\u001b[1;32m    352\u001b[0m         \u001b[0;31m# Add certificate verification\u001b[0m\u001b[0;34m\u001b[0m\u001b[0;34m\u001b[0m\u001b[0;34m\u001b[0m\u001b[0m\n\u001b[0;32m--> 353\u001b[0;31m         \u001b[0mconn\u001b[0m \u001b[0;34m=\u001b[0m \u001b[0mself\u001b[0m\u001b[0;34m.\u001b[0m\u001b[0m_new_conn\u001b[0m\u001b[0;34m(\u001b[0m\u001b[0;34m)\u001b[0m\u001b[0;34m\u001b[0m\u001b[0;34m\u001b[0m\u001b[0m\n\u001b[0m\u001b[1;32m    354\u001b[0m         \u001b[0mhostname\u001b[0m \u001b[0;34m=\u001b[0m \u001b[0mself\u001b[0m\u001b[0;34m.\u001b[0m\u001b[0mhost\u001b[0m\u001b[0;34m\u001b[0m\u001b[0;34m\u001b[0m\u001b[0m\n",
      "\u001b[0;32m/Library/Frameworks/Python.framework/Versions/3.8/lib/python3.8/site-packages/urllib3/connection.py\u001b[0m in \u001b[0;36m_new_conn\u001b[0;34m(self)\u001b[0m\n\u001b[1;32m    168\u001b[0m         \u001b[0;32mtry\u001b[0m\u001b[0;34m:\u001b[0m\u001b[0;34m\u001b[0m\u001b[0;34m\u001b[0m\u001b[0m\n\u001b[0;32m--> 169\u001b[0;31m             conn = connection.create_connection(\n\u001b[0m\u001b[1;32m    170\u001b[0m                 \u001b[0;34m(\u001b[0m\u001b[0mself\u001b[0m\u001b[0;34m.\u001b[0m\u001b[0m_dns_host\u001b[0m\u001b[0;34m,\u001b[0m \u001b[0mself\u001b[0m\u001b[0;34m.\u001b[0m\u001b[0mport\u001b[0m\u001b[0;34m)\u001b[0m\u001b[0;34m,\u001b[0m \u001b[0mself\u001b[0m\u001b[0;34m.\u001b[0m\u001b[0mtimeout\u001b[0m\u001b[0;34m,\u001b[0m \u001b[0;34m**\u001b[0m\u001b[0mextra_kw\u001b[0m\u001b[0;34m\u001b[0m\u001b[0;34m\u001b[0m\u001b[0m\n",
      "\u001b[0;32m/Library/Frameworks/Python.framework/Versions/3.8/lib/python3.8/site-packages/urllib3/util/connection.py\u001b[0m in \u001b[0;36mcreate_connection\u001b[0;34m(address, timeout, source_address, socket_options)\u001b[0m\n\u001b[1;32m     85\u001b[0m                 \u001b[0msock\u001b[0m\u001b[0;34m.\u001b[0m\u001b[0mbind\u001b[0m\u001b[0;34m(\u001b[0m\u001b[0msource_address\u001b[0m\u001b[0;34m)\u001b[0m\u001b[0;34m\u001b[0m\u001b[0;34m\u001b[0m\u001b[0m\n\u001b[0;32m---> 86\u001b[0;31m             \u001b[0msock\u001b[0m\u001b[0;34m.\u001b[0m\u001b[0mconnect\u001b[0m\u001b[0;34m(\u001b[0m\u001b[0msa\u001b[0m\u001b[0;34m)\u001b[0m\u001b[0;34m\u001b[0m\u001b[0;34m\u001b[0m\u001b[0m\n\u001b[0m\u001b[1;32m     87\u001b[0m             \u001b[0;32mreturn\u001b[0m \u001b[0msock\u001b[0m\u001b[0;34m\u001b[0m\u001b[0;34m\u001b[0m\u001b[0m\n",
      "\u001b[0;31mKeyboardInterrupt\u001b[0m: ",
      "\nDuring handling of the above exception, another exception occurred:\n",
      "\u001b[0;31mAttributeError\u001b[0m                            Traceback (most recent call last)",
      "\u001b[0;32m/Library/Frameworks/Python.framework/Versions/3.8/lib/python3.8/site-packages/IPython/core/interactiveshell.py\u001b[0m in \u001b[0;36mshowtraceback\u001b[0;34m(self, exc_tuple, filename, tb_offset, exception_only, running_compiled_code)\u001b[0m\n\u001b[1;32m   2060\u001b[0m                         \u001b[0;31m# in the engines. This should return a list of strings.\u001b[0m\u001b[0;34m\u001b[0m\u001b[0;34m\u001b[0m\u001b[0;34m\u001b[0m\u001b[0m\n\u001b[0;32m-> 2061\u001b[0;31m                         \u001b[0mstb\u001b[0m \u001b[0;34m=\u001b[0m \u001b[0mvalue\u001b[0m\u001b[0;34m.\u001b[0m\u001b[0m_render_traceback_\u001b[0m\u001b[0;34m(\u001b[0m\u001b[0;34m)\u001b[0m\u001b[0;34m\u001b[0m\u001b[0;34m\u001b[0m\u001b[0m\n\u001b[0m\u001b[1;32m   2062\u001b[0m                     \u001b[0;32mexcept\u001b[0m \u001b[0mException\u001b[0m\u001b[0;34m:\u001b[0m\u001b[0;34m\u001b[0m\u001b[0;34m\u001b[0m\u001b[0m\n",
      "\u001b[0;31mAttributeError\u001b[0m: 'KeyboardInterrupt' object has no attribute '_render_traceback_'",
      "\nDuring handling of the above exception, another exception occurred:\n",
      "\u001b[0;31mTypeError\u001b[0m                                 Traceback (most recent call last)",
      "    \u001b[0;31m[... skipping hidden 1 frame]\u001b[0m\n",
      "\u001b[0;32m/Library/Frameworks/Python.framework/Versions/3.8/lib/python3.8/site-packages/IPython/core/interactiveshell.py\u001b[0m in \u001b[0;36mshowtraceback\u001b[0;34m(self, exc_tuple, filename, tb_offset, exception_only, running_compiled_code)\u001b[0m\n\u001b[1;32m   2061\u001b[0m                         \u001b[0mstb\u001b[0m \u001b[0;34m=\u001b[0m \u001b[0mvalue\u001b[0m\u001b[0;34m.\u001b[0m\u001b[0m_render_traceback_\u001b[0m\u001b[0;34m(\u001b[0m\u001b[0;34m)\u001b[0m\u001b[0;34m\u001b[0m\u001b[0;34m\u001b[0m\u001b[0m\n\u001b[1;32m   2062\u001b[0m                     \u001b[0;32mexcept\u001b[0m \u001b[0mException\u001b[0m\u001b[0;34m:\u001b[0m\u001b[0;34m\u001b[0m\u001b[0;34m\u001b[0m\u001b[0m\n\u001b[0;32m-> 2063\u001b[0;31m                         stb = self.InteractiveTB.structured_traceback(etype,\n\u001b[0m\u001b[1;32m   2064\u001b[0m                                             value, tb, tb_offset=tb_offset)\n\u001b[1;32m   2065\u001b[0m \u001b[0;34m\u001b[0m\u001b[0m\n",
      "\u001b[0;32m/Library/Frameworks/Python.framework/Versions/3.8/lib/python3.8/site-packages/IPython/core/ultratb.py\u001b[0m in \u001b[0;36mstructured_traceback\u001b[0;34m(self, etype, value, tb, tb_offset, number_of_lines_of_context)\u001b[0m\n\u001b[1;32m   1365\u001b[0m         \u001b[0;32melse\u001b[0m\u001b[0;34m:\u001b[0m\u001b[0;34m\u001b[0m\u001b[0;34m\u001b[0m\u001b[0m\n\u001b[1;32m   1366\u001b[0m             \u001b[0mself\u001b[0m\u001b[0;34m.\u001b[0m\u001b[0mtb\u001b[0m \u001b[0;34m=\u001b[0m \u001b[0mtb\u001b[0m\u001b[0;34m\u001b[0m\u001b[0;34m\u001b[0m\u001b[0m\n\u001b[0;32m-> 1367\u001b[0;31m         return FormattedTB.structured_traceback(\n\u001b[0m\u001b[1;32m   1368\u001b[0m             self, etype, value, tb, tb_offset, number_of_lines_of_context)\n\u001b[1;32m   1369\u001b[0m \u001b[0;34m\u001b[0m\u001b[0m\n",
      "\u001b[0;32m/Library/Frameworks/Python.framework/Versions/3.8/lib/python3.8/site-packages/IPython/core/ultratb.py\u001b[0m in \u001b[0;36mstructured_traceback\u001b[0;34m(self, etype, value, tb, tb_offset, number_of_lines_of_context)\u001b[0m\n\u001b[1;32m   1265\u001b[0m         \u001b[0;32mif\u001b[0m \u001b[0mmode\u001b[0m \u001b[0;32min\u001b[0m \u001b[0mself\u001b[0m\u001b[0;34m.\u001b[0m\u001b[0mverbose_modes\u001b[0m\u001b[0;34m:\u001b[0m\u001b[0;34m\u001b[0m\u001b[0;34m\u001b[0m\u001b[0m\n\u001b[1;32m   1266\u001b[0m             \u001b[0;31m# Verbose modes need a full traceback\u001b[0m\u001b[0;34m\u001b[0m\u001b[0;34m\u001b[0m\u001b[0;34m\u001b[0m\u001b[0m\n\u001b[0;32m-> 1267\u001b[0;31m             return VerboseTB.structured_traceback(\n\u001b[0m\u001b[1;32m   1268\u001b[0m                 \u001b[0mself\u001b[0m\u001b[0;34m,\u001b[0m \u001b[0metype\u001b[0m\u001b[0;34m,\u001b[0m \u001b[0mvalue\u001b[0m\u001b[0;34m,\u001b[0m \u001b[0mtb\u001b[0m\u001b[0;34m,\u001b[0m \u001b[0mtb_offset\u001b[0m\u001b[0;34m,\u001b[0m \u001b[0mnumber_of_lines_of_context\u001b[0m\u001b[0;34m\u001b[0m\u001b[0;34m\u001b[0m\u001b[0m\n\u001b[1;32m   1269\u001b[0m             )\n",
      "\u001b[0;32m/Library/Frameworks/Python.framework/Versions/3.8/lib/python3.8/site-packages/IPython/core/ultratb.py\u001b[0m in \u001b[0;36mstructured_traceback\u001b[0;34m(self, etype, evalue, etb, tb_offset, number_of_lines_of_context)\u001b[0m\n\u001b[1;32m   1122\u001b[0m         \u001b[0;34m\"\"\"Return a nice text document describing the traceback.\"\"\"\u001b[0m\u001b[0;34m\u001b[0m\u001b[0;34m\u001b[0m\u001b[0m\n\u001b[1;32m   1123\u001b[0m \u001b[0;34m\u001b[0m\u001b[0m\n\u001b[0;32m-> 1124\u001b[0;31m         formatted_exception = self.format_exception_as_a_whole(etype, evalue, etb, number_of_lines_of_context,\n\u001b[0m\u001b[1;32m   1125\u001b[0m                                                                tb_offset)\n\u001b[1;32m   1126\u001b[0m \u001b[0;34m\u001b[0m\u001b[0m\n",
      "\u001b[0;32m/Library/Frameworks/Python.framework/Versions/3.8/lib/python3.8/site-packages/IPython/core/ultratb.py\u001b[0m in \u001b[0;36mformat_exception_as_a_whole\u001b[0;34m(self, etype, evalue, etb, number_of_lines_of_context, tb_offset)\u001b[0m\n\u001b[1;32m   1080\u001b[0m \u001b[0;34m\u001b[0m\u001b[0m\n\u001b[1;32m   1081\u001b[0m \u001b[0;34m\u001b[0m\u001b[0m\n\u001b[0;32m-> 1082\u001b[0;31m         \u001b[0mlast_unique\u001b[0m\u001b[0;34m,\u001b[0m \u001b[0mrecursion_repeat\u001b[0m \u001b[0;34m=\u001b[0m \u001b[0mfind_recursion\u001b[0m\u001b[0;34m(\u001b[0m\u001b[0morig_etype\u001b[0m\u001b[0;34m,\u001b[0m \u001b[0mevalue\u001b[0m\u001b[0;34m,\u001b[0m \u001b[0mrecords\u001b[0m\u001b[0;34m)\u001b[0m\u001b[0;34m\u001b[0m\u001b[0;34m\u001b[0m\u001b[0m\n\u001b[0m\u001b[1;32m   1083\u001b[0m \u001b[0;34m\u001b[0m\u001b[0m\n\u001b[1;32m   1084\u001b[0m         \u001b[0mframes\u001b[0m \u001b[0;34m=\u001b[0m \u001b[0mself\u001b[0m\u001b[0;34m.\u001b[0m\u001b[0mformat_records\u001b[0m\u001b[0;34m(\u001b[0m\u001b[0mrecords\u001b[0m\u001b[0;34m,\u001b[0m \u001b[0mlast_unique\u001b[0m\u001b[0;34m,\u001b[0m \u001b[0mrecursion_repeat\u001b[0m\u001b[0;34m)\u001b[0m\u001b[0;34m\u001b[0m\u001b[0;34m\u001b[0m\u001b[0m\n",
      "\u001b[0;32m/Library/Frameworks/Python.framework/Versions/3.8/lib/python3.8/site-packages/IPython/core/ultratb.py\u001b[0m in \u001b[0;36mfind_recursion\u001b[0;34m(etype, value, records)\u001b[0m\n\u001b[1;32m    380\u001b[0m     \u001b[0;31m# first frame (from in to out) that looks different.\u001b[0m\u001b[0;34m\u001b[0m\u001b[0;34m\u001b[0m\u001b[0;34m\u001b[0m\u001b[0m\n\u001b[1;32m    381\u001b[0m     \u001b[0;32mif\u001b[0m \u001b[0;32mnot\u001b[0m \u001b[0mis_recursion_error\u001b[0m\u001b[0;34m(\u001b[0m\u001b[0metype\u001b[0m\u001b[0;34m,\u001b[0m \u001b[0mvalue\u001b[0m\u001b[0;34m,\u001b[0m \u001b[0mrecords\u001b[0m\u001b[0;34m)\u001b[0m\u001b[0;34m:\u001b[0m\u001b[0;34m\u001b[0m\u001b[0;34m\u001b[0m\u001b[0m\n\u001b[0;32m--> 382\u001b[0;31m         \u001b[0;32mreturn\u001b[0m \u001b[0mlen\u001b[0m\u001b[0;34m(\u001b[0m\u001b[0mrecords\u001b[0m\u001b[0;34m)\u001b[0m\u001b[0;34m,\u001b[0m \u001b[0;36m0\u001b[0m\u001b[0;34m\u001b[0m\u001b[0;34m\u001b[0m\u001b[0m\n\u001b[0m\u001b[1;32m    383\u001b[0m \u001b[0;34m\u001b[0m\u001b[0m\n\u001b[1;32m    384\u001b[0m     \u001b[0;31m# Select filename, lineno, func_name to track frames with\u001b[0m\u001b[0;34m\u001b[0m\u001b[0;34m\u001b[0m\u001b[0;34m\u001b[0m\u001b[0m\n",
      "\u001b[0;31mTypeError\u001b[0m: object of type 'NoneType' has no len()"
     ]
    }
   ],
   "source": [
    "df_merged = load_data.get_data(TOKEN0, TOKEN1, FEETIER)\n",
    "# df_merged = df_merged.fillna(0)"
   ]
  },
  {
   "cell_type": "code",
   "execution_count": null,
   "id": "b21e1afe",
   "metadata": {
    "scrolled": false
   },
   "outputs": [],
   "source": [
    "df_positions_fees = get_fees_from_positions(df_merged, df_positions)"
   ]
  },
  {
   "cell_type": "code",
   "execution_count": null,
   "id": "1556fcfe",
   "metadata": {},
   "outputs": [],
   "source": [
    "# df_positions_fees = get_fees_from_positions(df_merged, df_positions)\n",
    "\n",
    "fees_token0 = df_positions_fees['fees0'].sum()\n",
    "fees_token1 = df_positions_fees['fees1'].sum()\n",
    "\n",
    "totalfees_USD = ( fees_token0*TOKEN0_TO_USD )+ (fees_token1 *TOKEN1_TO_USD)\n",
    "\n",
    "print(fees_token0, fees_token1, totalfees_USD)\n",
    "print(revert_fees0,revert_fees1)\n",
    "\n",
    "error_margin_fees0 = (1 - fees_token0/revert_fees0)*100\n",
    "error_margin_fees1 = (1 - fees_token1/revert_fees1)*100\n",
    "print('error margin token0 = {} %, token1 = {} %'.format(error_margin_fees0, error_margin_fees1))"
   ]
  },
  {
   "cell_type": "code",
   "execution_count": null,
   "id": "0de5d7cb",
   "metadata": {},
   "outputs": [],
   "source": [
    "# 35835.9997570211 16.065701314551056 77266.87293503794\n",
    "# error margin token0 = 5.184762631458817 %, token1 = 4.629325451258682 %\n",
    "\n",
    "\n",
    "# 167.380859180713 0.07378978912937459 357.67291897910934\n",
    "# error margin token0 = -22.567520206429805 %, token1 = -22.9624881342686 %"
   ]
  },
  {
   "cell_type": "code",
   "execution_count": null,
   "id": "dbd640c9",
   "metadata": {},
   "outputs": [],
   "source": [
    "watch = ['periodStartUnix', 'feeGrowthGlobal0X128', 'feeGrowthGlobal1X128']\n",
    "df_positions_fees[watch].head()"
   ]
  },
  {
   "cell_type": "code",
   "execution_count": null,
   "id": "f42f3a5d",
   "metadata": {},
   "outputs": [],
   "source": []
  }
 ],
 "metadata": {
  "kernelspec": {
   "display_name": "Python 3",
   "language": "python",
   "name": "python3"
  },
  "language_info": {
   "codemirror_mode": {
    "name": "ipython",
    "version": 3
   },
   "file_extension": ".py",
   "mimetype": "text/x-python",
   "name": "python",
   "nbconvert_exporter": "python",
   "pygments_lexer": "ipython3",
   "version": "3.8.10"
  }
 },
 "nbformat": 4,
 "nbformat_minor": 5
}
