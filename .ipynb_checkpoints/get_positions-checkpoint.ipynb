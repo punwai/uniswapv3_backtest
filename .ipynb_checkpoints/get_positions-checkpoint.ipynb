{
 "cells": [
  {
   "cell_type": "markdown",
   "id": "e507957e",
   "metadata": {},
   "source": [
    "### This notebook is to generate df of Positions, that is resulted in our strategy"
   ]
  },
  {
   "cell_type": "code",
   "execution_count": 28,
   "id": "3da32e41",
   "metadata": {},
   "outputs": [],
   "source": [
    "import pandas as pd\n",
    "from math import sqrt\n",
    "import math"
   ]
  },
  {
   "cell_type": "code",
   "execution_count": null,
   "id": "423e1cc9",
   "metadata": {},
   "outputs": [],
   "source": []
  },
  {
   "cell_type": "code",
   "execution_count": null,
   "id": "c8c03602",
   "metadata": {},
   "outputs": [],
   "source": [
    "### input: money USD, upper and lower\n",
    "### \n",
    "# maths:\n",
    "# p(i) = 1.0001**i , where i = tick\n",
    "# i = math.floor(math.log(sqrt(P)/(2**96), math.sqrt(1.0001)))\n",
    "\n",
    "# of positions:\n",
    "# liquidity L = sqrt(token0_amt*token1__amt) ?? > may need the complicated 3 cases maths\n",
    "# - Fee income = (L_you/L_pool) * swap volume under fixed time period (USD) * pool_fee_rate/100\n",
    "\n",
    "# Questions:\n",
    "# 1. invest amount > amt0 and amt1 maths (can you do this? or its amt0>amt1)\n",
    "# 2. why we still have liquidity when outside of upper and lower. fee should be 0\n",
    "# 3. why liquidity is so high, how to convert back"
   ]
  },
  {
   "cell_type": "code",
   "execution_count": null,
   "id": "2f73803e",
   "metadata": {},
   "outputs": [],
   "source": [
    "# PROVIDE BY USERS\n",
    "# INVEST_AMOUNT = 100000 # in USD\n",
    "UPPER = 0.00050567 # 0.00051486 # token1 per token0 (in terms of price)\n",
    "LOWER = 0.00038603 # 0.00039069\n",
    "FEETIER = '3000' # 0.3 = 3000/10000\n",
    "TOKEN0 = 'DAI'\n",
    "TOKEN1 = 'WETH'\n",
    "MINT_TIME = 1627437600 # needs to start with the hour (unixTime % 3600 = 0) \n",
    "# Wed Jul 28 2021 09:00:00 GMT+0700 (+07)"
   ]
  },
  {
   "cell_type": "code",
   "execution_count": null,
   "id": "a02aa259",
   "metadata": {},
   "outputs": [],
   "source": [
    "# 1. GET BY QUERYING, at specific mint time\n",
    "CPRICE = 0.000436882 # ETH per DAI\n",
    "\n",
    "# query Token from the graph, or Etherscan for now.\n",
    "DECIMALS0 = 18 # DAI\n",
    "DECIMALS1 = 18 # WETH"
   ]
  },
  {
   "cell_type": "code",
   "execution_count": 52,
   "id": "a6203079",
   "metadata": {},
   "outputs": [],
   "source": [
    "# 2. CALCULATED BY ALGORITHM\n",
    "amt0 = 53191.2\n",
    "amt1 = 19"
   ]
  },
  {
   "cell_type": "code",
   "execution_count": null,
   "id": "1f0d2ea5",
   "metadata": {},
   "outputs": [],
   "source": [
    "# 3. GET from DF_MERGE (for specific hour frame)\n",
    "L_POOL = # of that tick\n",
    "SWAP_VOLUME = # of that hour, in USD (?)"
   ]
  },
  {
   "cell_type": "code",
   "execution_count": 55,
   "id": "991ba34a",
   "metadata": {},
   "outputs": [
    {
     "name": "stdout",
     "output_type": "stream",
     "text": [
      "15150.593942102827\n",
      "True\n"
     ]
    }
   ],
   "source": [
    "# 4. Calculate L_you and check if we are in range\n",
    "\n",
    "if CPRICE <= LOWER:\n",
    "    L_you = amt0 * (sqrt(UPPER) * sqrt(LOWER)) / (sqrt(UPPER) - sqrt(LOWER))\n",
    "    # shouldnt this be 0 ? have liquidity but no fees?\n",
    "    inRange = False\n",
    "elif CPRICE > UPPER:\n",
    "    L_you = amt1 / (sqrt(UPPER) - sqrt(LOWER))\n",
    "    inRange = False\n",
    "    # shouldnt this be 0 ?\n",
    "else:\n",
    "    liq1 = amt0 * (sqrt(UPPER) * sqrt(CPRICE)) / (sqrt(UPPER) - sqrt(CPRICE))\n",
    "    liq2 = amt1 / (sqrt(CPRICE) - sqrt(LOWER))\n",
    "    L_you = min(liq1,liq2)\n",
    "    inRange = True\n",
    "\n",
    "print(L_you)\n",
    "print(inRange)\n"
   ]
  },
  {
   "cell_type": "code",
   "execution_count": 56,
   "id": "23ff2b0a",
   "metadata": {},
   "outputs": [],
   "source": [
    "# Fees calculation\n",
    "# Fee income = (L_you/L_pool) * swap volume under fixed time period * pool_fee_rate/100\n",
    "\n",
    "L_pool = 7732247\n",
    "swapVolume = 13362558\n",
    "\n",
    "pool_fee_rate = float(FEETIER) / 10000\n",
    "\n",
    "fees = (L_you/L_pool) * swapVolume * pool_fee_rate / 100"
   ]
  },
  {
   "cell_type": "code",
   "execution_count": 57,
   "id": "cbb2acec",
   "metadata": {},
   "outputs": [
    {
     "data": {
      "text/plain": [
       "78.54793966842925"
      ]
     },
     "execution_count": 57,
     "metadata": {},
     "output_type": "execute_result"
    }
   ],
   "source": [
    "fees"
   ]
  },
  {
   "cell_type": "code",
   "execution_count": null,
   "id": "9a27b860",
   "metadata": {},
   "outputs": [],
   "source": []
  },
  {
   "cell_type": "code",
   "execution_count": null,
   "id": "9bc3b656",
   "metadata": {},
   "outputs": [],
   "source": []
  },
  {
   "cell_type": "code",
   "execution_count": null,
   "id": "d437b753",
   "metadata": {},
   "outputs": [],
   "source": []
  },
  {
   "cell_type": "code",
   "execution_count": null,
   "id": "85d74b53",
   "metadata": {},
   "outputs": [],
   "source": []
  },
  {
   "cell_type": "code",
   "execution_count": null,
   "id": "f5d25c91",
   "metadata": {},
   "outputs": [],
   "source": []
  },
  {
   "cell_type": "code",
   "execution_count": null,
   "id": "f6912848",
   "metadata": {},
   "outputs": [],
   "source": []
  },
  {
   "cell_type": "code",
   "execution_count": null,
   "id": "c0673601",
   "metadata": {},
   "outputs": [],
   "source": []
  },
  {
   "cell_type": "code",
   "execution_count": 50,
   "id": "78c84485",
   "metadata": {},
   "outputs": [
    {
     "data": {
      "text/html": [
       "<div>\n",
       "<style scoped>\n",
       "    .dataframe tbody tr th:only-of-type {\n",
       "        vertical-align: middle;\n",
       "    }\n",
       "\n",
       "    .dataframe tbody tr th {\n",
       "        vertical-align: top;\n",
       "    }\n",
       "\n",
       "    .dataframe thead th {\n",
       "        text-align: right;\n",
       "    }\n",
       "</style>\n",
       "<table border=\"1\" class=\"dataframe\">\n",
       "  <thead>\n",
       "    <tr style=\"text-align: right;\">\n",
       "      <th></th>\n",
       "      <th>periodStartUnix</th>\n",
       "      <th>txCount</th>\n",
       "      <th>swaps_txCount</th>\n",
       "      <th>amount0</th>\n",
       "      <th>amount1</th>\n",
       "      <th>amountUSD</th>\n",
       "      <th>tick</th>\n",
       "      <th>liquidity</th>\n",
       "      <th>sqrtPrice</th>\n",
       "      <th>tvlUSD</th>\n",
       "      <th>pool.token0.symbol</th>\n",
       "      <th>pool.token1.symbol</th>\n",
       "      <th>token0Price</th>\n",
       "      <th>token1Price</th>\n",
       "    </tr>\n",
       "  </thead>\n",
       "  <tbody>\n",
       "    <tr>\n",
       "      <th>0</th>\n",
       "      <td>1627466400</td>\n",
       "      <td>6</td>\n",
       "      <td>NaN</td>\n",
       "      <td>NaN</td>\n",
       "      <td>NaN</td>\n",
       "      <td>NaN</td>\n",
       "      <td>-77418</td>\n",
       "      <td>2257757512531221050660252</td>\n",
       "      <td>1651413884466706248548127541</td>\n",
       "      <td>2.834231e+07</td>\n",
       "      <td>DAI</td>\n",
       "      <td>WETH</td>\n",
       "      <td>2301.692508</td>\n",
       "      <td>0.000434</td>\n",
       "    </tr>\n",
       "    <tr>\n",
       "      <th>1</th>\n",
       "      <td>1627462800</td>\n",
       "      <td>13</td>\n",
       "      <td>11.0</td>\n",
       "      <td>299616.218709</td>\n",
       "      <td>-1.304435e+02</td>\n",
       "      <td>299557.018495</td>\n",
       "      <td>-77395</td>\n",
       "      <td>2258385571433368075249753</td>\n",
       "      <td>1653332807396390538189673451</td>\n",
       "      <td>2.828409e+07</td>\n",
       "      <td>DAI</td>\n",
       "      <td>WETH</td>\n",
       "      <td>2296.352740</td>\n",
       "      <td>0.000435</td>\n",
       "    </tr>\n",
       "    <tr>\n",
       "      <th>2</th>\n",
       "      <td>1627459200</td>\n",
       "      <td>23</td>\n",
       "      <td>16.0</td>\n",
       "      <td>-105151.549893</td>\n",
       "      <td>4.687934e+01</td>\n",
       "      <td>671187.484515</td>\n",
       "      <td>-77340</td>\n",
       "      <td>2257382392731291728666040</td>\n",
       "      <td>1657909038401687840269395027</td>\n",
       "      <td>2.808664e+07</td>\n",
       "      <td>DAI</td>\n",
       "      <td>WETH</td>\n",
       "      <td>2283.693255</td>\n",
       "      <td>0.000438</td>\n",
       "    </tr>\n",
       "    <tr>\n",
       "      <th>3</th>\n",
       "      <td>1627455600</td>\n",
       "      <td>31</td>\n",
       "      <td>27.0</td>\n",
       "      <td>753317.520533</td>\n",
       "      <td>-3.305345e+02</td>\n",
       "      <td>753167.996064</td>\n",
       "      <td>-77360</td>\n",
       "      <td>2256221622137200723238932</td>\n",
       "      <td>1656280685119642923297705596</td>\n",
       "      <td>2.809426e+07</td>\n",
       "      <td>DAI</td>\n",
       "      <td>WETH</td>\n",
       "      <td>2288.185835</td>\n",
       "      <td>0.000437</td>\n",
       "    </tr>\n",
       "    <tr>\n",
       "      <th>4</th>\n",
       "      <td>1627452000</td>\n",
       "      <td>17</td>\n",
       "      <td>17.0</td>\n",
       "      <td>-879730.423181</td>\n",
       "      <td>3.878647e+02</td>\n",
       "      <td>881181.264433</td>\n",
       "      <td>-77220</td>\n",
       "      <td>2261588786047650735673230</td>\n",
       "      <td>1667896272296713929624373234</td>\n",
       "      <td>2.782114e+07</td>\n",
       "      <td>DAI</td>\n",
       "      <td>WETH</td>\n",
       "      <td>2256.425980</td>\n",
       "      <td>0.000443</td>\n",
       "    </tr>\n",
       "    <tr>\n",
       "      <th>...</th>\n",
       "      <td>...</td>\n",
       "      <td>...</td>\n",
       "      <td>...</td>\n",
       "      <td>...</td>\n",
       "      <td>...</td>\n",
       "      <td>...</td>\n",
       "      <td>...</td>\n",
       "      <td>...</td>\n",
       "      <td>...</td>\n",
       "      <td>...</td>\n",
       "      <td>...</td>\n",
       "      <td>...</td>\n",
       "      <td>...</td>\n",
       "      <td>...</td>\n",
       "    </tr>\n",
       "    <tr>\n",
       "      <th>2013</th>\n",
       "      <td>1620172800</td>\n",
       "      <td>2</td>\n",
       "      <td>1.0</td>\n",
       "      <td>-331.043259</td>\n",
       "      <td>1.000000e-01</td>\n",
       "      <td>0.000000</td>\n",
       "      <td>-80932</td>\n",
       "      <td>379427976363351507096</td>\n",
       "      <td>1385391852998664492209230571</td>\n",
       "      <td>0.000000e+00</td>\n",
       "      <td>DAI</td>\n",
       "      <td>WETH</td>\n",
       "      <td>3270.498157</td>\n",
       "      <td>0.000306</td>\n",
       "    </tr>\n",
       "    <tr>\n",
       "      <th>2014</th>\n",
       "      <td>1620169200</td>\n",
       "      <td>1</td>\n",
       "      <td>NaN</td>\n",
       "      <td>NaN</td>\n",
       "      <td>NaN</td>\n",
       "      <td>NaN</td>\n",
       "      <td>-81234</td>\n",
       "      <td>379427976363351507096</td>\n",
       "      <td>1364573546772589608591144427</td>\n",
       "      <td>0.000000e+00</td>\n",
       "      <td>DAI</td>\n",
       "      <td>WETH</td>\n",
       "      <td>3371.050602</td>\n",
       "      <td>0.000297</td>\n",
       "    </tr>\n",
       "    <tr>\n",
       "      <th>2015</th>\n",
       "      <td>1620165600</td>\n",
       "      <td>1</td>\n",
       "      <td>NaN</td>\n",
       "      <td>NaN</td>\n",
       "      <td>NaN</td>\n",
       "      <td>NaN</td>\n",
       "      <td>-81234</td>\n",
       "      <td>232295550235364197007</td>\n",
       "      <td>1364573546772589608591144427</td>\n",
       "      <td>0.000000e+00</td>\n",
       "      <td>DAI</td>\n",
       "      <td>WETH</td>\n",
       "      <td>3371.050602</td>\n",
       "      <td>0.000297</td>\n",
       "    </tr>\n",
       "    <tr>\n",
       "      <th>2016</th>\n",
       "      <td>1620162000</td>\n",
       "      <td>2</td>\n",
       "      <td>1.0</td>\n",
       "      <td>-0.000336</td>\n",
       "      <td>1.000000e-07</td>\n",
       "      <td>0.000000</td>\n",
       "      <td>-81234</td>\n",
       "      <td>229713263233648638236</td>\n",
       "      <td>1364573546772589608591144427</td>\n",
       "      <td>0.000000e+00</td>\n",
       "      <td>DAI</td>\n",
       "      <td>WETH</td>\n",
       "      <td>3371.050602</td>\n",
       "      <td>0.000297</td>\n",
       "    </tr>\n",
       "    <tr>\n",
       "      <th>2017</th>\n",
       "      <td>1620158400</td>\n",
       "      <td>6</td>\n",
       "      <td>1.0</td>\n",
       "      <td>-33.854156</td>\n",
       "      <td>1.000000e-02</td>\n",
       "      <td>0.000000</td>\n",
       "      <td>-81234</td>\n",
       "      <td>222633640125805970242</td>\n",
       "      <td>1364573512386034424627810688</td>\n",
       "      <td>0.000000e+00</td>\n",
       "      <td>DAI</td>\n",
       "      <td>WETH</td>\n",
       "      <td>3371.050772</td>\n",
       "      <td>0.000297</td>\n",
       "    </tr>\n",
       "  </tbody>\n",
       "</table>\n",
       "<p>2018 rows × 14 columns</p>\n",
       "</div>"
      ],
      "text/plain": [
       "      periodStartUnix  txCount  swaps_txCount        amount0       amount1  \\\n",
       "0          1627466400        6            NaN            NaN           NaN   \n",
       "1          1627462800       13           11.0  299616.218709 -1.304435e+02   \n",
       "2          1627459200       23           16.0 -105151.549893  4.687934e+01   \n",
       "3          1627455600       31           27.0  753317.520533 -3.305345e+02   \n",
       "4          1627452000       17           17.0 -879730.423181  3.878647e+02   \n",
       "...               ...      ...            ...            ...           ...   \n",
       "2013       1620172800        2            1.0    -331.043259  1.000000e-01   \n",
       "2014       1620169200        1            NaN            NaN           NaN   \n",
       "2015       1620165600        1            NaN            NaN           NaN   \n",
       "2016       1620162000        2            1.0      -0.000336  1.000000e-07   \n",
       "2017       1620158400        6            1.0     -33.854156  1.000000e-02   \n",
       "\n",
       "          amountUSD   tick                  liquidity  \\\n",
       "0               NaN -77418  2257757512531221050660252   \n",
       "1     299557.018495 -77395  2258385571433368075249753   \n",
       "2     671187.484515 -77340  2257382392731291728666040   \n",
       "3     753167.996064 -77360  2256221622137200723238932   \n",
       "4     881181.264433 -77220  2261588786047650735673230   \n",
       "...             ...    ...                        ...   \n",
       "2013       0.000000 -80932      379427976363351507096   \n",
       "2014            NaN -81234      379427976363351507096   \n",
       "2015            NaN -81234      232295550235364197007   \n",
       "2016       0.000000 -81234      229713263233648638236   \n",
       "2017       0.000000 -81234      222633640125805970242   \n",
       "\n",
       "                         sqrtPrice        tvlUSD pool.token0.symbol  \\\n",
       "0     1651413884466706248548127541  2.834231e+07                DAI   \n",
       "1     1653332807396390538189673451  2.828409e+07                DAI   \n",
       "2     1657909038401687840269395027  2.808664e+07                DAI   \n",
       "3     1656280685119642923297705596  2.809426e+07                DAI   \n",
       "4     1667896272296713929624373234  2.782114e+07                DAI   \n",
       "...                            ...           ...                ...   \n",
       "2013  1385391852998664492209230571  0.000000e+00                DAI   \n",
       "2014  1364573546772589608591144427  0.000000e+00                DAI   \n",
       "2015  1364573546772589608591144427  0.000000e+00                DAI   \n",
       "2016  1364573546772589608591144427  0.000000e+00                DAI   \n",
       "2017  1364573512386034424627810688  0.000000e+00                DAI   \n",
       "\n",
       "     pool.token1.symbol  token0Price  token1Price  \n",
       "0                  WETH  2301.692508     0.000434  \n",
       "1                  WETH  2296.352740     0.000435  \n",
       "2                  WETH  2283.693255     0.000438  \n",
       "3                  WETH  2288.185835     0.000437  \n",
       "4                  WETH  2256.425980     0.000443  \n",
       "...                 ...          ...          ...  \n",
       "2013               WETH  3270.498157     0.000306  \n",
       "2014               WETH  3371.050602     0.000297  \n",
       "2015               WETH  3371.050602     0.000297  \n",
       "2016               WETH  3371.050602     0.000297  \n",
       "2017               WETH  3371.050772     0.000297  \n",
       "\n",
       "[2018 rows x 14 columns]"
      ]
     },
     "execution_count": 50,
     "metadata": {},
     "output_type": "execute_result"
    }
   ],
   "source": [
    "df_merged = pd.read_csv('../data/df_merged_DAI-WETH-3000-timestamp-1627466400-1620158400.csv')\n",
    "watch_list = ['periodStartUnix',  \n",
    "              'txCount', 'swaps_txCount', # check data integrity\n",
    "              'amount0', 'amount1', 'amountUSD', # swaps data, note: amountUSD is sqrt(P)\n",
    "              'tick', 'liquidity', 'sqrtPrice', 'tvlUSD', # pool data at that hour (liquidity is for the whole pool)\n",
    "              'pool.token0.symbol', 'pool.token1.symbol', # token data\n",
    "              'token0Price', 'token1Price'\n",
    "             ]\n",
    "# https://github.com/Uniswap/uniswap-v3-subgraph/blob/main/schema.graphql\n",
    "df_merged[watch_list]"
   ]
  },
  {
   "cell_type": "code",
   "execution_count": 18,
   "id": "e4badffb",
   "metadata": {},
   "outputs": [
    {
     "data": {
      "text/plain": [
       "-77395"
      ]
     },
     "execution_count": 18,
     "metadata": {},
     "output_type": "execute_result"
    }
   ],
   "source": [
    "math.floor(math.log(1653332807396390538189673451/(2**96), math.sqrt(1.0001)))"
   ]
  },
  {
   "cell_type": "code",
   "execution_count": 60,
   "id": "75c70654",
   "metadata": {},
   "outputs": [
    {
     "data": {
      "text/plain": [
       "2257757512531221050660252"
      ]
     },
     "execution_count": 60,
     "metadata": {},
     "output_type": "execute_result"
    }
   ],
   "source": [
    "2257757512531221050660252\n",
    "1430725709192736851216600\n",
    "44406878979210543\n",
    "2272735397855406364299775"
   ]
  },
  {
   "cell_type": "code",
   "execution_count": 58,
   "id": "a959d503",
   "metadata": {},
   "outputs": [
    {
     "data": {
      "text/plain": [
       "2.8496906161678703e-05"
      ]
     },
     "execution_count": 58,
     "metadata": {},
     "output_type": "execute_result"
    }
   ],
   "source": [
    "2257757512531221050660252/2**96"
   ]
  },
  {
   "cell_type": "code",
   "execution_count": null,
   "id": "e43c2263",
   "metadata": {},
   "outputs": [],
   "source": [
    "sitions\": [\n",
    "      {\n",
    "        \"liquidity\": \"44406878979210543\",\n",
    "        \"tickLower\": {\n",
    "          \"tickIdx\": \"193380\"\n",
    "        },"
   ]
  }
 ],
 "metadata": {
  "kernelspec": {
   "display_name": "Python 3",
   "language": "python",
   "name": "python3"
  },
  "language_info": {
   "codemirror_mode": {
    "name": "ipython",
    "version": 3
   },
   "file_extension": ".py",
   "mimetype": "text/x-python",
   "name": "python",
   "nbconvert_exporter": "python",
   "pygments_lexer": "ipython3",
   "version": "3.8.10"
  }
 },
 "nbformat": 4,
 "nbformat_minor": 5
}
