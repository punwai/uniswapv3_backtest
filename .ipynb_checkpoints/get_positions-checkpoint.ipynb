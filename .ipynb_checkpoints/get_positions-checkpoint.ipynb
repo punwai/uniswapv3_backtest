{
 "cells": [
  {
   "cell_type": "markdown",
   "id": "e507957e",
   "metadata": {},
   "source": [
    "### This notebook is to generate df of Positions, that is resulted in our strategy"
   ]
  },
  {
   "cell_type": "code",
   "execution_count": 1,
   "id": "291d3de5",
   "metadata": {},
   "outputs": [],
   "source": [
    "import pandas as pd\n",
    "from math import sqrt\n",
    "import math\n",
    "\n",
    "import requests\n",
    "import json\n",
    "import numpy as np\n",
    "\n",
    "import UNI_v3_funcs as liq_amounts\n",
    "import load_data"
   ]
  },
  {
   "cell_type": "markdown",
   "id": "005cb4f8",
   "metadata": {},
   "source": [
    "### Query Functions"
   ]
  },
  {
   "cell_type": "code",
   "execution_count": 2,
   "id": "cd8dab84",
   "metadata": {},
   "outputs": [],
   "source": [
    "def get_cprice_at_mint(token0, token1, feeTier, mint_time):\n",
    "    \n",
    "    # get token_ids\n",
    "    token0_id = load_data.get_token_id(token0)\n",
    "    token1_id = load_data.get_token_id(token1)\n",
    "    pool_id = load_data.get_pool_id(token0_id, token1_id, feeTier)\n",
    "        \n",
    "    # query price at that specific time\n",
    "    query_ = \"\"\"\n",
    "    {{\n",
    "      poolHourDatas(first:1,\n",
    "      where:{{ pool: \"{}\",\n",
    "      periodStartUnix: {} }}\n",
    "      ){{\n",
    "        tick\n",
    "      }}\n",
    "    }}\"\"\".format(pool_id, mint_time)\n",
    "    query_result_ = load_data.run_query(query_)\n",
    "    json_data_ = json.loads(query_result_.text)\n",
    "    \n",
    "    ctick = int(json_data_['data']['poolHourDatas'][0]['tick'])\n",
    "    cprice = 1.0001**ctick\n",
    "    \n",
    "    return cprice\n",
    "\n",
    "def get_decimals(token_symbol):\n",
    "    query_ = \"\"\"\n",
    "    {{\n",
    "      tokens(first:10,\n",
    "      where:{{ symbol: \"{}\"}}\n",
    "      ){{\n",
    "        decimals\n",
    "      }}\n",
    "    }}\"\"\".format(token_symbol)\n",
    "    \n",
    "    query_result_ = load_data.run_query(query_)\n",
    "    json_data_ = json.loads(query_result_.text)\n",
    "    decimal_ = float(json_data_['data']['tokens'][0]['decimals'])\n",
    "    \n",
    "    return decimal_"
   ]
  },
  {
   "cell_type": "markdown",
   "id": "af5ef9aa",
   "metadata": {},
   "source": [
    "### Calculations Functions"
   ]
  },
  {
   "cell_type": "code",
   "execution_count": 3,
   "id": "409e305f",
   "metadata": {},
   "outputs": [],
   "source": [
    "def price_to_tick(price_):\n",
    "    # convert price (token1 by token0) to tick\n",
    "    tick_ = math.floor(math.log(sqrt(price_), math.sqrt(1.0001)))\n",
    "    return tick_\n",
    "\n",
    "def tick_to_price(tick_):\n",
    "    price_ = 1.0001**tick_\n",
    "    return price_"
   ]
  },
  {
   "cell_type": "code",
   "execution_count": 19,
   "id": "491a4ed3",
   "metadata": {},
   "outputs": [],
   "source": [
    "# L_you calculation / inRange\n",
    "# 4B. JNP: Use 'get_liquidity' function to calculate liquidity as a function of amounts and price range\n",
    "def get_liquidity0(sqrtA,sqrtB,amount0,decimals):\n",
    "    \n",
    "    if (sqrtA > sqrtB):\n",
    "          (sqrtA,sqrtB)=(sqrtB,sqrtA)\n",
    "    \n",
    "    liquidity=amount0/((2**96*(sqrtB-sqrtA)/sqrtB/sqrtA)/10**decimals)\n",
    "    return liquidity\n",
    "\n",
    "def get_liquidity1(sqrtA,sqrtB,amount1,decimals):\n",
    "    \n",
    "    if (sqrtA > sqrtB):\n",
    "        (sqrtA,sqrtB)=(sqrtB,sqrtA)\n",
    "    \n",
    "    liquidity=amount1/((sqrtB-sqrtA)/2**96/10**decimals)\n",
    "    return liquidity\n",
    "\n",
    "def get_liquidity(tick,tickA,tickB,amount0,amount1,decimal0,decimal1):\n",
    "    \n",
    "        sqrt=(1.0001**(tick/2)*(2**96))\n",
    "        sqrtA=(1.0001**(tickA/2)*(2**96))\n",
    "        sqrtB=(1.0001**(tickB/2)*(2**96))\n",
    "        if (sqrtA > sqrtB):\n",
    "            (sqrtA,sqrtB)=(sqrtB,sqrtA)\n",
    "    \n",
    "        if sqrt<=sqrtA:\n",
    "            \n",
    "            liquidity0=get_liquidity0(sqrtA,sqrtB,amount0,decimal0)\n",
    "            inRange = False\n",
    "            return liquidity0, inRange\n",
    "        elif sqrt<sqrtB and sqrt>sqrtA:\n",
    "\n",
    "            liquidity0=get_liquidity0(sqrt,sqrtB,amount0,decimal0)\n",
    "            liquidity1=get_liquidity1(sqrtA,sqrt,amount1,decimal1)\n",
    "            \n",
    "            liquidity=liquidity0 if liquidity0<liquidity1 else liquidity1\n",
    "            inRange = True\n",
    "            return liquidity, inRange\n",
    "        \n",
    "        else:\n",
    "            liquidity1=get_liquidity1(sqrtA,sqrtB,amount1,decimal1)\n",
    "            inRange = False\n",
    "            return liquidity1, inRange"
   ]
  },
  {
   "cell_type": "code",
   "execution_count": 27,
   "id": "4cfce0ca",
   "metadata": {},
   "outputs": [],
   "source": [
    "# Calculate Fees \n",
    "def get_fees(lower_tick_, upper_tick_, ctick_,  L_Pool_, swap_Volume_, amt0_, amt1_, decimal0_, decimal1_, feeTier):\n",
    "    # (lower_tick_, upper_tick_) from df_positions\n",
    "    # (ctick, L_Pool, swap_volume) from merge\n",
    "    # (amt0, amt1) - this changes based on swaps, but doesnt matter, bacause liquidity always constant\n",
    "    # (decimal0, decimal1, feetier) - fixed\n",
    "    \n",
    "#     tick_ = price_to_tick(cprice_)\n",
    "#     tickA_ = price_to_tick(lower_)\n",
    "#     tickB_ = price_to_tick(upper_)\n",
    "    L_you_, inRange_ = get_liquidity(ctick_, lower_tick_,upper_tick_, amt0_, amt1_, decimal0_, decimal1_)\n",
    "\n",
    "    if inRange_:\n",
    "        pool_share_ = (L_you_/L_Pool_)\n",
    "        pool_fee_rate_ = float(feeTier) / 10000\n",
    "        fees = pool_share_ * swap_Volume_ * pool_fee_rate_ / 100\n",
    "    else:\n",
    "        fees = 0\n",
    "        \n",
    "    return fees"
   ]
  },
  {
   "cell_type": "code",
   "execution_count": 6,
   "id": "1a52a0e1",
   "metadata": {},
   "outputs": [],
   "source": [
    "# Step 4: use JNP's code\n",
    "def get_impermanent_loss():\n",
    "    return IL"
   ]
  },
  {
   "cell_type": "code",
   "execution_count": 7,
   "id": "80d5e5bd",
   "metadata": {},
   "outputs": [],
   "source": [
    "# Step 4\n",
    "def get_PNL():\n",
    "    return pnl"
   ]
  },
  {
   "cell_type": "code",
   "execution_count": 8,
   "id": "0e1a8d4b",
   "metadata": {},
   "outputs": [],
   "source": [
    "# Step 5\n",
    "def get_cost():\n",
    "    return cost"
   ]
  },
  {
   "cell_type": "markdown",
   "id": "4bad8978",
   "metadata": {},
   "source": [
    "### Positions Genrations"
   ]
  },
  {
   "cell_type": "code",
   "execution_count": 9,
   "id": "073ff436",
   "metadata": {},
   "outputs": [],
   "source": [
    "def get_positions_fixed_strategy(mint_time, burn_time, upper_, lower_):\n",
    "    \n",
    "    df_positions = pd.DataFrame()\n",
    "    df_positions['periodStartUnix'] = list(range(mint_time, burn_time+1, 3600))\n",
    "    df_positions['upper'] = upper_\n",
    "    df_positions['lower'] = lower_\n",
    "    df_positions['upper_tick'] = price_to_tick(upper_)\n",
    "    df_positions['lower_tick'] = price_to_tick(lower_)\n",
    "    \n",
    "    return df_positions"
   ]
  },
  {
   "cell_type": "markdown",
   "id": "c889f87c",
   "metadata": {},
   "source": [
    "### PNL Wrapper code"
   ]
  },
  {
   "cell_type": "code",
   "execution_count": 10,
   "id": "0ef34618",
   "metadata": {},
   "outputs": [],
   "source": [
    "def calculate_pnl_from_positions(df_merged, df_positions):\n",
    "\n",
    "    merge_feat = ['periodStartUnix', 'tick','liquidity','amountUSD']\n",
    "    df_positions_fees = df_positions.merge(df_merged[merge_feat], how='left', on='periodStartUnix')\n",
    "    df_positions_fees['liquidity'] = df_positions_fees['liquidity'].astype(float)\n",
    "\n",
    "    df_positions_fees = df_positions_fees.reset_index() # cleaning it just in case\n",
    "    for index, row in df_positions_fees.iterrows():\n",
    "        row = row.copy()\n",
    "        fees = get_fees(row['lower_tick'],row['upper_tick'],row['tick'],float(row['liquidity']),row['amountUSD'],\n",
    "                                                MINT_AMT0, MINT_AMT1, DECIMAL0, DECIMAL1, FEETIER)\n",
    "        df_positions_fees.loc[index, 'fees'] = fees\n",
    "        \n",
    "    return df_positions_fees"
   ]
  },
  {
   "cell_type": "markdown",
   "id": "87423784",
   "metadata": {},
   "source": [
    "### Main"
   ]
  },
  {
   "cell_type": "code",
   "execution_count": 11,
   "id": "c8c03602",
   "metadata": {},
   "outputs": [],
   "source": [
    "### input: money USD, upper and lower\n",
    "# maths:\n",
    "# p(i) = 1.0001**i , where i = tick\n",
    "# i = math.floor(math.log(sqrt(P)/(2**96), math.sqrt(1.0001)))\n",
    "\n",
    "# of positions:\n",
    "# liquidity L = sqrt(token0_amt*token1__amt) ?? > may need the complicated 3 cases maths\n",
    "# - Fee income = (L_you/L_pool) * swap volume under fixed time period (USD) * pool_fee_rate/100"
   ]
  },
  {
   "cell_type": "code",
   "execution_count": 12,
   "id": "11ddd38e",
   "metadata": {},
   "outputs": [],
   "source": [
    "# STEP 0:  PROVIDE BY USERS\n",
    "UPPER = 1/2017.9452 # token1 per token0 (in terms of price)\n",
    "LOWER = 1/2365.8978 # 1/2376.6075 \n",
    "FEETIER = '500' # 0.3 = 3000/10000\n",
    "TOKEN0 = 'DAI'\n",
    "TOKEN1 = 'WETH'\n",
    "MINT_TIME = 1627171200 # needs to start with the hour (unixTime % 3600 = 0) \n",
    "BURN_TIME = 1627344000\n",
    "# 25 June 0000 - 27 July 0000 (GMT+0)"
   ]
  },
  {
   "cell_type": "code",
   "execution_count": 13,
   "id": "660acbaf",
   "metadata": {},
   "outputs": [
    {
     "name": "stdout",
     "output_type": "stream",
     "text": [
      " \n",
      "get_token_id: DAI\n",
      "{'data': {'tokens': [{'id': '0x6b175474e89094c44da98b954eedeac495271d0f', 'name': 'Dai Stablecoin', 'symbol': 'DAI'}]}}\n",
      " \n",
      "get_token_id: WETH\n",
      "{'data': {'tokens': [{'id': '0xc02aaa39b223fe8d0a0e5c4f27ead9083c756cc2', 'name': 'Wrapped Ether', 'symbol': 'WETH'}]}}\n",
      "\n",
      " get_pool_id for feeTier: 500\n",
      "{'data': {'pools': [{'feeTier': '500', 'id': '0x60594a405d53811d3bc4766596efd80fd545a270', 'token0': {'symbol': 'DAI'}, 'token1': {'symbol': 'WETH'}}]}}\n",
      "0.0004650729232047768 2150.2004311691326\n",
      "18.0 18.0\n"
     ]
    }
   ],
   "source": [
    "# Get required constants\n",
    "CPRICE = get_cprice_at_mint(TOKEN0, TOKEN1, FEETIER, MINT_TIME)\n",
    "DECIMAL0 = get_decimals(TOKEN0)\n",
    "DECIMAL1 = get_decimals(TOKEN1)\n",
    "print(CPRICE, 1/CPRICE)\n",
    "print(DECIMAL0, DECIMAL1)"
   ]
  },
  {
   "cell_type": "code",
   "execution_count": 14,
   "id": "c716f931",
   "metadata": {},
   "outputs": [],
   "source": [
    "# STEP 1 (TODO): CALCULATED BY ALGORITHM, JNP's amounts_relation ?\n",
    "# THIS CHANGES over time when swaps happens, and we need this to calculate IL\n",
    "MINT_AMT0 = 4174.48 \n",
    "MINT_AMT1 = 2.53"
   ]
  },
  {
   "cell_type": "code",
   "execution_count": 15,
   "id": "82377f67",
   "metadata": {},
   "outputs": [],
   "source": [
    "# STEP 3 (TODO): Generate df_positions\n",
    "df_positions = get_positions_fixed_strategy(MINT_TIME, BURN_TIME, UPPER, LOWER)"
   ]
  },
  {
   "cell_type": "code",
   "execution_count": 16,
   "id": "304d6e0e",
   "metadata": {},
   "outputs": [],
   "source": [
    "# STEP 4 (TODO): Calculate Fees, IL and PNL at each hour, and append to df_positions\n",
    "df_merged = pd.read_csv('../data/df_merged_DAI-WETH-3000-timestamp-1627466400-1620158400.csv')\n",
    "df_positions_fees = calculate_pnl_from_positions(df_merged, df_positions)\n",
    "df_positions_fees['fees'].sum()\n",
    "\n"
   ]
  },
  {
   "cell_type": "code",
   "execution_count": 22,
   "id": "b37974f6",
   "metadata": {},
   "outputs": [],
   "source": [
    "# STEP 5 (TODO): also accoutning for minting/burning/swaping costs into PNL"
   ]
  },
  {
   "cell_type": "code",
   "execution_count": null,
   "id": "da1e5bf8",
   "metadata": {},
   "outputs": [],
   "source": []
  },
  {
   "cell_type": "code",
   "execution_count": null,
   "id": "957ea09e",
   "metadata": {},
   "outputs": [],
   "source": []
  },
  {
   "cell_type": "code",
   "execution_count": null,
   "id": "b88bdfea",
   "metadata": {},
   "outputs": [],
   "source": []
  },
  {
   "cell_type": "code",
   "execution_count": null,
   "id": "692b42dd",
   "metadata": {},
   "outputs": [],
   "source": []
  },
  {
   "cell_type": "code",
   "execution_count": null,
   "id": "82b41c05",
   "metadata": {},
   "outputs": [],
   "source": []
  },
  {
   "cell_type": "code",
   "execution_count": null,
   "id": "b74f6b09",
   "metadata": {},
   "outputs": [],
   "source": []
  },
  {
   "cell_type": "code",
   "execution_count": null,
   "id": "1bb19152",
   "metadata": {},
   "outputs": [],
   "source": []
  },
  {
   "cell_type": "code",
   "execution_count": null,
   "id": "234f7999",
   "metadata": {},
   "outputs": [],
   "source": []
  },
  {
   "cell_type": "code",
   "execution_count": null,
   "id": "023bb7e8",
   "metadata": {},
   "outputs": [],
   "source": []
  },
  {
   "cell_type": "code",
   "execution_count": null,
   "id": "564a4da6",
   "metadata": {},
   "outputs": [],
   "source": []
  },
  {
   "cell_type": "code",
   "execution_count": null,
   "id": "d545210a",
   "metadata": {},
   "outputs": [],
   "source": []
  },
  {
   "cell_type": "code",
   "execution_count": null,
   "id": "8eae986f",
   "metadata": {},
   "outputs": [],
   "source": []
  },
  {
   "cell_type": "code",
   "execution_count": null,
   "id": "a3f7985a",
   "metadata": {},
   "outputs": [],
   "source": []
  },
  {
   "cell_type": "code",
   "execution_count": null,
   "id": "6b8d03f6",
   "metadata": {},
   "outputs": [],
   "source": []
  },
  {
   "cell_type": "code",
   "execution_count": null,
   "id": "c1dcfdbf",
   "metadata": {},
   "outputs": [],
   "source": []
  },
  {
   "cell_type": "code",
   "execution_count": null,
   "id": "ad4a2f26",
   "metadata": {},
   "outputs": [],
   "source": []
  },
  {
   "cell_type": "code",
   "execution_count": null,
   "id": "54ad397e",
   "metadata": {},
   "outputs": [],
   "source": []
  },
  {
   "cell_type": "code",
   "execution_count": null,
   "id": "78c84485",
   "metadata": {},
   "outputs": [],
   "source": [
    "df_merged = pd.read_csv('../data/df_merged_DAI-WETH-3000-timestamp-1627466400-1620158400.csv')\n",
    "watch_list = ['periodStartUnix',  \n",
    "              'txCount', 'swaps_txCount', # check data integrity\n",
    "              'amount0', 'amount1', 'amountUSD', # swaps data, note: amountUSD is sqrt(P)\n",
    "              'tick', 'liquidity', 'sqrtPrice', 'tvlUSD', # pool data at that hour (liquidity is for the whole pool)\n",
    "              'pool.token0.symbol', 'pool.token1.symbol', # token data\n",
    "              'token0Price', 'token1Price'\n",
    "             ]\n",
    "# https://github.com/Uniswap/uniswap-v3-subgraph/blob/main/schema.graphql\n",
    "df_merged[watch_list].sample(15)"
   ]
  },
  {
   "cell_type": "code",
   "execution_count": null,
   "id": "b40aff4b",
   "metadata": {},
   "outputs": [],
   "source": []
  },
  {
   "cell_type": "code",
   "execution_count": null,
   "id": "241fc222",
   "metadata": {},
   "outputs": [],
   "source": []
  },
  {
   "cell_type": "code",
   "execution_count": null,
   "id": "1bc3a9eb",
   "metadata": {},
   "outputs": [],
   "source": []
  },
  {
   "cell_type": "code",
   "execution_count": null,
   "id": "24a5e686",
   "metadata": {},
   "outputs": [],
   "source": []
  }
 ],
 "metadata": {
  "kernelspec": {
   "display_name": "Python 3",
   "language": "python",
   "name": "python3"
  },
  "language_info": {
   "codemirror_mode": {
    "name": "ipython",
    "version": 3
   },
   "file_extension": ".py",
   "mimetype": "text/x-python",
   "name": "python",
   "nbconvert_exporter": "python",
   "pygments_lexer": "ipython3",
   "version": "3.8.10"
  }
 },
 "nbformat": 4,
 "nbformat_minor": 5
}
