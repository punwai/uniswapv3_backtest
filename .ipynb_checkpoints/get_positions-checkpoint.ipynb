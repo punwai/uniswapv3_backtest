{
 "cells": [
  {
   "cell_type": "markdown",
   "id": "e507957e",
   "metadata": {},
   "source": [
    "### This notebook is to generate df of Positions, that is resulted in our strategy"
   ]
  },
  {
   "cell_type": "code",
   "execution_count": 1,
   "id": "0117cd29",
   "metadata": {},
   "outputs": [],
   "source": [
    "import pandas as pd\n",
    "from math import sqrt\n",
    "import math\n",
    "\n",
    "import requests\n",
    "import json\n",
    "import numpy as np\n",
    "\n",
    "import UNI_v3_funcs as liq_amounts\n",
    "import load_data"
   ]
  },
  {
   "cell_type": "markdown",
   "id": "865a2800",
   "metadata": {},
   "source": [
    "### Query Functions"
   ]
  },
  {
   "cell_type": "code",
   "execution_count": 68,
   "id": "647b8b8c",
   "metadata": {},
   "outputs": [],
   "source": [
    "def get_cprice_at_mint(token0, token1, feeTier, mint_time, decimal0, decimal1):\n",
    "    \n",
    "    # get token_ids\n",
    "    token0_id = load_data.get_token_id(token0)\n",
    "    token1_id = load_data.get_token_id(token1)\n",
    "    pool_id = load_data.get_pool_id(token0_id, token1_id, feeTier)\n",
    "        \n",
    "    # query price at that specific time\n",
    "    query_ = \"\"\"\n",
    "    {{\n",
    "      poolHourDatas(first:1,\n",
    "      where:{{ pool: \"{}\",\n",
    "      periodStartUnix: {} }}\n",
    "      ){{\n",
    "        tick\n",
    "      }}\n",
    "    }}\"\"\".format(pool_id, mint_time)\n",
    "    print(query_)\n",
    "    \n",
    "    query_result_ = load_data.run_query(query_)\n",
    "    json_data_ = json.loads(query_result_.text)\n",
    "    \n",
    "    ctick = int(json_data_['data']['poolHourDatas'][0]['tick'])\n",
    "    cprice = tick_to_price(ctick,decimal0, decimal1)\n",
    "    \n",
    "    return cprice\n",
    "\n",
    "def get_decimals(token_symbol):\n",
    "    query_ = \"\"\"\n",
    "    {{\n",
    "      tokens(first:10,\n",
    "      where:{{ symbol: \"{}\"}}\n",
    "      ){{\n",
    "        decimals\n",
    "      }}\n",
    "    }}\"\"\".format(token_symbol)\n",
    "    \n",
    "    query_result_ = load_data.run_query(query_)\n",
    "    json_data_ = json.loads(query_result_.text)\n",
    "    decimal_ = float(json_data_['data']['tokens'][0]['decimals'])\n",
    "    \n",
    "    return decimal_"
   ]
  },
  {
   "cell_type": "markdown",
   "id": "79f20b64",
   "metadata": {},
   "source": [
    "### Calculations Functions"
   ]
  },
  {
   "cell_type": "code",
   "execution_count": 55,
   "id": "d524aa30",
   "metadata": {},
   "outputs": [],
   "source": [
    "def price_to_tick(price_, decimal0_, decimal1_):\n",
    "    # convert price (token1 by token0) to tick\n",
    "#     tick_ = math.floor(math.log(sqrt(price_), math.sqrt(1.0001)))\n",
    "    tick_ = math.floor( math.log(price_*10**(decimal1_-decimal0_), 1.0001) )\n",
    "    \n",
    "    return tick_\n",
    "\n",
    "def tick_to_price(tick_,decimal0_, decimal1_):\n",
    "    price_ = (1.0001**tick_/10**(decimal1_-decimal0_))\n",
    "#     price_ = 1.0001**tick_\n",
    "    return price_"
   ]
  },
  {
   "cell_type": "code",
   "execution_count": 19,
   "id": "e3cc93c3",
   "metadata": {},
   "outputs": [],
   "source": [
    "# L_you calculation / inRange\n",
    "# 4B. JNP: Use 'get_liquidity' function to calculate liquidity as a function of amounts and price range\n",
    "def get_liquidity0(sqrtA,sqrtB,amount0,decimals):\n",
    "    \n",
    "    if (sqrtA > sqrtB):\n",
    "          (sqrtA,sqrtB)=(sqrtB,sqrtA)\n",
    "    \n",
    "    liquidity=amount0/((2**96*(sqrtB-sqrtA)/sqrtB/sqrtA)/10**decimals)\n",
    "    return liquidity\n",
    "\n",
    "def get_liquidity1(sqrtA,sqrtB,amount1,decimals):\n",
    "    \n",
    "    if (sqrtA > sqrtB):\n",
    "        (sqrtA,sqrtB)=(sqrtB,sqrtA)\n",
    "    \n",
    "    liquidity=amount1/((sqrtB-sqrtA)/2**96/10**decimals)\n",
    "    return liquidity\n",
    "\n",
    "def get_liquidity(tick,tickA,tickB,amount0,amount1,decimal0,decimal1):\n",
    "    \n",
    "        sqrt=(1.0001**(tick/2)*(2**96))\n",
    "        sqrtA=(1.0001**(tickA/2)*(2**96))\n",
    "        sqrtB=(1.0001**(tickB/2)*(2**96))\n",
    "        if (sqrtA > sqrtB):\n",
    "            (sqrtA,sqrtB)=(sqrtB,sqrtA)\n",
    "    \n",
    "        if sqrt<=sqrtA:\n",
    "            \n",
    "            liquidity0=get_liquidity0(sqrtA,sqrtB,amount0,decimal0)\n",
    "            inRange = False\n",
    "            return liquidity0, inRange\n",
    "        elif sqrt<sqrtB and sqrt>sqrtA:\n",
    "\n",
    "            liquidity0=get_liquidity0(sqrt,sqrtB,amount0,decimal0)\n",
    "            liquidity1=get_liquidity1(sqrtA,sqrt,amount1,decimal1)\n",
    "            \n",
    "            liquidity=liquidity0 if liquidity0<liquidity1 else liquidity1\n",
    "            inRange = True\n",
    "            return liquidity, inRange\n",
    "        \n",
    "        else:\n",
    "            liquidity1=get_liquidity1(sqrtA,sqrtB,amount1,decimal1)\n",
    "            inRange = False\n",
    "            return liquidity1, inRange"
   ]
  },
  {
   "cell_type": "code",
   "execution_count": 27,
   "id": "4bb02fa5",
   "metadata": {},
   "outputs": [],
   "source": [
    "# Calculate Fees \n",
    "def get_fees(lower_tick_, upper_tick_, ctick_,  L_Pool_, swap_Volume_, amt0_, amt1_, decimal0_, decimal1_, feeTier):\n",
    "    # (lower_tick_, upper_tick_) from df_positions\n",
    "    # (ctick, L_Pool, swap_volume) from merge\n",
    "    # (amt0, amt1) - this changes based on swaps, but doesnt matter, bacause liquidity always constant\n",
    "    # (decimal0, decimal1, feetier) - fixed\n",
    "    \n",
    "#     tick_ = price_to_tick(cprice_)\n",
    "#     tickA_ = price_to_tick(lower_)\n",
    "#     tickB_ = price_to_tick(upper_)\n",
    "    L_you_, inRange_ = get_liquidity(ctick_, lower_tick_,upper_tick_, amt0_, amt1_, decimal0_, decimal1_)\n",
    "\n",
    "    if inRange_:\n",
    "        pool_share_ = (L_you_/L_Pool_)\n",
    "        pool_fee_rate_ = float(feeTier) / 10000\n",
    "        fees = pool_share_ * swap_Volume_ * pool_fee_rate_ / 100\n",
    "    else:\n",
    "        fees = 0\n",
    "        \n",
    "    return fees"
   ]
  },
  {
   "cell_type": "code",
   "execution_count": 6,
   "id": "43d8c72f",
   "metadata": {},
   "outputs": [],
   "source": [
    "# Step 4: use JNP's code\n",
    "def get_impermanent_loss():\n",
    "    return IL"
   ]
  },
  {
   "cell_type": "code",
   "execution_count": 7,
   "id": "2927688c",
   "metadata": {},
   "outputs": [],
   "source": [
    "# Step 4\n",
    "def get_PNL():\n",
    "    return pnl"
   ]
  },
  {
   "cell_type": "code",
   "execution_count": 8,
   "id": "c1b38a60",
   "metadata": {},
   "outputs": [],
   "source": [
    "# Step 5\n",
    "def get_cost():\n",
    "    return cost"
   ]
  },
  {
   "cell_type": "markdown",
   "id": "b725f1a4",
   "metadata": {},
   "source": [
    "### Positions Genrations"
   ]
  },
  {
   "cell_type": "code",
   "execution_count": 56,
   "id": "25d5895e",
   "metadata": {},
   "outputs": [],
   "source": [
    "def get_positions_fixed_strategy(mint_time, burn_time, upper_, lower_, decimal0_, decimal1_):\n",
    "    \n",
    "    df_positions = pd.DataFrame()\n",
    "    df_positions['periodStartUnix'] = list(range(mint_time, burn_time+1, 3600))\n",
    "    df_positions['upper'] = upper_\n",
    "    df_positions['lower'] = lower_\n",
    "    df_positions['upper_tick'] = price_to_tick(upper_, decimal0_, decimal1_)\n",
    "    df_positions['lower_tick'] = price_to_tick(lower_, decimal0_, decimal1_)\n",
    "    \n",
    "    return df_positions"
   ]
  },
  {
   "cell_type": "markdown",
   "id": "43dce7c3",
   "metadata": {},
   "source": [
    "### PNL Wrapper code"
   ]
  },
  {
   "cell_type": "code",
   "execution_count": 10,
   "id": "9a222606",
   "metadata": {},
   "outputs": [],
   "source": [
    "def calculate_pnl_from_positions(df_merged, df_positions):\n",
    "\n",
    "    merge_feat = ['periodStartUnix', 'tick','liquidity','amountUSD']\n",
    "    df_positions_fees = df_positions.merge(df_merged[merge_feat], how='left', on='periodStartUnix')\n",
    "    df_positions_fees['liquidity'] = df_positions_fees['liquidity'].astype(float)\n",
    "\n",
    "    df_positions_fees = df_positions_fees.reset_index() # cleaning it just in case\n",
    "    for index, row in df_positions_fees.iterrows():\n",
    "        row = row.copy()\n",
    "        fees = get_fees(row['lower_tick'],row['upper_tick'],row['tick'],float(row['liquidity']),row['amountUSD'],\n",
    "                                                MINT_AMT0, MINT_AMT1, DECIMAL0, DECIMAL1, FEETIER)\n",
    "        df_positions_fees.loc[index, 'fees'] = fees\n",
    "        \n",
    "    return df_positions_fees"
   ]
  },
  {
   "cell_type": "markdown",
   "id": "b861f9e2",
   "metadata": {},
   "source": [
    "### Main"
   ]
  },
  {
   "cell_type": "code",
   "execution_count": 11,
   "id": "c8c03602",
   "metadata": {},
   "outputs": [],
   "source": [
    "### input: money USD, upper and lower\n",
    "# maths:\n",
    "# p(i) = 1.0001**i , where i = tick\n",
    "# i = math.floor(math.log(sqrt(P)/(2**96), math.sqrt(1.0001)))\n",
    "\n",
    "# of positions:\n",
    "# liquidity L = sqrt(token0_amt*token1__amt) ?? > may need the complicated 3 cases maths\n",
    "# - Fee income = (L_you/L_pool) * swap volume under fixed time period (USD) * pool_fee_rate/100"
   ]
  },
  {
   "cell_type": "code",
   "execution_count": 57,
   "id": "24377f5d",
   "metadata": {},
   "outputs": [],
   "source": [
    "# STEP 0:  PROVIDE BY USERS\n",
    "UPPER = 1/1844.6164  # token1 per token0 (in terms of price)\n",
    "LOWER = 1/2858.3641  # 1/2376.6075 \n",
    "FEETIER = '3000' # 0.3 = 3000/10000\n",
    "TOKEN0 = 'USDC'\n",
    "TOKEN1 = 'WETH'\n",
    "MINT_TIME = 1622390400 # needs to start with the hour (unixTime % 3600 = 0) \n",
    "BURN_TIME = 1627578000"
   ]
  },
  {
   "cell_type": "code",
   "execution_count": 72,
   "id": "54046d65",
   "metadata": {},
   "outputs": [
    {
     "name": "stdout",
     "output_type": "stream",
     "text": [
      "6.0 18.0\n"
     ]
    }
   ],
   "source": [
    "# Get required constants\n",
    "DECIMAL0 = get_decimals(TOKEN0)\n",
    "DECIMAL1 = get_decimals(TOKEN1)\n",
    "print(DECIMAL0, DECIMAL1)"
   ]
  },
  {
   "cell_type": "code",
   "execution_count": 71,
   "id": "5a4de8ac",
   "metadata": {},
   "outputs": [
    {
     "name": "stdout",
     "output_type": "stream",
     "text": [
      " \n",
      "get_token_id: USDC\n",
      "{'data': {'tokens': [{'id': '0xa0b86991c6218b36c1d19d4a2e9eb0ce3606eb48', 'name': 'USD Coin', 'symbol': 'USDC'}]}}\n",
      " \n",
      "get_token_id: WETH\n",
      "{'data': {'tokens': [{'id': '0xc02aaa39b223fe8d0a0e5c4f27ead9083c756cc2', 'name': 'Wrapped Ether', 'symbol': 'WETH'}]}}\n",
      "\n",
      " get_pool_id for feeTier: 3000\n",
      "{'data': {'pools': [{'feeTier': '3000', 'id': '0x8ad599c3a0ff1de082011efddc58f1908eb6e6d8', 'token0': {'symbol': 'USDC'}, 'token1': {'symbol': 'WETH'}}]}}\n",
      "\n",
      "    {\n",
      "      poolHourDatas(first:1,\n",
      "      where:{ pool: \"0x8ad599c3a0ff1de082011efddc58f1908eb6e6d8\",\n",
      "      periodStartUnix: 1622390400 }\n",
      "      ){\n",
      "        tick\n",
      "      }\n",
      "    }\n",
      "0.0004165877310455854 2400.4547553287744\n"
     ]
    }
   ],
   "source": [
    "CPRICE = get_cprice_at_mint(TOKEN0, TOKEN1, FEETIER, MINT_TIME, DECIMAL0, DECIMAL1)\n",
    "print(CPRICE, 1/CPRICE)"
   ]
  },
  {
   "cell_type": "code",
   "execution_count": 59,
   "id": "3728eeb5",
   "metadata": {},
   "outputs": [],
   "source": [
    "# STEP 1 (TODO): CALCULATED BY ALGORITHM, JNP's amounts_relation ?\n",
    "# THIS CHANGES over time when swaps happens, and we need this to calculate IL\n",
    "MINT_AMT0 = 252208.7053\n",
    "MINT_AMT1 = 99.0604"
   ]
  },
  {
   "cell_type": "code",
   "execution_count": 41,
   "id": "5898d91f",
   "metadata": {},
   "outputs": [],
   "source": [
    "# 1.0001**198486"
   ]
  },
  {
   "cell_type": "code",
   "execution_count": 62,
   "id": "31f0238c",
   "metadata": {},
   "outputs": [],
   "source": [
    "# STEP 3 (TODO): Generate df_positions\n",
    "df_positions = get_positions_fixed_strategy(MINT_TIME, BURN_TIME, UPPER, LOWER, DECIMAL0, DECIMAL1)"
   ]
  },
  {
   "cell_type": "code",
   "execution_count": 64,
   "id": "c402dea8",
   "metadata": {},
   "outputs": [
    {
     "data": {
      "text/plain": [
       "48579.45029866004"
      ]
     },
     "execution_count": 64,
     "metadata": {},
     "output_type": "execute_result"
    }
   ],
   "source": [
    "# STEP 4 (TODO): Calculate Fees, IL and PNL at each hour, and append to df_positions\n",
    "df_merged = pd.read_csv('../data/df_merged_tmp_USDC-WETH-3000-timestamp-1627574400-1620169200.csv')\n",
    "df_positions_fees = calculate_pnl_from_positions(df_merged, df_positions)\n",
    "df_positions_fees['fees'].sum()\n",
    "\n"
   ]
  },
  {
   "cell_type": "code",
   "execution_count": 22,
   "id": "1e538851",
   "metadata": {},
   "outputs": [],
   "source": [
    "# STEP 5 (TODO): also accoutning for minting/burning/swaping costs into PNL"
   ]
  },
  {
   "cell_type": "code",
   "execution_count": 67,
   "id": "05c27678",
   "metadata": {},
   "outputs": [
    {
     "data": {
      "text/html": [
       "<div>\n",
       "<style scoped>\n",
       "    .dataframe tbody tr th:only-of-type {\n",
       "        vertical-align: middle;\n",
       "    }\n",
       "\n",
       "    .dataframe tbody tr th {\n",
       "        vertical-align: top;\n",
       "    }\n",
       "\n",
       "    .dataframe thead th {\n",
       "        text-align: right;\n",
       "    }\n",
       "</style>\n",
       "<table border=\"1\" class=\"dataframe\">\n",
       "  <thead>\n",
       "    <tr style=\"text-align: right;\">\n",
       "      <th></th>\n",
       "      <th>index</th>\n",
       "      <th>periodStartUnix</th>\n",
       "      <th>upper</th>\n",
       "      <th>lower</th>\n",
       "      <th>upper_tick</th>\n",
       "      <th>lower_tick</th>\n",
       "      <th>tick</th>\n",
       "      <th>liquidity</th>\n",
       "      <th>amountUSD</th>\n",
       "      <th>fees</th>\n",
       "    </tr>\n",
       "  </thead>\n",
       "  <tbody>\n",
       "    <tr>\n",
       "      <th>0</th>\n",
       "      <td>0</td>\n",
       "      <td>1622390400</td>\n",
       "      <td>0.000542</td>\n",
       "      <td>0.00035</td>\n",
       "      <td>201120</td>\n",
       "      <td>196740</td>\n",
       "      <td>198486.0</td>\n",
       "      <td>2.955344e+19</td>\n",
       "      <td>2.303598e+07</td>\n",
       "      <td>97.555589</td>\n",
       "    </tr>\n",
       "    <tr>\n",
       "      <th>1</th>\n",
       "      <td>1</td>\n",
       "      <td>1622394000</td>\n",
       "      <td>0.000542</td>\n",
       "      <td>0.00035</td>\n",
       "      <td>201120</td>\n",
       "      <td>196740</td>\n",
       "      <td>198382.0</td>\n",
       "      <td>3.093428e+19</td>\n",
       "      <td>9.405126e+06</td>\n",
       "      <td>36.509524</td>\n",
       "    </tr>\n",
       "    <tr>\n",
       "      <th>2</th>\n",
       "      <td>2</td>\n",
       "      <td>1622397600</td>\n",
       "      <td>0.000542</td>\n",
       "      <td>0.00035</td>\n",
       "      <td>201120</td>\n",
       "      <td>196740</td>\n",
       "      <td>198254.0</td>\n",
       "      <td>3.040995e+19</td>\n",
       "      <td>1.087038e+07</td>\n",
       "      <td>40.873872</td>\n",
       "    </tr>\n",
       "    <tr>\n",
       "      <th>3</th>\n",
       "      <td>3</td>\n",
       "      <td>1622401200</td>\n",
       "      <td>0.000542</td>\n",
       "      <td>0.00035</td>\n",
       "      <td>201120</td>\n",
       "      <td>196740</td>\n",
       "      <td>198290.0</td>\n",
       "      <td>2.947882e+19</td>\n",
       "      <td>7.864582e+06</td>\n",
       "      <td>30.922322</td>\n",
       "    </tr>\n",
       "    <tr>\n",
       "      <th>4</th>\n",
       "      <td>4</td>\n",
       "      <td>1622404800</td>\n",
       "      <td>0.000542</td>\n",
       "      <td>0.00035</td>\n",
       "      <td>201120</td>\n",
       "      <td>196740</td>\n",
       "      <td>198305.0</td>\n",
       "      <td>4.947310e+19</td>\n",
       "      <td>1.400576e+07</td>\n",
       "      <td>33.000362</td>\n",
       "    </tr>\n",
       "    <tr>\n",
       "      <th>5</th>\n",
       "      <td>5</td>\n",
       "      <td>1622408400</td>\n",
       "      <td>0.000542</td>\n",
       "      <td>0.00035</td>\n",
       "      <td>201120</td>\n",
       "      <td>196740</td>\n",
       "      <td>198355.0</td>\n",
       "      <td>5.023388e+19</td>\n",
       "      <td>1.489900e+07</td>\n",
       "      <td>35.243610</td>\n",
       "    </tr>\n",
       "    <tr>\n",
       "      <th>6</th>\n",
       "      <td>6</td>\n",
       "      <td>1622412000</td>\n",
       "      <td>0.000542</td>\n",
       "      <td>0.00035</td>\n",
       "      <td>201120</td>\n",
       "      <td>196740</td>\n",
       "      <td>198426.0</td>\n",
       "      <td>3.123902e+19</td>\n",
       "      <td>7.951657e+06</td>\n",
       "      <td>31.100406</td>\n",
       "    </tr>\n",
       "    <tr>\n",
       "      <th>7</th>\n",
       "      <td>7</td>\n",
       "      <td>1622415600</td>\n",
       "      <td>0.000542</td>\n",
       "      <td>0.00035</td>\n",
       "      <td>201120</td>\n",
       "      <td>196740</td>\n",
       "      <td>198521.0</td>\n",
       "      <td>3.075176e+19</td>\n",
       "      <td>7.257897e+06</td>\n",
       "      <td>29.963479</td>\n",
       "    </tr>\n",
       "    <tr>\n",
       "      <th>8</th>\n",
       "      <td>8</td>\n",
       "      <td>1622419200</td>\n",
       "      <td>0.000542</td>\n",
       "      <td>0.00035</td>\n",
       "      <td>201120</td>\n",
       "      <td>196740</td>\n",
       "      <td>198650.0</td>\n",
       "      <td>2.638387e+19</td>\n",
       "      <td>2.960617e+07</td>\n",
       "      <td>150.395405</td>\n",
       "    </tr>\n",
       "    <tr>\n",
       "      <th>9</th>\n",
       "      <td>9</td>\n",
       "      <td>1622422800</td>\n",
       "      <td>0.000542</td>\n",
       "      <td>0.00035</td>\n",
       "      <td>201120</td>\n",
       "      <td>196740</td>\n",
       "      <td>198871.0</td>\n",
       "      <td>2.434524e+19</td>\n",
       "      <td>1.916945e+07</td>\n",
       "      <td>111.276283</td>\n",
       "    </tr>\n",
       "  </tbody>\n",
       "</table>\n",
       "</div>"
      ],
      "text/plain": [
       "   index  periodStartUnix     upper    lower  upper_tick  lower_tick  \\\n",
       "0      0       1622390400  0.000542  0.00035      201120      196740   \n",
       "1      1       1622394000  0.000542  0.00035      201120      196740   \n",
       "2      2       1622397600  0.000542  0.00035      201120      196740   \n",
       "3      3       1622401200  0.000542  0.00035      201120      196740   \n",
       "4      4       1622404800  0.000542  0.00035      201120      196740   \n",
       "5      5       1622408400  0.000542  0.00035      201120      196740   \n",
       "6      6       1622412000  0.000542  0.00035      201120      196740   \n",
       "7      7       1622415600  0.000542  0.00035      201120      196740   \n",
       "8      8       1622419200  0.000542  0.00035      201120      196740   \n",
       "9      9       1622422800  0.000542  0.00035      201120      196740   \n",
       "\n",
       "       tick     liquidity     amountUSD        fees  \n",
       "0  198486.0  2.955344e+19  2.303598e+07   97.555589  \n",
       "1  198382.0  3.093428e+19  9.405126e+06   36.509524  \n",
       "2  198254.0  3.040995e+19  1.087038e+07   40.873872  \n",
       "3  198290.0  2.947882e+19  7.864582e+06   30.922322  \n",
       "4  198305.0  4.947310e+19  1.400576e+07   33.000362  \n",
       "5  198355.0  5.023388e+19  1.489900e+07   35.243610  \n",
       "6  198426.0  3.123902e+19  7.951657e+06   31.100406  \n",
       "7  198521.0  3.075176e+19  7.257897e+06   29.963479  \n",
       "8  198650.0  2.638387e+19  2.960617e+07  150.395405  \n",
       "9  198871.0  2.434524e+19  1.916945e+07  111.276283  "
      ]
     },
     "execution_count": 67,
     "metadata": {},
     "output_type": "execute_result"
    }
   ],
   "source": [
    "df_positions_fees.head(10)"
   ]
  },
  {
   "cell_type": "code",
   "execution_count": null,
   "id": "d5b869d5",
   "metadata": {},
   "outputs": [],
   "source": []
  },
  {
   "cell_type": "code",
   "execution_count": null,
   "id": "4526d356",
   "metadata": {},
   "outputs": [],
   "source": []
  },
  {
   "cell_type": "code",
   "execution_count": null,
   "id": "17e035f2",
   "metadata": {},
   "outputs": [],
   "source": []
  },
  {
   "cell_type": "code",
   "execution_count": null,
   "id": "7291827a",
   "metadata": {},
   "outputs": [],
   "source": []
  },
  {
   "cell_type": "code",
   "execution_count": null,
   "id": "d4e05681",
   "metadata": {},
   "outputs": [],
   "source": []
  },
  {
   "cell_type": "code",
   "execution_count": null,
   "id": "2cc40755",
   "metadata": {},
   "outputs": [],
   "source": []
  },
  {
   "cell_type": "code",
   "execution_count": null,
   "id": "64c2d40a",
   "metadata": {},
   "outputs": [],
   "source": []
  },
  {
   "cell_type": "code",
   "execution_count": null,
   "id": "6c9b690e",
   "metadata": {},
   "outputs": [],
   "source": []
  },
  {
   "cell_type": "code",
   "execution_count": null,
   "id": "723749ad",
   "metadata": {},
   "outputs": [],
   "source": []
  },
  {
   "cell_type": "code",
   "execution_count": null,
   "id": "46f9efa4",
   "metadata": {},
   "outputs": [],
   "source": []
  },
  {
   "cell_type": "code",
   "execution_count": null,
   "id": "f2cb90ef",
   "metadata": {},
   "outputs": [],
   "source": []
  },
  {
   "cell_type": "code",
   "execution_count": null,
   "id": "0dd11845",
   "metadata": {},
   "outputs": [],
   "source": []
  },
  {
   "cell_type": "code",
   "execution_count": null,
   "id": "2fa793d9",
   "metadata": {},
   "outputs": [],
   "source": []
  },
  {
   "cell_type": "code",
   "execution_count": null,
   "id": "e85c470b",
   "metadata": {},
   "outputs": [],
   "source": []
  },
  {
   "cell_type": "code",
   "execution_count": null,
   "id": "00be60e8",
   "metadata": {},
   "outputs": [],
   "source": []
  },
  {
   "cell_type": "code",
   "execution_count": null,
   "id": "1566cd1e",
   "metadata": {},
   "outputs": [],
   "source": []
  },
  {
   "cell_type": "code",
   "execution_count": null,
   "id": "78c84485",
   "metadata": {},
   "outputs": [],
   "source": [
    "df_merged = pd.read_csv('../data/df_merged_DAI-WETH-3000-timestamp-1627466400-1620158400.csv')\n",
    "watch_list = ['periodStartUnix',  \n",
    "              'txCount', 'swaps_txCount', # check data integrity\n",
    "              'amount0', 'amount1', 'amountUSD', # swaps data, note: amountUSD is sqrt(P)\n",
    "              'tick', 'liquidity', 'sqrtPrice', 'tvlUSD', # pool data at that hour (liquidity is for the whole pool)\n",
    "              'pool.token0.symbol', 'pool.token1.symbol', # token data\n",
    "              'token0Price', 'token1Price'\n",
    "             ]\n",
    "# https://github.com/Uniswap/uniswap-v3-subgraph/blob/main/schema.graphql\n",
    "df_merged[watch_list].sample(15)"
   ]
  },
  {
   "cell_type": "code",
   "execution_count": null,
   "id": "4646a3b2",
   "metadata": {},
   "outputs": [],
   "source": []
  },
  {
   "cell_type": "code",
   "execution_count": null,
   "id": "c2e8be12",
   "metadata": {},
   "outputs": [],
   "source": []
  },
  {
   "cell_type": "code",
   "execution_count": null,
   "id": "aee65c3b",
   "metadata": {},
   "outputs": [],
   "source": []
  },
  {
   "cell_type": "code",
   "execution_count": null,
   "id": "a7fc732d",
   "metadata": {},
   "outputs": [],
   "source": []
  }
 ],
 "metadata": {
  "kernelspec": {
   "display_name": "Python 3",
   "language": "python",
   "name": "python3"
  },
  "language_info": {
   "codemirror_mode": {
    "name": "ipython",
    "version": 3
   },
   "file_extension": ".py",
   "mimetype": "text/x-python",
   "name": "python",
   "nbconvert_exporter": "python",
   "pygments_lexer": "ipython3",
   "version": "3.8.10"
  }
 },
 "nbformat": 4,
 "nbformat_minor": 5
}
